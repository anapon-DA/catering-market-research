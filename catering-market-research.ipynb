{
 "cells": [
  {
   "cell_type": "markdown",
   "metadata": {
    "toc": true
   },
   "source": [
    "<h1>Table of Contents<span class=\"tocSkip\"></span></h1>\n",
    "<div class=\"toc\"><ul class=\"toc-item\"><li><span><a href=\"#Загрузка-и-предобработка-данных\" data-toc-modified-id=\"Загрузка-и-предобработка-данных-1\"><span class=\"toc-item-num\">1&nbsp;&nbsp;</span>Загрузка и предобработка данных</a></span><ul class=\"toc-item\"><li><span><a href=\"#Загрузка-и-первичное-изучение-данных\" data-toc-modified-id=\"Загрузка-и-первичное-изучение-данных-1.1\"><span class=\"toc-item-num\">1.1&nbsp;&nbsp;</span>Загрузка и первичное изучение данных</a></span></li><li><span><a href=\"#Предобработка-данных\" data-toc-modified-id=\"Предобработка-данных-1.2\"><span class=\"toc-item-num\">1.2&nbsp;&nbsp;</span>Предобработка данных</a></span><ul class=\"toc-item\"><li><span><a href=\"#Обработка-пропусков\" data-toc-modified-id=\"Обработка-пропусков-1.2.1\"><span class=\"toc-item-num\">1.2.1&nbsp;&nbsp;</span>Обработка пропусков</a></span></li><li><span><a href=\"#Обработка-дубликатов\" data-toc-modified-id=\"Обработка-дубликатов-1.2.2\"><span class=\"toc-item-num\">1.2.2&nbsp;&nbsp;</span>Обработка дубликатов</a></span></li><li><span><a href=\"#Дополнительные-изучение-и-оптимизация-данных-перед-анализом\" data-toc-modified-id=\"Дополнительные-изучение-и-оптимизация-данных-перед-анализом-1.2.3\"><span class=\"toc-item-num\">1.2.3&nbsp;&nbsp;</span>Дополнительные изучение и оптимизация данных перед анализом</a></span></li></ul></li><li><span><a href=\"#Вывод\" data-toc-modified-id=\"Вывод-1.3\"><span class=\"toc-item-num\">1.3&nbsp;&nbsp;</span>Вывод</a></span></li></ul></li><li><span><a href=\"#Анализ-данных\" data-toc-modified-id=\"Анализ-данных-2\"><span class=\"toc-item-num\">2&nbsp;&nbsp;</span>Анализ данных</a></span><ul class=\"toc-item\"><li><span><a href=\"#Соотношение-видов-объектов-общественного-питания-по-количеству\" data-toc-modified-id=\"Соотношение-видов-объектов-общественного-питания-по-количеству-2.1\"><span class=\"toc-item-num\">2.1&nbsp;&nbsp;</span>Соотношение видов объектов общественного питания по количеству</a></span></li><li><span><a href=\"#Соотношение-сетевых-и-несетевых-заведений-по-количеству\" data-toc-modified-id=\"Соотношение-сетевых-и-несетевых-заведений-по-количеству-2.2\"><span class=\"toc-item-num\">2.2&nbsp;&nbsp;</span>Соотношение сетевых и несетевых заведений по количеству</a></span></li><li><span><a href=\"#Виды-объектов-общественного-питания-и-сетевое-распространение\" data-toc-modified-id=\"Виды-объектов-общественного-питания-и-сетевое-распространение-2.3\"><span class=\"toc-item-num\">2.3&nbsp;&nbsp;</span>Виды объектов общественного питания и сетевое распространение</a></span></li><li><span><a href=\"#Характеристики-сетевых-заведений-по-количеству-объектов-и-посадочных-мест\" data-toc-modified-id=\"Характеристики-сетевых-заведений-по-количеству-объектов-и-посадочных-мест-2.4\"><span class=\"toc-item-num\">2.4&nbsp;&nbsp;</span>Характеристики сетевых заведений по количеству объектов и посадочных мест</a></span></li><li><span><a href=\"#Среднее-количество-посадочных-мест-для-каждого-вида-объекта-общественного-питания\" data-toc-modified-id=\"Среднее-количество-посадочных-мест-для-каждого-вида-объекта-общественного-питания-2.5\"><span class=\"toc-item-num\">2.5&nbsp;&nbsp;</span>Среднее количество посадочных мест для каждого вида объекта общественного питания</a></span></li><li><span><a href=\"#Создание-отдельного-столбца-информации-об-улице\" data-toc-modified-id=\"Создание-отдельного-столбца-информации-об-улице-2.6\"><span class=\"toc-item-num\">2.6&nbsp;&nbsp;</span>Создание отдельного столбца информации об улице</a></span></li><li><span><a href=\"#Топ-10-улиц-по-количеству-объектов-общественного-питания\" data-toc-modified-id=\"Топ-10-улиц-по-количеству-объектов-общественного-питания-2.7\"><span class=\"toc-item-num\">2.7&nbsp;&nbsp;</span>Топ-10 улиц по количеству объектов общественного питания</a></span></li><li><span><a href=\"#Улицы-с-одним-объектом-общественного-питания\" data-toc-modified-id=\"Улицы-с-одним-объектом-общественного-питания-2.8\"><span class=\"toc-item-num\">2.8&nbsp;&nbsp;</span>Улицы с одним объектом общественного питания</a></span></li><li><span><a href=\"#Распределение-количества-посадочных-мест-для-улиц-с-большим-числом-объектов-общественного-питания\" data-toc-modified-id=\"Распределение-количества-посадочных-мест-для-улиц-с-большим-числом-объектов-общественного-питания-2.9\"><span class=\"toc-item-num\">2.9&nbsp;&nbsp;</span>Распределение количества посадочных мест для улиц с большим числом объектов общественного питания</a></span></li></ul></li><li><span><a href=\"#Общий-вывод-и-рекомендации\" data-toc-modified-id=\"Общий-вывод-и-рекомендации-3\"><span class=\"toc-item-num\">3&nbsp;&nbsp;</span>Общий вывод и рекомендации</a></span></li><li><span><a href=\"#Презентация\" data-toc-modified-id=\"Презентация-4\"><span class=\"toc-item-num\">4&nbsp;&nbsp;</span>Презентация</a></span></li></ul></div>"
   ]
  },
  {
   "cell_type": "markdown",
   "metadata": {},
   "source": [
    "# Исследование рынка заведений общественного питания Москвы для инвесторов"
   ]
  },
  {
   "cell_type": "markdown",
   "metadata": {},
   "source": [
    "Планируется открытие небольшого кафе в Москве, где гостей будут обслуживать роботы. Проект дорогой, поэтому необходимы инвестиции в проект. Инвесторов интересует положение дел на рынке заведений общественного питания Москвы. \n",
    "\n",
    "Есть открытые данные о заведениях общественного питания в Москве с информацией о сетевых и несетевых заведениях, их типах, местоположении, количестве посадочных мест объектов общественного питания.\n",
    "\n",
    "Необходимо провести исследование рынка для инвесторов, сделать выводы и сформулировать рекомендации."
   ]
  },
  {
   "cell_type": "markdown",
   "metadata": {},
   "source": [
    "## Загрузка и предобработка данных"
   ]
  },
  {
   "cell_type": "markdown",
   "metadata": {},
   "source": [
    "### Загрузка и первичное изучение данных"
   ]
  },
  {
   "cell_type": "code",
   "execution_count": 2,
   "metadata": {},
   "outputs": [],
   "source": [
    "# импортируем нужные библиотеки\n",
    "import pandas as pd\n",
    "import numpy as np\n",
    "import seaborn as sns\n",
    "import scipy.stats as stats\n",
    "from IPython.display import display\n",
    "from datetime import datetime, timedelta\n",
    "import matplotlib.pyplot as plt "
   ]
  },
  {
   "cell_type": "markdown",
   "metadata": {},
   "source": [
    "В файле '/datasets/rest_data.csv' данные о заведениях общественного питания Москвы."
   ]
  },
  {
   "cell_type": "code",
   "execution_count": 3,
   "metadata": {},
   "outputs": [],
   "source": [
    "rest_data = pd.read_csv('/datasets/rest_data.csv') # запишем файл в переменную"
   ]
  },
  {
   "cell_type": "code",
   "execution_count": 4,
   "metadata": {},
   "outputs": [],
   "source": [
    "def df_info(df): # функция для изучения содержимого датафреймов\n",
    "    display(df.head())\n",
    "    print('-*' * 50)\n",
    "    df.info()\n",
    "    print('-*' * 50)\n",
    "    display(df.describe())"
   ]
  },
  {
   "cell_type": "code",
   "execution_count": 5,
   "metadata": {
    "scrolled": false
   },
   "outputs": [
    {
     "data": {
      "text/html": [
       "<div>\n",
       "<style scoped>\n",
       "    .dataframe tbody tr th:only-of-type {\n",
       "        vertical-align: middle;\n",
       "    }\n",
       "\n",
       "    .dataframe tbody tr th {\n",
       "        vertical-align: top;\n",
       "    }\n",
       "\n",
       "    .dataframe thead th {\n",
       "        text-align: right;\n",
       "    }\n",
       "</style>\n",
       "<table border=\"1\" class=\"dataframe\">\n",
       "  <thead>\n",
       "    <tr style=\"text-align: right;\">\n",
       "      <th></th>\n",
       "      <th>id</th>\n",
       "      <th>object_name</th>\n",
       "      <th>chain</th>\n",
       "      <th>object_type</th>\n",
       "      <th>address</th>\n",
       "      <th>number</th>\n",
       "    </tr>\n",
       "  </thead>\n",
       "  <tbody>\n",
       "    <tr>\n",
       "      <th>0</th>\n",
       "      <td>151635</td>\n",
       "      <td>СМЕТАНА</td>\n",
       "      <td>нет</td>\n",
       "      <td>кафе</td>\n",
       "      <td>город Москва, улица Егора Абакумова, дом 9</td>\n",
       "      <td>48</td>\n",
       "    </tr>\n",
       "    <tr>\n",
       "      <th>1</th>\n",
       "      <td>77874</td>\n",
       "      <td>Родник</td>\n",
       "      <td>нет</td>\n",
       "      <td>кафе</td>\n",
       "      <td>город Москва, улица Талалихина, дом 2/1, корпус 1</td>\n",
       "      <td>35</td>\n",
       "    </tr>\n",
       "    <tr>\n",
       "      <th>2</th>\n",
       "      <td>24309</td>\n",
       "      <td>Кафе «Академия»</td>\n",
       "      <td>нет</td>\n",
       "      <td>кафе</td>\n",
       "      <td>город Москва, Абельмановская улица, дом 6</td>\n",
       "      <td>95</td>\n",
       "    </tr>\n",
       "    <tr>\n",
       "      <th>3</th>\n",
       "      <td>21894</td>\n",
       "      <td>ПИЦЦЕТОРИЯ</td>\n",
       "      <td>да</td>\n",
       "      <td>кафе</td>\n",
       "      <td>город Москва, Абрамцевская улица, дом 1</td>\n",
       "      <td>40</td>\n",
       "    </tr>\n",
       "    <tr>\n",
       "      <th>4</th>\n",
       "      <td>119365</td>\n",
       "      <td>Кафе «Вишневая метель»</td>\n",
       "      <td>нет</td>\n",
       "      <td>кафе</td>\n",
       "      <td>город Москва, Абрамцевская улица, дом 9, корпус 1</td>\n",
       "      <td>50</td>\n",
       "    </tr>\n",
       "  </tbody>\n",
       "</table>\n",
       "</div>"
      ],
      "text/plain": [
       "       id             object_name chain object_type  \\\n",
       "0  151635                 СМЕТАНА   нет        кафе   \n",
       "1   77874                  Родник   нет        кафе   \n",
       "2   24309         Кафе «Академия»   нет        кафе   \n",
       "3   21894              ПИЦЦЕТОРИЯ    да        кафе   \n",
       "4  119365  Кафе «Вишневая метель»   нет        кафе   \n",
       "\n",
       "                                             address  number  \n",
       "0         город Москва, улица Егора Абакумова, дом 9      48  \n",
       "1  город Москва, улица Талалихина, дом 2/1, корпус 1      35  \n",
       "2          город Москва, Абельмановская улица, дом 6      95  \n",
       "3            город Москва, Абрамцевская улица, дом 1      40  \n",
       "4  город Москва, Абрамцевская улица, дом 9, корпус 1      50  "
      ]
     },
     "metadata": {},
     "output_type": "display_data"
    },
    {
     "name": "stdout",
     "output_type": "stream",
     "text": [
      "-*-*-*-*-*-*-*-*-*-*-*-*-*-*-*-*-*-*-*-*-*-*-*-*-*-*-*-*-*-*-*-*-*-*-*-*-*-*-*-*-*-*-*-*-*-*-*-*-*-*\n",
      "<class 'pandas.core.frame.DataFrame'>\n",
      "RangeIndex: 15366 entries, 0 to 15365\n",
      "Data columns (total 6 columns):\n",
      " #   Column       Non-Null Count  Dtype \n",
      "---  ------       --------------  ----- \n",
      " 0   id           15366 non-null  int64 \n",
      " 1   object_name  15366 non-null  object\n",
      " 2   chain        15366 non-null  object\n",
      " 3   object_type  15366 non-null  object\n",
      " 4   address      15366 non-null  object\n",
      " 5   number       15366 non-null  int64 \n",
      "dtypes: int64(2), object(4)\n",
      "memory usage: 720.4+ KB\n",
      "-*-*-*-*-*-*-*-*-*-*-*-*-*-*-*-*-*-*-*-*-*-*-*-*-*-*-*-*-*-*-*-*-*-*-*-*-*-*-*-*-*-*-*-*-*-*-*-*-*-*\n"
     ]
    },
    {
     "data": {
      "text/html": [
       "<div>\n",
       "<style scoped>\n",
       "    .dataframe tbody tr th:only-of-type {\n",
       "        vertical-align: middle;\n",
       "    }\n",
       "\n",
       "    .dataframe tbody tr th {\n",
       "        vertical-align: top;\n",
       "    }\n",
       "\n",
       "    .dataframe thead th {\n",
       "        text-align: right;\n",
       "    }\n",
       "</style>\n",
       "<table border=\"1\" class=\"dataframe\">\n",
       "  <thead>\n",
       "    <tr style=\"text-align: right;\">\n",
       "      <th></th>\n",
       "      <th>id</th>\n",
       "      <th>number</th>\n",
       "    </tr>\n",
       "  </thead>\n",
       "  <tbody>\n",
       "    <tr>\n",
       "      <th>count</th>\n",
       "      <td>15366.000000</td>\n",
       "      <td>15366.000000</td>\n",
       "    </tr>\n",
       "    <tr>\n",
       "      <th>mean</th>\n",
       "      <td>119720.066901</td>\n",
       "      <td>59.547182</td>\n",
       "    </tr>\n",
       "    <tr>\n",
       "      <th>std</th>\n",
       "      <td>73036.130732</td>\n",
       "      <td>74.736833</td>\n",
       "    </tr>\n",
       "    <tr>\n",
       "      <th>min</th>\n",
       "      <td>838.000000</td>\n",
       "      <td>0.000000</td>\n",
       "    </tr>\n",
       "    <tr>\n",
       "      <th>25%</th>\n",
       "      <td>28524.000000</td>\n",
       "      <td>12.000000</td>\n",
       "    </tr>\n",
       "    <tr>\n",
       "      <th>50%</th>\n",
       "      <td>144974.500000</td>\n",
       "      <td>40.000000</td>\n",
       "    </tr>\n",
       "    <tr>\n",
       "      <th>75%</th>\n",
       "      <td>184262.250000</td>\n",
       "      <td>80.000000</td>\n",
       "    </tr>\n",
       "    <tr>\n",
       "      <th>max</th>\n",
       "      <td>223439.000000</td>\n",
       "      <td>1700.000000</td>\n",
       "    </tr>\n",
       "  </tbody>\n",
       "</table>\n",
       "</div>"
      ],
      "text/plain": [
       "                  id        number\n",
       "count   15366.000000  15366.000000\n",
       "mean   119720.066901     59.547182\n",
       "std     73036.130732     74.736833\n",
       "min       838.000000      0.000000\n",
       "25%     28524.000000     12.000000\n",
       "50%    144974.500000     40.000000\n",
       "75%    184262.250000     80.000000\n",
       "max    223439.000000   1700.000000"
      ]
     },
     "metadata": {},
     "output_type": "display_data"
    }
   ],
   "source": [
    "df_info(rest_data)"
   ]
  },
  {
   "cell_type": "markdown",
   "metadata": {},
   "source": [
    "Обращают на себя внимание минимальное и максимальное значение данных в столбце number (количество посадочных мест).\n",
    "\n",
    "Изучим данные детальнее"
   ]
  },
  {
   "cell_type": "code",
   "execution_count": 6,
   "metadata": {},
   "outputs": [
    {
     "name": "stdout",
     "output_type": "stream",
     "text": [
      "Количество уникальные названий точек общественного питания: 10393\n"
     ]
    }
   ],
   "source": [
    "print('Количество уникальные названий точек общественного питания:', rest_data['object_name'].nunique())"
   ]
  },
  {
   "cell_type": "markdown",
   "metadata": {},
   "source": [
    "Такой объем уникальных значений вручную не обработать, в дальнейшем обратимся к доступным нам инструментам pandas"
   ]
  },
  {
   "cell_type": "markdown",
   "metadata": {},
   "source": [
    "### Предобработка данных"
   ]
  },
  {
   "cell_type": "markdown",
   "metadata": {},
   "source": [
    "#### Обработка пропусков"
   ]
  },
  {
   "cell_type": "code",
   "execution_count": 7,
   "metadata": {},
   "outputs": [
    {
     "name": "stdout",
     "output_type": "stream",
     "text": [
      "Доля пропусков в данных:\n",
      "id             0.0\n",
      "object_name    0.0\n",
      "chain          0.0\n",
      "object_type    0.0\n",
      "address        0.0\n",
      "number         0.0\n",
      "dtype: float64\n"
     ]
    }
   ],
   "source": [
    "print('Доля пропусков в данных:')\n",
    "print(rest_data.isna().mean())"
   ]
  },
  {
   "cell_type": "markdown",
   "metadata": {},
   "source": [
    "Пропущенных значений (Null) в данных нет."
   ]
  },
  {
   "cell_type": "markdown",
   "metadata": {},
   "source": [
    "Проверим количественные данные на наличие нестандартных вариантов (например, пропущенное значение как 0):"
   ]
  },
  {
   "cell_type": "code",
   "execution_count": 8,
   "metadata": {
    "scrolled": true
   },
   "outputs": [
    {
     "name": "stdout",
     "output_type": "stream",
     "text": [
      "Значения столбца id: MIN 838 | MAX 223439\n",
      "Значения количества посадочных мест: MIN 0 | MAX 1700\n"
     ]
    }
   ],
   "source": [
    "print('Значения столбца id: MIN {} | MAX {}'.format(rest_data['id'].min(), rest_data['id'].max()))\n",
    "print('Значения количества посадочных мест: MIN {} | MAX {}'.format(rest_data['number'].min(), rest_data['number'].max()))"
   ]
  },
  {
   "cell_type": "markdown",
   "metadata": {},
   "source": [
    "Со столбцом id всё нормально, но в number встретились интересные цифры количества посадочных мест.\n",
    "\n",
    "Посмотрим на распределение величин."
   ]
  },
  {
   "cell_type": "code",
   "execution_count": 9,
   "metadata": {},
   "outputs": [
    {
     "data": {
      "image/png": "[encoded data removed]",
      "text/plain": [
       "<Figure size 720x360 with 1 Axes>"
      ]
     },
     "metadata": {
      "needs_background": "light"
     },
     "output_type": "display_data"
    }
   ],
   "source": [
    "plt.figure(figsize=(10, 5))\n",
    "sns.histplot(rest_data['number'], kde='True', bins=50).set_title('Распределение величины количества посадочных мест')\n",
    "sns.despine()\n",
    "plt.show()"
   ]
  },
  {
   "cell_type": "markdown",
   "metadata": {},
   "source": [
    "Пик у нуля и длинный хвост величин свыше 250.\n",
    "\n",
    "Посмотрим, у каких заведений 0 посадочных мест."
   ]
  },
  {
   "cell_type": "code",
   "execution_count": 10,
   "metadata": {},
   "outputs": [
    {
     "data": {
      "text/html": [
       "<div>\n",
       "<style scoped>\n",
       "    .dataframe tbody tr th:only-of-type {\n",
       "        vertical-align: middle;\n",
       "    }\n",
       "\n",
       "    .dataframe tbody tr th {\n",
       "        vertical-align: top;\n",
       "    }\n",
       "\n",
       "    .dataframe thead th {\n",
       "        text-align: right;\n",
       "    }\n",
       "</style>\n",
       "<table border=\"1\" class=\"dataframe\">\n",
       "  <thead>\n",
       "    <tr style=\"text-align: right;\">\n",
       "      <th></th>\n",
       "      <th>id</th>\n",
       "      <th>object_name</th>\n",
       "      <th>chain</th>\n",
       "      <th>object_type</th>\n",
       "      <th>address</th>\n",
       "      <th>number</th>\n",
       "    </tr>\n",
       "  </thead>\n",
       "  <tbody>\n",
       "    <tr>\n",
       "      <th>137</th>\n",
       "      <td>115498</td>\n",
       "      <td>Пекарня &amp; Донер</td>\n",
       "      <td>нет</td>\n",
       "      <td>закусочная</td>\n",
       "      <td>город Москва, Бутырская улица, дом 9, корпус 2</td>\n",
       "      <td>0</td>\n",
       "    </tr>\n",
       "    <tr>\n",
       "      <th>154</th>\n",
       "      <td>152556</td>\n",
       "      <td>Шаурма в пите</td>\n",
       "      <td>нет</td>\n",
       "      <td>предприятие быстрого обслуживания</td>\n",
       "      <td>город Москва, Варшавское шоссе, дом 72, корпус 2</td>\n",
       "      <td>0</td>\n",
       "    </tr>\n",
       "    <tr>\n",
       "      <th>157</th>\n",
       "      <td>149568</td>\n",
       "      <td>Суши</td>\n",
       "      <td>нет</td>\n",
       "      <td>предприятие быстрого обслуживания</td>\n",
       "      <td>город Москва, улица Маршала Василевского, дом ...</td>\n",
       "      <td>0</td>\n",
       "    </tr>\n",
       "    <tr>\n",
       "      <th>190</th>\n",
       "      <td>126956</td>\n",
       "      <td>Шаурма, куры-гриль</td>\n",
       "      <td>нет</td>\n",
       "      <td>предприятие быстрого обслуживания</td>\n",
       "      <td>город Москва, 1-я Владимирская улица, дом 21</td>\n",
       "      <td>0</td>\n",
       "    </tr>\n",
       "    <tr>\n",
       "      <th>195</th>\n",
       "      <td>149531</td>\n",
       "      <td>Шаурма, куры-гриль</td>\n",
       "      <td>нет</td>\n",
       "      <td>предприятие быстрого обслуживания</td>\n",
       "      <td>город Москва, 2-я Владимирская улица, дом 44/10</td>\n",
       "      <td>0</td>\n",
       "    </tr>\n",
       "  </tbody>\n",
       "</table>\n",
       "</div>"
      ],
      "text/plain": [
       "         id         object_name chain                        object_type  \\\n",
       "137  115498     Пекарня & Донер   нет                         закусочная   \n",
       "154  152556       Шаурма в пите   нет  предприятие быстрого обслуживания   \n",
       "157  149568                Суши   нет  предприятие быстрого обслуживания   \n",
       "190  126956  Шаурма, куры-гриль   нет  предприятие быстрого обслуживания   \n",
       "195  149531  Шаурма, куры-гриль   нет  предприятие быстрого обслуживания   \n",
       "\n",
       "                                               address  number  \n",
       "137     город Москва, Бутырская улица, дом 9, корпус 2       0  \n",
       "154   город Москва, Варшавское шоссе, дом 72, корпус 2       0  \n",
       "157  город Москва, улица Маршала Василевского, дом ...       0  \n",
       "190       город Москва, 1-я Владимирская улица, дом 21       0  \n",
       "195    город Москва, 2-я Владимирская улица, дом 44/10       0  "
      ]
     },
     "execution_count": 10,
     "metadata": {},
     "output_type": "execute_result"
    }
   ],
   "source": [
    "rest_data.query('number == 0').head(5)"
   ]
  },
  {
   "cell_type": "markdown",
   "metadata": {},
   "source": [
    "Похоже, что у заведений действительно может быть 0 посадочных мест - если это ларёк, например."
   ]
  },
  {
   "cell_type": "markdown",
   "metadata": {},
   "source": [
    "#### Обработка дубликатов"
   ]
  },
  {
   "cell_type": "code",
   "execution_count": 11,
   "metadata": {},
   "outputs": [],
   "source": [
    "#перед поиском и удалением дубликатов приведем строковые значения, имеющие заглавные буквы, к единому регистру\n",
    "address = rest_data['address'].copy() # сохраним оригиналы адресов"
   ]
  },
  {
   "cell_type": "code",
   "execution_count": 12,
   "metadata": {},
   "outputs": [],
   "source": [
    "rest_data['object_name'] = rest_data['object_name'].str.lower()\n",
    "rest_data['address'] = rest_data['address'].str.lower()"
   ]
  },
  {
   "cell_type": "code",
   "execution_count": 13,
   "metadata": {},
   "outputs": [
    {
     "data": {
      "text/plain": [
       "0"
      ]
     },
     "execution_count": 13,
     "metadata": {},
     "output_type": "execute_result"
    }
   ],
   "source": [
    "rest_data.duplicated().sum() #поиск дубликатов, их количество"
   ]
  },
  {
   "cell_type": "markdown",
   "metadata": {},
   "source": [
    "Дубликаты строк не найдены. Произведем поиск дубликатов по id заведения"
   ]
  },
  {
   "cell_type": "code",
   "execution_count": 14,
   "metadata": {},
   "outputs": [
    {
     "data": {
      "text/plain": [
       "0"
      ]
     },
     "execution_count": 14,
     "metadata": {},
     "output_type": "execute_result"
    }
   ],
   "source": [
    "rest_data['id'].duplicated().sum() #поиск дубликатов id"
   ]
  },
  {
   "cell_type": "code",
   "execution_count": 15,
   "metadata": {},
   "outputs": [],
   "source": [
    "rest_data['address'] = address # восстановим оригинальные адреса"
   ]
  },
  {
   "cell_type": "markdown",
   "metadata": {},
   "source": [
    "Повторы id отсутствуют."
   ]
  },
  {
   "cell_type": "markdown",
   "metadata": {},
   "source": [
    "#### Дополнительные изучение и оптимизация данных перед анализом"
   ]
  },
  {
   "cell_type": "markdown",
   "metadata": {},
   "source": [
    "Теперь проверим, что с большим количеством посадочных мест."
   ]
  },
  {
   "cell_type": "code",
   "execution_count": 16,
   "metadata": {},
   "outputs": [
    {
     "data": {
      "text/html": [
       "<div>\n",
       "<style scoped>\n",
       "    .dataframe tbody tr th:only-of-type {\n",
       "        vertical-align: middle;\n",
       "    }\n",
       "\n",
       "    .dataframe tbody tr th {\n",
       "        vertical-align: top;\n",
       "    }\n",
       "\n",
       "    .dataframe thead th {\n",
       "        text-align: right;\n",
       "    }\n",
       "</style>\n",
       "<table border=\"1\" class=\"dataframe\">\n",
       "  <thead>\n",
       "    <tr style=\"text-align: right;\">\n",
       "      <th></th>\n",
       "      <th>id</th>\n",
       "      <th>object_name</th>\n",
       "      <th>chain</th>\n",
       "      <th>object_type</th>\n",
       "      <th>address</th>\n",
       "      <th>number</th>\n",
       "    </tr>\n",
       "  </thead>\n",
       "  <tbody>\n",
       "    <tr>\n",
       "      <th>5</th>\n",
       "      <td>27429</td>\n",
       "      <td>стол. при гоу сош № 1051</td>\n",
       "      <td>нет</td>\n",
       "      <td>столовая</td>\n",
       "      <td>город Москва, Абрамцевская улица, дом 15, корп...</td>\n",
       "      <td>240</td>\n",
       "    </tr>\n",
       "    <tr>\n",
       "      <th>14</th>\n",
       "      <td>23670</td>\n",
       "      <td>гимназия 1542</td>\n",
       "      <td>нет</td>\n",
       "      <td>столовая</td>\n",
       "      <td>город Москва, улица Авиаторов, дом 16</td>\n",
       "      <td>270</td>\n",
       "    </tr>\n",
       "    <tr>\n",
       "      <th>15</th>\n",
       "      <td>23663</td>\n",
       "      <td>школа 1011</td>\n",
       "      <td>нет</td>\n",
       "      <td>столовая</td>\n",
       "      <td>город Москва, улица Авиаторов, дом 18</td>\n",
       "      <td>320</td>\n",
       "    </tr>\n",
       "    <tr>\n",
       "      <th>28</th>\n",
       "      <td>27439</td>\n",
       "      <td>школа 1444</td>\n",
       "      <td>нет</td>\n",
       "      <td>столовая</td>\n",
       "      <td>город Москва, Анадырский проезд, дом 55</td>\n",
       "      <td>240</td>\n",
       "    </tr>\n",
       "    <tr>\n",
       "      <th>31</th>\n",
       "      <td>29006</td>\n",
       "      <td>гимназия № 1527</td>\n",
       "      <td>нет</td>\n",
       "      <td>столовая</td>\n",
       "      <td>город Москва, проспект Андропова, дом 17, корп...</td>\n",
       "      <td>240</td>\n",
       "    </tr>\n",
       "    <tr>\n",
       "      <th>...</th>\n",
       "      <td>...</td>\n",
       "      <td>...</td>\n",
       "      <td>...</td>\n",
       "      <td>...</td>\n",
       "      <td>...</td>\n",
       "      <td>...</td>\n",
       "    </tr>\n",
       "    <tr>\n",
       "      <th>14745</th>\n",
       "      <td>213945</td>\n",
       "      <td>кутузов, давыдов, барклай</td>\n",
       "      <td>нет</td>\n",
       "      <td>ресторан</td>\n",
       "      <td>город Москва, Русаковская улица, дом 13, строе...</td>\n",
       "      <td>300</td>\n",
       "    </tr>\n",
       "    <tr>\n",
       "      <th>14776</th>\n",
       "      <td>209567</td>\n",
       "      <td>шантри</td>\n",
       "      <td>нет</td>\n",
       "      <td>ресторан</td>\n",
       "      <td>город Москва, Цветной бульвар, дом 30, строение 1</td>\n",
       "      <td>250</td>\n",
       "    </tr>\n",
       "    <tr>\n",
       "      <th>14806</th>\n",
       "      <td>217895</td>\n",
       "      <td>ресторан - глобус</td>\n",
       "      <td>нет</td>\n",
       "      <td>ресторан</td>\n",
       "      <td>город Москва, Новорижское шоссе, 22-й километр...</td>\n",
       "      <td>400</td>\n",
       "    </tr>\n",
       "    <tr>\n",
       "      <th>14971</th>\n",
       "      <td>208949</td>\n",
       "      <td>столовая</td>\n",
       "      <td>нет</td>\n",
       "      <td>столовая</td>\n",
       "      <td>город Москва, Отрадная улица, дом 2Б, строение 9</td>\n",
       "      <td>250</td>\n",
       "    </tr>\n",
       "    <tr>\n",
       "      <th>15023</th>\n",
       "      <td>210164</td>\n",
       "      <td>osteria mario+швили</td>\n",
       "      <td>нет</td>\n",
       "      <td>ресторан</td>\n",
       "      <td>город Москва, поселение Московский, Киевское ш...</td>\n",
       "      <td>273</td>\n",
       "    </tr>\n",
       "  </tbody>\n",
       "</table>\n",
       "<p>768 rows × 6 columns</p>\n",
       "</div>"
      ],
      "text/plain": [
       "           id                object_name chain object_type  \\\n",
       "5       27429   стол. при гоу сош № 1051   нет    столовая   \n",
       "14      23670              гимназия 1542   нет    столовая   \n",
       "15      23663                 школа 1011   нет    столовая   \n",
       "28      27439                 школа 1444   нет    столовая   \n",
       "31      29006            гимназия № 1527   нет    столовая   \n",
       "...       ...                        ...   ...         ...   \n",
       "14745  213945  кутузов, давыдов, барклай   нет    ресторан   \n",
       "14776  209567                     шантри   нет    ресторан   \n",
       "14806  217895          ресторан - глобус   нет    ресторан   \n",
       "14971  208949                   столовая   нет    столовая   \n",
       "15023  210164        osteria mario+швили   нет    ресторан   \n",
       "\n",
       "                                                 address  number  \n",
       "5      город Москва, Абрамцевская улица, дом 15, корп...     240  \n",
       "14                 город Москва, улица Авиаторов, дом 16     270  \n",
       "15                 город Москва, улица Авиаторов, дом 18     320  \n",
       "28               город Москва, Анадырский проезд, дом 55     240  \n",
       "31     город Москва, проспект Андропова, дом 17, корп...     240  \n",
       "...                                                  ...     ...  \n",
       "14745  город Москва, Русаковская улица, дом 13, строе...     300  \n",
       "14776  город Москва, Цветной бульвар, дом 30, строение 1     250  \n",
       "14806  город Москва, Новорижское шоссе, 22-й километр...     400  \n",
       "14971   город Москва, Отрадная улица, дом 2Б, строение 9     250  \n",
       "15023  город Москва, поселение Московский, Киевское ш...     273  \n",
       "\n",
       "[768 rows x 6 columns]"
      ]
     },
     "execution_count": 16,
     "metadata": {},
     "output_type": "execute_result"
    }
   ],
   "source": [
    "rest_data[rest_data['number'] > np.percentile(rest_data['number'], 95)] # выбираем 95й процентиль"
   ]
  },
  {
   "cell_type": "markdown",
   "metadata": {},
   "source": [
    "Похоже, относительно небольшая часть точек питания действительно имеет очень большое количество посадочных мест, особенно это касается столовых."
   ]
  },
  {
   "cell_type": "markdown",
   "metadata": {},
   "source": [
    " "
   ]
  },
  {
   "cell_type": "markdown",
   "metadata": {},
   "source": [
    "Отдельно выделим и изучим заведения с количеством посадочных мест свыше 1000 - есть ли какие-то ошибки или особенности."
   ]
  },
  {
   "cell_type": "code",
   "execution_count": 17,
   "metadata": {},
   "outputs": [
    {
     "data": {
      "text/html": [
       "<div>\n",
       "<style scoped>\n",
       "    .dataframe tbody tr th:only-of-type {\n",
       "        vertical-align: middle;\n",
       "    }\n",
       "\n",
       "    .dataframe tbody tr th {\n",
       "        vertical-align: top;\n",
       "    }\n",
       "\n",
       "    .dataframe thead th {\n",
       "        text-align: right;\n",
       "    }\n",
       "</style>\n",
       "<table border=\"1\" class=\"dataframe\">\n",
       "  <thead>\n",
       "    <tr style=\"text-align: right;\">\n",
       "      <th></th>\n",
       "      <th>id</th>\n",
       "      <th>object_name</th>\n",
       "      <th>chain</th>\n",
       "      <th>object_type</th>\n",
       "      <th>address</th>\n",
       "      <th>number</th>\n",
       "    </tr>\n",
       "  </thead>\n",
       "  <tbody>\n",
       "    <tr>\n",
       "      <th>2313</th>\n",
       "      <td>26560</td>\n",
       "      <td>ресторан «альфа»</td>\n",
       "      <td>нет</td>\n",
       "      <td>ресторан</td>\n",
       "      <td>город Москва, Измайловское шоссе, дом 71, корп...</td>\n",
       "      <td>1040</td>\n",
       "    </tr>\n",
       "    <tr>\n",
       "      <th>3686</th>\n",
       "      <td>27026</td>\n",
       "      <td>рум сервис</td>\n",
       "      <td>нет</td>\n",
       "      <td>ресторан</td>\n",
       "      <td>город Москва, площадь Европы, дом 2</td>\n",
       "      <td>1200</td>\n",
       "    </tr>\n",
       "    <tr>\n",
       "      <th>4480</th>\n",
       "      <td>27024</td>\n",
       "      <td>рум сервис</td>\n",
       "      <td>нет</td>\n",
       "      <td>ресторан</td>\n",
       "      <td>город Москва, Кутузовский проспект, дом 2/1, с...</td>\n",
       "      <td>1200</td>\n",
       "    </tr>\n",
       "    <tr>\n",
       "      <th>8148</th>\n",
       "      <td>80291</td>\n",
       "      <td>банкетный зал шелк</td>\n",
       "      <td>нет</td>\n",
       "      <td>ресторан</td>\n",
       "      <td>город Москва, Большой Саввинский переулок, дом...</td>\n",
       "      <td>1500</td>\n",
       "    </tr>\n",
       "    <tr>\n",
       "      <th>8345</th>\n",
       "      <td>27750</td>\n",
       "      <td>столовая-буфет</td>\n",
       "      <td>нет</td>\n",
       "      <td>столовая</td>\n",
       "      <td>город Москва, улица Волхонка, дом 15</td>\n",
       "      <td>1400</td>\n",
       "    </tr>\n",
       "    <tr>\n",
       "      <th>9064</th>\n",
       "      <td>19719</td>\n",
       "      <td>комбинат питания «управление академсервис»</td>\n",
       "      <td>нет</td>\n",
       "      <td>столовая</td>\n",
       "      <td>город Москва, проспект Вернадского, дом 84, ст...</td>\n",
       "      <td>1288</td>\n",
       "    </tr>\n",
       "    <tr>\n",
       "      <th>12723</th>\n",
       "      <td>199696</td>\n",
       "      <td>arena by soho family</td>\n",
       "      <td>нет</td>\n",
       "      <td>бар</td>\n",
       "      <td>город Москва, Кутузовский проспект, дом 36, ст...</td>\n",
       "      <td>1700</td>\n",
       "    </tr>\n",
       "  </tbody>\n",
       "</table>\n",
       "</div>"
      ],
      "text/plain": [
       "           id                                 object_name chain object_type  \\\n",
       "2313    26560                            ресторан «альфа»   нет    ресторан   \n",
       "3686    27026                                  рум сервис   нет    ресторан   \n",
       "4480    27024                                  рум сервис   нет    ресторан   \n",
       "8148    80291                          банкетный зал шелк   нет    ресторан   \n",
       "8345    27750                              столовая-буфет   нет    столовая   \n",
       "9064    19719  комбинат питания «управление академсервис»   нет    столовая   \n",
       "12723  199696                        arena by soho family   нет         бар   \n",
       "\n",
       "                                                 address  number  \n",
       "2313   город Москва, Измайловское шоссе, дом 71, корп...    1040  \n",
       "3686                 город Москва, площадь Европы, дом 2    1200  \n",
       "4480   город Москва, Кутузовский проспект, дом 2/1, с...    1200  \n",
       "8148   город Москва, Большой Саввинский переулок, дом...    1500  \n",
       "8345                город Москва, улица Волхонка, дом 15    1400  \n",
       "9064   город Москва, проспект Вернадского, дом 84, ст...    1288  \n",
       "12723  город Москва, Кутузовский проспект, дом 36, ст...    1700  "
      ]
     },
     "execution_count": 17,
     "metadata": {},
     "output_type": "execute_result"
    }
   ],
   "source": [
    "rest_data[rest_data['number'] > 1000] # проверим, что с точками, где свыше 1000 посадочных мест"
   ]
  },
  {
   "cell_type": "markdown",
   "metadata": {},
   "source": [
    "Всего 7 точек, где свыше 1000 посадочных мест, часть - это рум-сервис (очевидно, рестораны гостиниц), другие - это большие банкетные залы или рестораны, столовые, большой бар для мероприятий."
   ]
  },
  {
   "cell_type": "markdown",
   "metadata": {},
   "source": [
    " "
   ]
  },
  {
   "cell_type": "code",
   "execution_count": 18,
   "metadata": {},
   "outputs": [
    {
     "name": "stdout",
     "output_type": "stream",
     "text": [
      "['нет' 'да']\n"
     ]
    }
   ],
   "source": [
    "print(rest_data['chain'].unique()) # проверим, что больше ничего не закралось в столбец"
   ]
  },
  {
   "cell_type": "markdown",
   "metadata": {},
   "source": [
    " "
   ]
  },
  {
   "cell_type": "markdown",
   "metadata": {},
   "source": [
    "Переименуем столбец с количеством мест, чтобы название столбца нагляднее отражало то, какая информация в нем содержится."
   ]
  },
  {
   "cell_type": "code",
   "execution_count": 19,
   "metadata": {},
   "outputs": [],
   "source": [
    "rest_data = rest_data.rename(columns={'number': 'seats'})"
   ]
  },
  {
   "cell_type": "markdown",
   "metadata": {},
   "source": [
    "### Вывод"
   ]
  },
  {
   "cell_type": "markdown",
   "metadata": {},
   "source": [
    "Данные об объектах общественного питания записаны в переменные.\n",
    "\n",
    "Столбец количества посадочных мест переименован, чтобы соответствовать по смыслу названия своему содержанию.\n",
    "\n",
    "Пропущенных значений (non-null count совпадает с entries) и дубликатов обнаружено не было.\n",
    "\n",
    "Данные подготовлены к анализу."
   ]
  },
  {
   "cell_type": "markdown",
   "metadata": {},
   "source": [
    "## Анализ данных"
   ]
  },
  {
   "cell_type": "markdown",
   "metadata": {},
   "source": [
    "### Соотношение видов объектов общественного питания по количеству"
   ]
  },
  {
   "cell_type": "code",
   "execution_count": 20,
   "metadata": {},
   "outputs": [],
   "source": [
    "object_type = rest_data.groupby('object_type').agg({'id': 'count'}).sort_values('id', ascending=False) # агрегируем данные\n",
    "object_type = object_type.rename(columns={'id': 'object_count'}) # переименуем столбец по смыслу\n",
    "object_type['ratio'] = object_type['object_count'] / object_type['object_count'].sum()\n",
    "object_type.loc['ИТОГО'] = object_type.sum() # итоговая строка для наглядности\n",
    "object_type['object_count'] = object_type['object_count'].astype('int')\n",
    "object_type['ratio'] = (object_type['ratio'] * 100).round(2).astype(str) + '%'"
   ]
  },
  {
   "cell_type": "markdown",
   "metadata": {},
   "source": [
    "Виды объектов общественного питания и их доля в общем количестве заведений:"
   ]
  },
  {
   "cell_type": "code",
   "execution_count": 21,
   "metadata": {},
   "outputs": [
    {
     "data": {
      "text/html": [
       "<div>\n",
       "<style scoped>\n",
       "    .dataframe tbody tr th:only-of-type {\n",
       "        vertical-align: middle;\n",
       "    }\n",
       "\n",
       "    .dataframe tbody tr th {\n",
       "        vertical-align: top;\n",
       "    }\n",
       "\n",
       "    .dataframe thead th {\n",
       "        text-align: right;\n",
       "    }\n",
       "</style>\n",
       "<table border=\"1\" class=\"dataframe\">\n",
       "  <thead>\n",
       "    <tr style=\"text-align: right;\">\n",
       "      <th></th>\n",
       "      <th>object_type</th>\n",
       "      <th>object_count</th>\n",
       "      <th>ratio</th>\n",
       "    </tr>\n",
       "  </thead>\n",
       "  <tbody>\n",
       "    <tr>\n",
       "      <th>0</th>\n",
       "      <td>кафе</td>\n",
       "      <td>6099</td>\n",
       "      <td>39.69%</td>\n",
       "    </tr>\n",
       "    <tr>\n",
       "      <th>1</th>\n",
       "      <td>столовая</td>\n",
       "      <td>2587</td>\n",
       "      <td>16.84%</td>\n",
       "    </tr>\n",
       "    <tr>\n",
       "      <th>2</th>\n",
       "      <td>ресторан</td>\n",
       "      <td>2285</td>\n",
       "      <td>14.87%</td>\n",
       "    </tr>\n",
       "    <tr>\n",
       "      <th>3</th>\n",
       "      <td>предприятие быстрого обслуживания</td>\n",
       "      <td>1923</td>\n",
       "      <td>12.51%</td>\n",
       "    </tr>\n",
       "    <tr>\n",
       "      <th>4</th>\n",
       "      <td>бар</td>\n",
       "      <td>856</td>\n",
       "      <td>5.57%</td>\n",
       "    </tr>\n",
       "    <tr>\n",
       "      <th>5</th>\n",
       "      <td>буфет</td>\n",
       "      <td>585</td>\n",
       "      <td>3.81%</td>\n",
       "    </tr>\n",
       "    <tr>\n",
       "      <th>6</th>\n",
       "      <td>кафетерий</td>\n",
       "      <td>398</td>\n",
       "      <td>2.59%</td>\n",
       "    </tr>\n",
       "    <tr>\n",
       "      <th>7</th>\n",
       "      <td>закусочная</td>\n",
       "      <td>360</td>\n",
       "      <td>2.34%</td>\n",
       "    </tr>\n",
       "    <tr>\n",
       "      <th>8</th>\n",
       "      <td>магазин (отдел кулинарии)</td>\n",
       "      <td>273</td>\n",
       "      <td>1.78%</td>\n",
       "    </tr>\n",
       "    <tr>\n",
       "      <th>9</th>\n",
       "      <td>ИТОГО</td>\n",
       "      <td>15366</td>\n",
       "      <td>100.0%</td>\n",
       "    </tr>\n",
       "  </tbody>\n",
       "</table>\n",
       "</div>"
      ],
      "text/plain": [
       "                         object_type  object_count   ratio\n",
       "0                               кафе          6099  39.69%\n",
       "1                           столовая          2587  16.84%\n",
       "2                           ресторан          2285  14.87%\n",
       "3  предприятие быстрого обслуживания          1923  12.51%\n",
       "4                                бар           856   5.57%\n",
       "5                              буфет           585   3.81%\n",
       "6                          кафетерий           398   2.59%\n",
       "7                         закусочная           360   2.34%\n",
       "8          магазин (отдел кулинарии)           273   1.78%\n",
       "9                              ИТОГО         15366  100.0%"
      ]
     },
     "execution_count": 21,
     "metadata": {},
     "output_type": "execute_result"
    }
   ],
   "source": [
    "object_type = object_type.reset_index()\n",
    "object_type"
   ]
  },
  {
   "cell_type": "markdown",
   "metadata": {},
   "source": [
    "Столбчатая диаграмма хорошо продемонстрирует количество различных видов объектов общественного питания и их соотношение."
   ]
  },
  {
   "cell_type": "code",
   "execution_count": 22,
   "metadata": {},
   "outputs": [
    {
     "data": {
      "image/png": "[encoded data removed]",
      "text/plain": [
       "<Figure size 720x360 with 1 Axes>"
      ]
     },
     "metadata": {
      "needs_background": "light"
     },
     "output_type": "display_data"
    }
   ],
   "source": [
    "plt.figure(figsize=(10, 5))\n",
    "sns.barplot(data=object_type, x='object_count', y='object_type', color='cyan', order=list(object_type['object_type'][:8])\n",
    "    ).set_title('Соотношение видов объектов общественного питания по количеству', fontsize=16)\n",
    "plt.grid(alpha=0.5)\n",
    "plt.xticks(fontsize=12)\n",
    "plt.yticks(fontsize=12)\n",
    "plt.xlabel('Количество объектов', fontsize=14)\n",
    "plt.ylabel('Вид объекта', fontsize=14)\n",
    "sns.despine()\n",
    "plt.show()"
   ]
  },
  {
   "cell_type": "markdown",
   "metadata": {},
   "source": [
    "Можно было бы обратить внимание на повтор \"кафе\" и \"кафетерия\", но, проведя небольшое исследование в интернете, выясняем, что кафе и кафетерий - это немного разные виды объектов общественного питания:\n",
    "> Кафе - заведение общественного питания и отдыха, похожее на небольшой ресторан, но с ограниченным по сравнению с рестораном ассортиментом продукции.\n",
    "\n",
    "> Кафетерий — небольшое кафе, предлагающее клиентам кофе и кофейные напитки, десерты и выпечку. Данный тип заведения работает в режиме самообслуживания и имеет весьма ограниченный ассортимент блюд."
   ]
  },
  {
   "cell_type": "markdown",
   "metadata": {},
   "source": [
    "Больше всего в Москве объектов общественного питания кафе: 40%. На втором месте столовая - 17%, на третьем рестораны - 15%. Предприятия быстрого обслуживания занимают 12.5% доли рынка. Это самые распространенные типы заведений в городе.\n",
    "\n",
    "Остальные виды заведений составляют менее 6% каждый."
   ]
  },
  {
   "cell_type": "markdown",
   "metadata": {},
   "source": [
    "### Соотношение сетевых и несетевых заведений по количеству"
   ]
  },
  {
   "cell_type": "code",
   "execution_count": 23,
   "metadata": {},
   "outputs": [],
   "source": [
    "object_chain = rest_data.groupby('chain').agg({'id': 'count'}).sort_values('id', ascending=False) # агрегируем данные\n",
    "object_chain = object_chain.rename(columns={'id': 'object_count'}) # переименуем столбец по смыслу\n",
    "object_chain['ratio'] = object_chain['object_count'] / object_chain['object_count'].sum()\n",
    "object_chain.loc['ИТОГО'] = object_chain.sum() # итоговая строка для наглядности\n",
    "object_chain['object_count'] = object_chain['object_count'].astype('int')\n",
    "object_chain['ratio'] = (object_chain['ratio'] * 100).round(2).astype(str) + '%'"
   ]
  },
  {
   "cell_type": "code",
   "execution_count": 24,
   "metadata": {},
   "outputs": [
    {
     "name": "stdout",
     "output_type": "stream",
     "text": [
      "4.76%\n"
     ]
    }
   ],
   "source": [
    "print(f'{1/21:.2%}')"
   ]
  },
  {
   "cell_type": "markdown",
   "metadata": {},
   "source": [
    "Сетевые и несетевые объекты общественного питания и их доля в общем количестве заведений:"
   ]
  },
  {
   "cell_type": "code",
   "execution_count": 25,
   "metadata": {},
   "outputs": [
    {
     "data": {
      "text/html": [
       "<div>\n",
       "<style scoped>\n",
       "    .dataframe tbody tr th:only-of-type {\n",
       "        vertical-align: middle;\n",
       "    }\n",
       "\n",
       "    .dataframe tbody tr th {\n",
       "        vertical-align: top;\n",
       "    }\n",
       "\n",
       "    .dataframe thead th {\n",
       "        text-align: right;\n",
       "    }\n",
       "</style>\n",
       "<table border=\"1\" class=\"dataframe\">\n",
       "  <thead>\n",
       "    <tr style=\"text-align: right;\">\n",
       "      <th></th>\n",
       "      <th>object_count</th>\n",
       "      <th>ratio</th>\n",
       "    </tr>\n",
       "    <tr>\n",
       "      <th>chain</th>\n",
       "      <th></th>\n",
       "      <th></th>\n",
       "    </tr>\n",
       "  </thead>\n",
       "  <tbody>\n",
       "    <tr>\n",
       "      <th>нет</th>\n",
       "      <td>12398</td>\n",
       "      <td>80.68%</td>\n",
       "    </tr>\n",
       "    <tr>\n",
       "      <th>да</th>\n",
       "      <td>2968</td>\n",
       "      <td>19.32%</td>\n",
       "    </tr>\n",
       "    <tr>\n",
       "      <th>ИТОГО</th>\n",
       "      <td>15366</td>\n",
       "      <td>100.0%</td>\n",
       "    </tr>\n",
       "  </tbody>\n",
       "</table>\n",
       "</div>"
      ],
      "text/plain": [
       "       object_count   ratio\n",
       "chain                      \n",
       "нет           12398  80.68%\n",
       "да             2968  19.32%\n",
       "ИТОГО         15366  100.0%"
      ]
     },
     "execution_count": 25,
     "metadata": {},
     "output_type": "execute_result"
    }
   ],
   "source": [
    "object_chain"
   ]
  },
  {
   "cell_type": "markdown",
   "metadata": {},
   "source": [
    "Столбчатая диаграмма продемонстрирует количество различных видов объектов общественного питания и их соотношение."
   ]
  },
  {
   "cell_type": "code",
   "execution_count": 26,
   "metadata": {
    "scrolled": true
   },
   "outputs": [
    {
     "data": {
      "image/png": "[encoded data removed]",
      "text/plain": [
       "<Figure size 216x360 with 1 Axes>"
      ]
     },
     "metadata": {
      "needs_background": "light"
     },
     "output_type": "display_data"
    }
   ],
   "source": [
    "plt.figure(figsize=(3, 5))\n",
    "sns.histplot(rest_data['chain']).set_title('Соотношение сетевых и несетевых заведений по количеству', fontsize=14)\n",
    "plt.grid(alpha=0.5)\n",
    "plt.xlabel('Принадлежность объекта к сети', fontsize=12)\n",
    "plt.ylabel('Количество объектов', fontsize=12)\n",
    "sns.despine()\n",
    "plt.show()"
   ]
  },
  {
   "cell_type": "markdown",
   "metadata": {},
   "source": [
    "Круговая диаграмма хорошо покажет соотношение."
   ]
  },
  {
   "cell_type": "code",
   "execution_count": 27,
   "metadata": {},
   "outputs": [
    {
     "data": {
      "image/png": "[encoded data removed]",
      "text/plain": [
       "<Figure size 504x504 with 1 Axes>"
      ]
     },
     "metadata": {},
     "output_type": "display_data"
    }
   ],
   "source": [
    "plt.figure(figsize=(7, 7))\n",
    "colors = sns.color_palette('pastel')\n",
    "plt.pie(\n",
    "    rest_data.groupby('chain').agg({'id': 'count'}).sort_values('id', ascending=False)['id'], \n",
    "    labels=['несетевые', 'сетевые'],\n",
    "    autopct='%.2f%%',\n",
    "    colors=colors\n",
    ")\n",
    "plt.title('Соотношение сетевых и несетевых заведений')\n",
    "plt.show()"
   ]
  },
  {
   "cell_type": "markdown",
   "metadata": {},
   "source": [
    " "
   ]
  },
  {
   "cell_type": "markdown",
   "metadata": {},
   "source": [
    "Подавляющее большинство (80.7%) объектов общественного питания Москвы - несетевые.\n",
    "\n",
    "Всего 19.3% заведений города относятся к различным сетям."
   ]
  },
  {
   "cell_type": "markdown",
   "metadata": {},
   "source": [
    "### Виды объектов общественного питания и сетевое распространение"
   ]
  },
  {
   "cell_type": "markdown",
   "metadata": {},
   "source": [
    "График наглядно продемонстрирует, для каких видов объектов общественного питания характерно сетевое распространение:"
   ]
  },
  {
   "cell_type": "code",
   "execution_count": 30,
   "metadata": {},
   "outputs": [
    {
     "data": {
      "text/html": [
       "<style  type=\"text/css\" >\n",
       "</style><table id=\"T_c08b9_\" ><thead>    <tr>        <th class=\"index_name level0\" >chain</th>        <th class=\"col_heading level0 col0\" >chain</th>        <th class=\"col_heading level0 col1\" >nonchain</th>        <th class=\"col_heading level0 col2\" >chain_fraction</th>    </tr>    <tr>        <th class=\"index_name level0\" >object_type</th>        <th class=\"blank\" ></th>        <th class=\"blank\" ></th>        <th class=\"blank\" ></th>    </tr></thead><tbody>\n",
       "                <tr>\n",
       "                        <th id=\"T_c08b9_level0_row0\" class=\"row_heading level0 row0\" >предприятие быстрого обслуживания</th>\n",
       "                        <td id=\"T_c08b9_row0_col0\" class=\"data row0 col0\" >791</td>\n",
       "                        <td id=\"T_c08b9_row0_col1\" class=\"data row0 col1\" >1132</td>\n",
       "                        <td id=\"T_c08b9_row0_col2\" class=\"data row0 col2\" >41.1%</td>\n",
       "            </tr>\n",
       "            <tr>\n",
       "                        <th id=\"T_c08b9_level0_row1\" class=\"row_heading level0 row1\" >магазин (отдел кулинарии)</th>\n",
       "                        <td id=\"T_c08b9_row1_col0\" class=\"data row1 col0\" >78</td>\n",
       "                        <td id=\"T_c08b9_row1_col1\" class=\"data row1 col1\" >195</td>\n",
       "                        <td id=\"T_c08b9_row1_col2\" class=\"data row1 col2\" >28.6%</td>\n",
       "            </tr>\n",
       "            <tr>\n",
       "                        <th id=\"T_c08b9_level0_row2\" class=\"row_heading level0 row2\" >ресторан</th>\n",
       "                        <td id=\"T_c08b9_row2_col0\" class=\"data row2 col0\" >544</td>\n",
       "                        <td id=\"T_c08b9_row2_col1\" class=\"data row2 col1\" >1741</td>\n",
       "                        <td id=\"T_c08b9_row2_col2\" class=\"data row2 col2\" >23.8%</td>\n",
       "            </tr>\n",
       "            <tr>\n",
       "                        <th id=\"T_c08b9_level0_row3\" class=\"row_heading level0 row3\" >кафе</th>\n",
       "                        <td id=\"T_c08b9_row3_col0\" class=\"data row3 col0\" >1396</td>\n",
       "                        <td id=\"T_c08b9_row3_col1\" class=\"data row3 col1\" >4703</td>\n",
       "                        <td id=\"T_c08b9_row3_col2\" class=\"data row3 col2\" >22.9%</td>\n",
       "            </tr>\n",
       "            <tr>\n",
       "                        <th id=\"T_c08b9_level0_row4\" class=\"row_heading level0 row4\" >закусочная</th>\n",
       "                        <td id=\"T_c08b9_row4_col0\" class=\"data row4 col0\" >56</td>\n",
       "                        <td id=\"T_c08b9_row4_col1\" class=\"data row4 col1\" >304</td>\n",
       "                        <td id=\"T_c08b9_row4_col2\" class=\"data row4 col2\" >15.6%</td>\n",
       "            </tr>\n",
       "            <tr>\n",
       "                        <th id=\"T_c08b9_level0_row5\" class=\"row_heading level0 row5\" >кафетерий</th>\n",
       "                        <td id=\"T_c08b9_row5_col0\" class=\"data row5 col0\" >52</td>\n",
       "                        <td id=\"T_c08b9_row5_col1\" class=\"data row5 col1\" >346</td>\n",
       "                        <td id=\"T_c08b9_row5_col2\" class=\"data row5 col2\" >13.1%</td>\n",
       "            </tr>\n",
       "            <tr>\n",
       "                        <th id=\"T_c08b9_level0_row6\" class=\"row_heading level0 row6\" >бар</th>\n",
       "                        <td id=\"T_c08b9_row6_col0\" class=\"data row6 col0\" >37</td>\n",
       "                        <td id=\"T_c08b9_row6_col1\" class=\"data row6 col1\" >819</td>\n",
       "                        <td id=\"T_c08b9_row6_col2\" class=\"data row6 col2\" >4.3%</td>\n",
       "            </tr>\n",
       "            <tr>\n",
       "                        <th id=\"T_c08b9_level0_row7\" class=\"row_heading level0 row7\" >буфет</th>\n",
       "                        <td id=\"T_c08b9_row7_col0\" class=\"data row7 col0\" >11</td>\n",
       "                        <td id=\"T_c08b9_row7_col1\" class=\"data row7 col1\" >574</td>\n",
       "                        <td id=\"T_c08b9_row7_col2\" class=\"data row7 col2\" >1.9%</td>\n",
       "            </tr>\n",
       "            <tr>\n",
       "                        <th id=\"T_c08b9_level0_row8\" class=\"row_heading level0 row8\" >столовая</th>\n",
       "                        <td id=\"T_c08b9_row8_col0\" class=\"data row8 col0\" >3</td>\n",
       "                        <td id=\"T_c08b9_row8_col1\" class=\"data row8 col1\" >2584</td>\n",
       "                        <td id=\"T_c08b9_row8_col2\" class=\"data row8 col2\" >0.1%</td>\n",
       "            </tr>\n",
       "    </tbody></table>"
      ],
      "text/plain": [
       "<pandas.io.formats.style.Styler at 0x7f7548750e50>"
      ]
     },
     "execution_count": 30,
     "metadata": {},
     "output_type": "execute_result"
    }
   ],
   "source": [
    "df_chain = rest_data\\\n",
    "                .pivot_table(\n",
    "                    index='object_type', \n",
    "                    columns='chain', \n",
    "                    values='id', \n",
    "                    aggfunc='nunique')\\\n",
    "                .rename(columns={\n",
    "                    \"да\":\"chain\",\n",
    "                    \"нет\":\"nonchain\"})\n",
    "df_chain\\\n",
    "    .assign(\n",
    "        chain_fraction = df_chain.chain / df_chain.sum(axis=1))\\\n",
    "    .sort_values(\"chain_fraction\",ascending=False)\\\n",
    "    .style\\\n",
    "    .format({\"chain_fraction\": \"{:.1%}\"})\n",
    "    "
   ]
  },
  {
   "cell_type": "code",
   "execution_count": 31,
   "metadata": {},
   "outputs": [
    {
     "data": {
      "image/png": "[encoded data removed]",
      "text/plain": [
       "<Figure size 1080x360 with 1 Axes>"
      ]
     },
     "metadata": {
      "needs_background": "light"
     },
     "output_type": "display_data"
    }
   ],
   "source": [
    "df_chain = rest_data.pivot_table(index='object_type', columns='chain', values='id', aggfunc='nunique')\n",
    "df_chain['sum'] = df_chain['да'] + df_chain['нет']\n",
    "df_chain['да'] = df_chain['да'] / df_chain['sum']\n",
    "df_chain['нет'] = df_chain['нет'] / df_chain['sum']\n",
    "df_chain = df_chain.drop(columns=['sum']).sort_values('нет', ascending=False)\n",
    "df_chain.plot(\n",
    "    kind='bar', \n",
    "    figsize=(15, 5), \n",
    "    title='Виды объектов общественного питания и сетевое распространение', \n",
    "    grid=True, \n",
    "    rot=45,\n",
    "    xlabel='Вид объекта',\n",
    "    ylabel='Доля'\n",
    ")\n",
    "sns.despine()"
   ]
  },
  {
   "cell_type": "markdown",
   "metadata": {},
   "source": [
    "Сетевое распространение наиболее характерно для предприятий быстрого обслуживания: 41.1% фастфудов Москвы - сетевые.\n",
    "\n",
    "Также к сетям часто относятся отделы кулинарии магазинов (28.6%), рестораны (23.8%), кафе (22.9%), кафетерии (13.1%) и закусочные (15.6%)."
   ]
  },
  {
   "cell_type": "markdown",
   "metadata": {},
   "source": [
    "### Характеристики сетевых заведений по количеству объектов и посадочных мест"
   ]
  },
  {
   "cell_type": "code",
   "execution_count": 32,
   "metadata": {},
   "outputs": [],
   "source": [
    "chains = rest_data.query('chain == \"да\"').groupby('object_name').agg({'object_name': 'count', 'seats': 'median'})\n",
    "chains.columns = ['objects_number', 'seats_median']"
   ]
  },
  {
   "cell_type": "code",
   "execution_count": 33,
   "metadata": {
    "scrolled": false
   },
   "outputs": [
    {
     "data": {
      "image/png": "[encoded data removed]",
      "text/plain": [
       "<Figure size 720x504 with 1 Axes>"
      ]
     },
     "metadata": {
      "needs_background": "light"
     },
     "output_type": "display_data"
    }
   ],
   "source": [
    "plt.figure(figsize=(10, 7))\n",
    "sns.scatterplot(data=chains, x='seats_median', y='objects_number').set_title(\n",
    "    'Распределение количества заведений сети по медианному количеству посадочных мест', fontsize=14\n",
    ")\n",
    "plt.grid(alpha=0.5)\n",
    "plt.xlabel('Медианное количество посадочных мест', fontsize=12)\n",
    "plt.ylabel('Количество заведений', fontsize=12)\n",
    "sns.despine()\n",
    "plt.show()"
   ]
  },
  {
   "cell_type": "code",
   "execution_count": 34,
   "metadata": {},
   "outputs": [
    {
     "data": {
      "text/plain": [
       "<seaborn.axisgrid.JointGrid at 0x7f753df34a30>"
      ]
     },
     "execution_count": 34,
     "metadata": {},
     "output_type": "execute_result"
    },
    {
     "data": {
      "image/png": "[encoded data removed]",
      "text/plain": [
       "<Figure size 432x432 with 3 Axes>"
      ]
     },
     "metadata": {
      "needs_background": "light"
     },
     "output_type": "display_data"
    }
   ],
   "source": [
    "sns.jointplot(x='seats_median', y='objects_number', data=chains, kind='reg')"
   ]
  },
  {
   "cell_type": "markdown",
   "metadata": {},
   "source": [
    "Установим диапазон осей, чтобы график лучше читался."
   ]
  },
  {
   "cell_type": "code",
   "execution_count": 35,
   "metadata": {
    "scrolled": false
   },
   "outputs": [
    {
     "data": {
      "image/png": "[encoded data removed]",
      "text/plain": [
       "<Figure size 720x504 with 1 Axes>"
      ]
     },
     "metadata": {
      "needs_background": "light"
     },
     "output_type": "display_data"
    }
   ],
   "source": [
    "plt.figure(figsize=(10, 7))\n",
    "sns.scatterplot(data=chains, x='seats_median', y='objects_number').set_title(\n",
    "    'Распределение количества заведений сети по медианному количеству посадочных мест', fontsize=14\n",
    ")\n",
    "plt.grid(alpha=0.5)\n",
    "plt.xlabel('Медианное количество посадочных мест', fontsize=12)\n",
    "plt.ylabel('Количество заведений', fontsize=12)\n",
    "plt.xlim([0, 200])\n",
    "plt.ylim([0, 60])\n",
    "sns.despine()\n",
    "plt.show()"
   ]
  },
  {
   "cell_type": "markdown",
   "metadata": {},
   "source": [
    "Точки сосредоточились внизу графика. Для медианного количества посадочных мест в середине оси довольно много точек (горизонтальная ось), а для количества заведений - очень мало точек в середине оси (вертикальная ось). Похоже, в сетях меньше заведений, но больше посадочных мест.\n",
    "\n",
    "Проверим предположение, взглянув на более подробный график."
   ]
  },
  {
   "cell_type": "code",
   "execution_count": 36,
   "metadata": {},
   "outputs": [
    {
     "data": {
      "text/plain": [
       "<seaborn.axisgrid.JointGrid at 0x7f753d7bf8e0>"
      ]
     },
     "execution_count": 36,
     "metadata": {},
     "output_type": "execute_result"
    },
    {
     "data": {
      "image/png": "[encoded data removed]",
      "text/plain": [
       "<Figure size 432x432 with 3 Axes>"
      ]
     },
     "metadata": {
      "needs_background": "light"
     },
     "output_type": "display_data"
    }
   ],
   "source": [
    "sns.jointplot(x='seats_median', y='objects_number', data=chains, kind='reg', ylim=(0, 50))"
   ]
  },
  {
   "cell_type": "markdown",
   "metadata": {},
   "source": [
    "Похоже, так и есть: что у сетей чаще всего бывает мало заведений, а посадочных мест обычно хватает - длинный \"толстый\" хвост для медианы посадочный мест и высокий пик для количества объектов в районе всего 2-3.\n",
    "\n",
    "Изучим распределение с помощью метода describe:"
   ]
  },
  {
   "cell_type": "markdown",
   "metadata": {},
   "source": [
    "Построим гистограмму:"
   ]
  },
  {
   "cell_type": "code",
   "execution_count": 37,
   "metadata": {},
   "outputs": [
    {
     "data": {
      "image/png": "[encoded data removed]",
      "text/plain": [
       "<Figure size 720x360 with 1 Axes>"
      ]
     },
     "metadata": {
      "needs_background": "light"
     },
     "output_type": "display_data"
    }
   ],
   "source": [
    "plt.figure(figsize=(10, 5))\n",
    "sns.histplot(chains, kde='True', bins=20).set_title(\n",
    "    'Распределение количества заведений в сети и медиан посадочных мест, очищено от выбросов'\n",
    ")\n",
    "plt.grid(alpha=0.5)\n",
    "plt.ylabel('Количество объектов', fontsize=12)\n",
    "sns.despine()\n",
    "plt.show()"
   ]
  },
  {
   "cell_type": "markdown",
   "metadata": {},
   "source": [
    "Сгруппируем заведения по сетям и вычислим число заведений и среднее число посадочных мест, отбросим данные, где количество заведений в сети равно единицы (лучше пренебречь такими данными, так как нас интересуют сети, а единица в количестве объектов для сетей появилась из-за многочисленных вариантов написания названий). \n",
    "\n",
    "С помощью describe узнаем значения квантилей. "
   ]
  },
  {
   "cell_type": "code",
   "execution_count": 38,
   "metadata": {},
   "outputs": [
    {
     "data": {
      "text/html": [
       "<div>\n",
       "<style scoped>\n",
       "    .dataframe tbody tr th:only-of-type {\n",
       "        vertical-align: middle;\n",
       "    }\n",
       "\n",
       "    .dataframe tbody tr th {\n",
       "        vertical-align: top;\n",
       "    }\n",
       "\n",
       "    .dataframe thead th {\n",
       "        text-align: right;\n",
       "    }\n",
       "</style>\n",
       "<table border=\"1\" class=\"dataframe\">\n",
       "  <thead>\n",
       "    <tr style=\"text-align: right;\">\n",
       "      <th></th>\n",
       "      <th>seats</th>\n",
       "      <th>id</th>\n",
       "    </tr>\n",
       "  </thead>\n",
       "  <tbody>\n",
       "    <tr>\n",
       "      <th>count</th>\n",
       "      <td>246.000000</td>\n",
       "      <td>246.000000</td>\n",
       "    </tr>\n",
       "    <tr>\n",
       "      <th>mean</th>\n",
       "      <td>59.390484</td>\n",
       "      <td>10.719512</td>\n",
       "    </tr>\n",
       "    <tr>\n",
       "      <th>std</th>\n",
       "      <td>49.547694</td>\n",
       "      <td>22.680536</td>\n",
       "    </tr>\n",
       "    <tr>\n",
       "      <th>min</th>\n",
       "      <td>0.000000</td>\n",
       "      <td>2.000000</td>\n",
       "    </tr>\n",
       "    <tr>\n",
       "      <th>25%</th>\n",
       "      <td>21.125000</td>\n",
       "      <td>2.000000</td>\n",
       "    </tr>\n",
       "    <tr>\n",
       "      <th>50%</th>\n",
       "      <td>44.000000</td>\n",
       "      <td>4.000000</td>\n",
       "    </tr>\n",
       "    <tr>\n",
       "      <th>75%</th>\n",
       "      <td>85.000000</td>\n",
       "      <td>7.000000</td>\n",
       "    </tr>\n",
       "    <tr>\n",
       "      <th>max</th>\n",
       "      <td>258.666667</td>\n",
       "      <td>157.000000</td>\n",
       "    </tr>\n",
       "  </tbody>\n",
       "</table>\n",
       "</div>"
      ],
      "text/plain": [
       "            seats          id\n",
       "count  246.000000  246.000000\n",
       "mean    59.390484   10.719512\n",
       "std     49.547694   22.680536\n",
       "min      0.000000    2.000000\n",
       "25%     21.125000    2.000000\n",
       "50%     44.000000    4.000000\n",
       "75%     85.000000    7.000000\n",
       "max    258.666667  157.000000"
      ]
     },
     "execution_count": 38,
     "metadata": {},
     "output_type": "execute_result"
    }
   ],
   "source": [
    "for_groups = rest_data.query('chain == \"да\"').groupby('object_name').agg(\n",
    "    {'seats': 'mean', 'id': 'count'}\n",
    ").query('id != 1')\n",
    "for_groups.describe()"
   ]
  },
  {
   "cell_type": "markdown",
   "metadata": {},
   "source": [
    "Разобьем сети на группы и подсчитаем количество объектов в каждой из групп."
   ]
  },
  {
   "cell_type": "code",
   "execution_count": 39,
   "metadata": {},
   "outputs": [
    {
     "data": {
      "text/plain": [
       "44.0"
      ]
     },
     "execution_count": 39,
     "metadata": {},
     "output_type": "execute_result"
    }
   ],
   "source": [
    "for_groups['seats'].median()"
   ]
  },
  {
   "cell_type": "code",
   "execution_count": 40,
   "metadata": {},
   "outputs": [],
   "source": [
    "low_low = for_groups[\n",
    "    (for_groups['seats'] <= for_groups['seats'].median()) \\\n",
    "    & (for_groups['id'] <= for_groups['id'].median())\n",
    "] # группа \"мало мест, мало точек питания\" \n",
    "\n",
    "high_seats_low_objects = for_groups[\n",
    "    (for_groups['seats'] > for_groups['seats'].median()) \\\n",
    "    & (for_groups['id'] <= for_groups['id'].median())\n",
    "] # группа \"много мест, мало точек питания\" \n",
    "\n",
    "high_objects_low_seats = for_groups[\n",
    "    (for_groups['seats'] <= for_groups['seats'].median()) \\\n",
    "    & (for_groups['id'] > for_groups['id'].median())\n",
    "] # группа \"мало мест, много точек питания\" \n",
    "\n",
    "high_high = for_groups[\n",
    "    (for_groups['seats'] > for_groups['seats'].median()) \\\n",
    "    & (for_groups['id'] > for_groups['id'].median())\n",
    "] # группа \"много мест, много точек питания\" "
   ]
  },
  {
   "cell_type": "code",
   "execution_count": 41,
   "metadata": {},
   "outputs": [
    {
     "name": "stdout",
     "output_type": "stream",
     "text": [
      "66\n",
      "71\n",
      "58\n",
      "51\n"
     ]
    }
   ],
   "source": [
    "group_list = [low_low, high_seats_low_objects, high_objects_low_seats, high_high]\n",
    "for g in group_list:\n",
    "    print(len(g))"
   ]
  },
  {
   "cell_type": "code",
   "execution_count": 42,
   "metadata": {},
   "outputs": [
    {
     "data": {
      "text/html": [
       "<div>\n",
       "<style scoped>\n",
       "    .dataframe tbody tr th:only-of-type {\n",
       "        vertical-align: middle;\n",
       "    }\n",
       "\n",
       "    .dataframe tbody tr th {\n",
       "        vertical-align: top;\n",
       "    }\n",
       "\n",
       "    .dataframe thead th {\n",
       "        text-align: right;\n",
       "    }\n",
       "</style>\n",
       "<table border=\"1\" class=\"dataframe\">\n",
       "  <thead>\n",
       "    <tr style=\"text-align: right;\">\n",
       "      <th></th>\n",
       "      <th>objects_number</th>\n",
       "      <th>seats_median</th>\n",
       "    </tr>\n",
       "    <tr>\n",
       "      <th>object_name</th>\n",
       "      <th></th>\n",
       "      <th></th>\n",
       "    </tr>\n",
       "  </thead>\n",
       "  <tbody>\n",
       "    <tr>\n",
       "      <th>beverly hills diner</th>\n",
       "      <td>1</td>\n",
       "      <td>88.0</td>\n",
       "    </tr>\n",
       "    <tr>\n",
       "      <th>bierloga</th>\n",
       "      <td>1</td>\n",
       "      <td>75.0</td>\n",
       "    </tr>\n",
       "    <tr>\n",
       "      <th>black &amp; white</th>\n",
       "      <td>1</td>\n",
       "      <td>40.0</td>\n",
       "    </tr>\n",
       "    <tr>\n",
       "      <th>bocconcino</th>\n",
       "      <td>3</td>\n",
       "      <td>68.0</td>\n",
       "    </tr>\n",
       "    <tr>\n",
       "      <th>boobo</th>\n",
       "      <td>1</td>\n",
       "      <td>46.0</td>\n",
       "    </tr>\n",
       "    <tr>\n",
       "      <th>...</th>\n",
       "      <td>...</td>\n",
       "      <td>...</td>\n",
       "    </tr>\n",
       "    <tr>\n",
       "      <th>ямми микс</th>\n",
       "      <td>1</td>\n",
       "      <td>2.0</td>\n",
       "    </tr>\n",
       "    <tr>\n",
       "      <th>ян примус</th>\n",
       "      <td>1</td>\n",
       "      <td>300.0</td>\n",
       "    </tr>\n",
       "    <tr>\n",
       "      <th>японский ресторан «ваби-саби»</th>\n",
       "      <td>1</td>\n",
       "      <td>155.0</td>\n",
       "    </tr>\n",
       "    <tr>\n",
       "      <th>япоша</th>\n",
       "      <td>2</td>\n",
       "      <td>105.0</td>\n",
       "    </tr>\n",
       "    <tr>\n",
       "      <th>ёрш</th>\n",
       "      <td>4</td>\n",
       "      <td>104.0</td>\n",
       "    </tr>\n",
       "  </tbody>\n",
       "</table>\n",
       "<p>577 rows × 2 columns</p>\n",
       "</div>"
      ],
      "text/plain": [
       "                               objects_number  seats_median\n",
       "object_name                                                \n",
       "beverly hills diner                         1          88.0\n",
       "bierloga                                    1          75.0\n",
       "black & white                               1          40.0\n",
       "bocconcino                                  3          68.0\n",
       "boobo                                       1          46.0\n",
       "...                                       ...           ...\n",
       "ямми микс                                   1           2.0\n",
       "ян примус                                   1         300.0\n",
       "японский ресторан «ваби-саби»               1         155.0\n",
       "япоша                                       2         105.0\n",
       "ёрш                                         4         104.0\n",
       "\n",
       "[577 rows x 2 columns]"
      ]
     },
     "execution_count": 42,
     "metadata": {},
     "output_type": "execute_result"
    }
   ],
   "source": [
    "chains"
   ]
  },
  {
   "cell_type": "code",
   "execution_count": 46,
   "metadata": {},
   "outputs": [
    {
     "data": {
      "text/html": [
       "<div>\n",
       "<style scoped>\n",
       "    .dataframe tbody tr th:only-of-type {\n",
       "        vertical-align: middle;\n",
       "    }\n",
       "\n",
       "    .dataframe tbody tr th {\n",
       "        vertical-align: top;\n",
       "    }\n",
       "\n",
       "    .dataframe thead th {\n",
       "        text-align: right;\n",
       "    }\n",
       "</style>\n",
       "<table border=\"1\" class=\"dataframe\">\n",
       "  <thead>\n",
       "    <tr style=\"text-align: right;\">\n",
       "      <th></th>\n",
       "      <th></th>\n",
       "      <th>objects_number</th>\n",
       "    </tr>\n",
       "    <tr>\n",
       "      <th>frequent</th>\n",
       "      <th>roomy</th>\n",
       "      <th></th>\n",
       "    </tr>\n",
       "  </thead>\n",
       "  <tbody>\n",
       "    <tr>\n",
       "      <th rowspan=\"2\" valign=\"top\">False</th>\n",
       "      <th>True</th>\n",
       "      <td>71</td>\n",
       "    </tr>\n",
       "    <tr>\n",
       "      <th>False</th>\n",
       "      <td>66</td>\n",
       "    </tr>\n",
       "    <tr>\n",
       "      <th rowspan=\"2\" valign=\"top\">True</th>\n",
       "      <th>False</th>\n",
       "      <td>58</td>\n",
       "    </tr>\n",
       "    <tr>\n",
       "      <th>True</th>\n",
       "      <td>51</td>\n",
       "    </tr>\n",
       "  </tbody>\n",
       "</table>\n",
       "</div>"
      ],
      "text/plain": [
       "                objects_number\n",
       "frequent roomy                \n",
       "False    True               71\n",
       "         False              66\n",
       "True     False              58\n",
       "         True               51"
      ]
     },
     "execution_count": 46,
     "metadata": {},
     "output_type": "execute_result"
    }
   ],
   "source": [
    "divide = lambda x: x > x.median()\n",
    "for_groups\\\n",
    "    .assign(\n",
    "        frequent = divide(for_groups.id),\n",
    "        roomy = divide(for_groups.seats))\\\n",
    "    .rename(columns={\"id\":\"objects_number\"})\\\n",
    "    .groupby(['frequent','roomy'])\\\n",
    "    .agg({\"objects_number\":\"count\"})\\\n",
    "    .sort_values(\"objects_number\",ascending=False)"
   ]
  },
  {
   "cell_type": "markdown",
   "metadata": {},
   "source": [
    "\"Победила\" группа \"много мест, мало точек питания\"."
   ]
  },
  {
   "cell_type": "markdown",
   "metadata": {},
   "source": [
    "Построив несколько видов графиков и разбив данные на группы по отношению к медиане, мы выяснили, что для сетевых характерно малое количество точек, но большое количество посадочных мест."
   ]
  },
  {
   "cell_type": "code",
   "execution_count": 47,
   "metadata": {},
   "outputs": [
    {
     "data": {
      "text/html": [
       "<div>\n",
       "<style scoped>\n",
       "    .dataframe tbody tr th:only-of-type {\n",
       "        vertical-align: middle;\n",
       "    }\n",
       "\n",
       "    .dataframe tbody tr th {\n",
       "        vertical-align: top;\n",
       "    }\n",
       "\n",
       "    .dataframe thead th {\n",
       "        text-align: right;\n",
       "    }\n",
       "</style>\n",
       "<table border=\"1\" class=\"dataframe\">\n",
       "  <thead>\n",
       "    <tr style=\"text-align: right;\">\n",
       "      <th></th>\n",
       "      <th></th>\n",
       "      <th>objects_number</th>\n",
       "    </tr>\n",
       "    <tr>\n",
       "      <th>frequent</th>\n",
       "      <th>roomy</th>\n",
       "      <th></th>\n",
       "    </tr>\n",
       "  </thead>\n",
       "  <tbody>\n",
       "    <tr>\n",
       "      <th rowspan=\"2\" valign=\"top\">False</th>\n",
       "      <th>False</th>\n",
       "      <td>167</td>\n",
       "    </tr>\n",
       "    <tr>\n",
       "      <th>True</th>\n",
       "      <td>164</td>\n",
       "    </tr>\n",
       "    <tr>\n",
       "      <th rowspan=\"2\" valign=\"top\">True</th>\n",
       "      <th>False</th>\n",
       "      <td>123</td>\n",
       "    </tr>\n",
       "    <tr>\n",
       "      <th>True</th>\n",
       "      <td>123</td>\n",
       "    </tr>\n",
       "  </tbody>\n",
       "</table>\n",
       "</div>"
      ],
      "text/plain": [
       "                objects_number\n",
       "frequent roomy                \n",
       "False    False             167\n",
       "         True              164\n",
       "True     False             123\n",
       "         True              123"
      ]
     },
     "execution_count": 47,
     "metadata": {},
     "output_type": "execute_result"
    }
   ],
   "source": [
    "chains\\\n",
    "    .assign(\n",
    "        frequent = divide(chains.objects_number),\n",
    "        roomy = divide(chains.seats_median))\\\n",
    "    .groupby(['frequent','roomy'])\\\n",
    "    .agg({\"objects_number\":\"count\"})\\\n",
    "    .sort_values(\"objects_number\",ascending=False)"
   ]
  },
  {
   "cell_type": "markdown",
   "metadata": {},
   "source": [
    "### Среднее количество посадочных мест для каждого вида объекта общественного питания "
   ]
  },
  {
   "cell_type": "code",
   "execution_count": 43,
   "metadata": {},
   "outputs": [],
   "source": [
    "seats_mean = rest_data.groupby('object_type').agg({'seats': 'mean'}).sort_values(\n",
    "    'seats', ascending=False).reset_index()"
   ]
  },
  {
   "cell_type": "code",
   "execution_count": 44,
   "metadata": {
    "scrolled": true
   },
   "outputs": [
    {
     "name": "stdout",
     "output_type": "stream",
     "text": [
      "Среднее количество посадочных мест для каждого вида объекта общественного питания:\n"
     ]
    },
    {
     "data": {
      "text/html": [
       "<div>\n",
       "<style scoped>\n",
       "    .dataframe tbody tr th:only-of-type {\n",
       "        vertical-align: middle;\n",
       "    }\n",
       "\n",
       "    .dataframe tbody tr th {\n",
       "        vertical-align: top;\n",
       "    }\n",
       "\n",
       "    .dataframe thead th {\n",
       "        text-align: right;\n",
       "    }\n",
       "</style>\n",
       "<table border=\"1\" class=\"dataframe\">\n",
       "  <thead>\n",
       "    <tr style=\"text-align: right;\">\n",
       "      <th></th>\n",
       "      <th>object_type</th>\n",
       "      <th>seats</th>\n",
       "    </tr>\n",
       "  </thead>\n",
       "  <tbody>\n",
       "    <tr>\n",
       "      <th>0</th>\n",
       "      <td>столовая</td>\n",
       "      <td>130.246618</td>\n",
       "    </tr>\n",
       "    <tr>\n",
       "      <th>1</th>\n",
       "      <td>ресторан</td>\n",
       "      <td>96.834136</td>\n",
       "    </tr>\n",
       "    <tr>\n",
       "      <th>2</th>\n",
       "      <td>буфет</td>\n",
       "      <td>51.129915</td>\n",
       "    </tr>\n",
       "    <tr>\n",
       "      <th>3</th>\n",
       "      <td>бар</td>\n",
       "      <td>43.494159</td>\n",
       "    </tr>\n",
       "    <tr>\n",
       "      <th>4</th>\n",
       "      <td>кафе</td>\n",
       "      <td>39.716019</td>\n",
       "    </tr>\n",
       "    <tr>\n",
       "      <th>5</th>\n",
       "      <td>предприятие быстрого обслуживания</td>\n",
       "      <td>20.552262</td>\n",
       "    </tr>\n",
       "    <tr>\n",
       "      <th>6</th>\n",
       "      <td>кафетерий</td>\n",
       "      <td>9.123116</td>\n",
       "    </tr>\n",
       "    <tr>\n",
       "      <th>7</th>\n",
       "      <td>закусочная</td>\n",
       "      <td>7.608333</td>\n",
       "    </tr>\n",
       "    <tr>\n",
       "      <th>8</th>\n",
       "      <td>магазин (отдел кулинарии)</td>\n",
       "      <td>5.589744</td>\n",
       "    </tr>\n",
       "  </tbody>\n",
       "</table>\n",
       "</div>"
      ],
      "text/plain": [
       "                         object_type       seats\n",
       "0                           столовая  130.246618\n",
       "1                           ресторан   96.834136\n",
       "2                              буфет   51.129915\n",
       "3                                бар   43.494159\n",
       "4                               кафе   39.716019\n",
       "5  предприятие быстрого обслуживания   20.552262\n",
       "6                          кафетерий    9.123116\n",
       "7                         закусочная    7.608333\n",
       "8          магазин (отдел кулинарии)    5.589744"
      ]
     },
     "execution_count": 44,
     "metadata": {},
     "output_type": "execute_result"
    }
   ],
   "source": [
    "print('Среднее количество посадочных мест для каждого вида объекта общественного питания:')\n",
    "seats_mean"
   ]
  },
  {
   "cell_type": "markdown",
   "metadata": {},
   "source": [
    "\"Среднее\", которое требуется посчитать, не лучшим образом отражает данные, поэтому компенсируем это, построив boxplot:"
   ]
  },
  {
   "cell_type": "code",
   "execution_count": 45,
   "metadata": {},
   "outputs": [
    {
     "data": {
      "image/png": "[encoded data removed]",
      "text/plain": [
       "<Figure size 720x360 with 1 Axes>"
      ]
     },
     "metadata": {
      "needs_background": "light"
     },
     "output_type": "display_data"
    }
   ],
   "source": [
    "plt.figure(figsize=(10, 5))\n",
    "sns.boxplot(x='object_type', y='seats', data=rest_data).set_title(\n",
    "    'Boxplot для количества посадочных мест по каждому виду объекта общественного питания', fontsize=14\n",
    ")\n",
    "plt.grid(alpha=0.5)\n",
    "plt.xticks(rotation=45, ha='right')\n",
    "plt.xlabel('Вид объекта', fontsize=12)\n",
    "plt.ylabel('Среднее количество посадочных мест', fontsize=12)\n",
    "sns.despine()\n",
    "plt.show()"
   ]
  },
  {
   "cell_type": "markdown",
   "metadata": {},
   "source": [
    "Данные не выглядят наглядно. Удалим выбросы количества посадочных мест (после 95 процентиля):"
   ]
  },
  {
   "cell_type": "code",
   "execution_count": 46,
   "metadata": {},
   "outputs": [],
   "source": [
    "seats_mean_pure = rest_data[rest_data['seats'] < np.percentile(rest_data['seats'], 95)\n",
    "].groupby('object_type').agg({'seats': 'mean'}).sort_values('seats', ascending=False).reset_index()"
   ]
  },
  {
   "cell_type": "code",
   "execution_count": 47,
   "metadata": {},
   "outputs": [
    {
     "name": "stdout",
     "output_type": "stream",
     "text": [
      "Среднее количество посадочных мест для каждого вида объекта общественного питания на основе данных по количеству посадочных мест до 95го процентиля:\n"
     ]
    },
    {
     "data": {
      "text/html": [
       "<div>\n",
       "<style scoped>\n",
       "    .dataframe tbody tr th:only-of-type {\n",
       "        vertical-align: middle;\n",
       "    }\n",
       "\n",
       "    .dataframe tbody tr th {\n",
       "        vertical-align: top;\n",
       "    }\n",
       "\n",
       "    .dataframe thead th {\n",
       "        text-align: right;\n",
       "    }\n",
       "</style>\n",
       "<table border=\"1\" class=\"dataframe\">\n",
       "  <thead>\n",
       "    <tr style=\"text-align: right;\">\n",
       "      <th></th>\n",
       "      <th>object_type</th>\n",
       "      <th>seats</th>\n",
       "    </tr>\n",
       "  </thead>\n",
       "  <tbody>\n",
       "    <tr>\n",
       "      <th>0</th>\n",
       "      <td>столовая</td>\n",
       "      <td>93.653752</td>\n",
       "    </tr>\n",
       "    <tr>\n",
       "      <th>1</th>\n",
       "      <td>ресторан</td>\n",
       "      <td>78.996256</td>\n",
       "    </tr>\n",
       "    <tr>\n",
       "      <th>2</th>\n",
       "      <td>буфет</td>\n",
       "      <td>44.911972</td>\n",
       "    </tr>\n",
       "    <tr>\n",
       "      <th>3</th>\n",
       "      <td>бар</td>\n",
       "      <td>40.075383</td>\n",
       "    </tr>\n",
       "    <tr>\n",
       "      <th>4</th>\n",
       "      <td>кафе</td>\n",
       "      <td>38.139980</td>\n",
       "    </tr>\n",
       "    <tr>\n",
       "      <th>5</th>\n",
       "      <td>предприятие быстрого обслуживания</td>\n",
       "      <td>19.122257</td>\n",
       "    </tr>\n",
       "    <tr>\n",
       "      <th>6</th>\n",
       "      <td>кафетерий</td>\n",
       "      <td>9.123116</td>\n",
       "    </tr>\n",
       "    <tr>\n",
       "      <th>7</th>\n",
       "      <td>закусочная</td>\n",
       "      <td>7.027855</td>\n",
       "    </tr>\n",
       "    <tr>\n",
       "      <th>8</th>\n",
       "      <td>магазин (отдел кулинарии)</td>\n",
       "      <td>5.589744</td>\n",
       "    </tr>\n",
       "  </tbody>\n",
       "</table>\n",
       "</div>"
      ],
      "text/plain": [
       "                         object_type      seats\n",
       "0                           столовая  93.653752\n",
       "1                           ресторан  78.996256\n",
       "2                              буфет  44.911972\n",
       "3                                бар  40.075383\n",
       "4                               кафе  38.139980\n",
       "5  предприятие быстрого обслуживания  19.122257\n",
       "6                          кафетерий   9.123116\n",
       "7                         закусочная   7.027855\n",
       "8          магазин (отдел кулинарии)   5.589744"
      ]
     },
     "execution_count": 47,
     "metadata": {},
     "output_type": "execute_result"
    }
   ],
   "source": [
    "print('Среднее количество посадочных мест для каждого вида объекта общественного питания на основе данных по количеству посадочных мест до 95го процентиля:')\n",
    "seats_mean_pure"
   ]
  },
  {
   "cell_type": "code",
   "execution_count": 48,
   "metadata": {},
   "outputs": [
    {
     "data": {
      "image/png": "[encoded data removed]",
      "text/plain": [
       "<Figure size 864x504 with 1 Axes>"
      ]
     },
     "metadata": {
      "needs_background": "light"
     },
     "output_type": "display_data"
    }
   ],
   "source": [
    "plt.figure(figsize=(12, 7))\n",
    "sns.boxplot(\n",
    "    x='object_type', y='seats', order=list(seats_mean_pure['object_type']), \n",
    "    data=rest_data[rest_data['seats'] < np.percentile(rest_data['seats'], 95)], color='cyan'\n",
    ").set_title(\n",
    "    'Boxplot для количества посадочных мест по каждому виду объекта общественного питания, очищенные данные', \n",
    "    fontsize=16\n",
    ")\n",
    "plt.grid(alpha=0.5)\n",
    "plt.xticks(rotation=45, ha='right', fontsize=14)\n",
    "plt.yticks(fontsize=14)\n",
    "plt.xlabel('Вид объекта', fontsize=14)\n",
    "plt.ylabel('Количество посадочных мест', fontsize=14)\n",
    "sns.despine()\n",
    "plt.show()"
   ]
  },
  {
   "cell_type": "markdown",
   "metadata": {},
   "source": [
    "Также можем подробно рассмотреть распределение количества посадочных мест для каждого вида объекта общественного питания:"
   ]
  },
  {
   "cell_type": "code",
   "execution_count": 50,
   "metadata": {},
   "outputs": [
    {
     "data": {
      "image/png": "[encoded data removed]",
      "text/plain": [
       "<Figure size 720x576 with 9 Axes>"
      ]
     },
     "metadata": {
      "needs_background": "light"
     },
     "output_type": "display_data"
    }
   ],
   "source": [
    "rest_data.hist(column=\"seats\",by=\"object_type\", figsize=(10,8),bins=np.arange(0,510,10),sharex=True)"
   ]
  },
  {
   "cell_type": "markdown",
   "metadata": {},
   "source": [
    "Среднее количество посадочных мест для каждого вида объекта общественного питания (для данных с удаленными выбросами свыше 95го процентиля) ощутимо различается.\n",
    "\n",
    "Больше всего посадочных мест в столовых - в среднем 94. В ресторане в среднем 79 посадочных мест. Это заведения, которые рассчитаны на полноценный неспешный прием пищи.\n",
    "\n",
    "В буфете, баре и кафе - 45, 40, 38 соответственно. \n",
    "\n",
    "Мало посадочных мест в предприятиях быстрого питания, кафетериях и закусочных - 19, 9 и 7 соответственно. Видимо, владельцы заведений рассчитывают, что посетители уйдут как можно скорее.\n",
    "\n",
    "На последнем месте отделы кулинарии магазинов: в среднем 6 посадочных мест, что неудивительно."
   ]
  },
  {
   "cell_type": "markdown",
   "metadata": {},
   "source": [
    "### Создание отдельного столбца информации об улице"
   ]
  },
  {
   "cell_type": "markdown",
   "metadata": {},
   "source": [
    "В столбце адреса датафрейма улица написана через запятую после города, создадим функцию с использованием строкового метода split и сохраним в качестве улицы значение, в котором найдется название, которое обычно присваивают улицам."
   ]
  },
  {
   "cell_type": "code",
   "execution_count": 51,
   "metadata": {},
   "outputs": [],
   "source": [
    "streets = ['улица', \n",
    "          'аллея', \n",
    "          'бульвар', \n",
    "          'линия', \n",
    "          'съезд', \n",
    "          'спуск', \n",
    "          'набережная', \n",
    "          'тракт', \n",
    "          'тупик', \n",
    "          'шоссе', \n",
    "          'переулок', \n",
    "          'проезд', \n",
    "          'разъезд', \n",
    "          'мост', \n",
    "          'авеню',\n",
    "          'проспект'] # с помощью интернета нашли, какие бывают улицы, собрали в список"
   ]
  },
  {
   "cell_type": "code",
   "execution_count": 52,
   "metadata": {},
   "outputs": [],
   "source": [
    "def filter_streets(address):\n",
    "    for elem in streets:\n",
    "        for part_address in address.split(', '):\n",
    "            if elem in part_address:  # если название для улицы есть в части адреса\n",
    "                return part_address # вернем его\n",
    "    return('не установлено')"
   ]
  },
  {
   "cell_type": "code",
   "execution_count": 53,
   "metadata": {},
   "outputs": [],
   "source": [
    "# создаем столбец с улицами применяем функцию к столбцу с адресом\n",
    "rest_data['street'] = rest_data['address'].apply(filter_streets)"
   ]
  },
  {
   "cell_type": "code",
   "execution_count": 54,
   "metadata": {},
   "outputs": [
    {
     "data": {
      "text/plain": [
       "0    улица Егора Абакумова\n",
       "1         улица Талалихина\n",
       "2     Абельмановская улица\n",
       "3       Абрамцевская улица\n",
       "4       Абрамцевская улица\n",
       "Name: street, dtype: object"
      ]
     },
     "execution_count": 54,
     "metadata": {},
     "output_type": "execute_result"
    }
   ],
   "source": [
    "rest_data['street'].head()"
   ]
  },
  {
   "cell_type": "code",
   "execution_count": 55,
   "metadata": {},
   "outputs": [
    {
     "data": {
      "text/plain": [
       "Series([], Name: street, dtype: object)"
      ]
     },
     "execution_count": 55,
     "metadata": {},
     "output_type": "execute_result"
    }
   ],
   "source": [
    "rest_data.street[rest_data.street.str.len() < 9]"
   ]
  },
  {
   "cell_type": "markdown",
   "metadata": {},
   "source": [
    "Также мы можем определить, какое количество результатов отфильтровано."
   ]
  },
  {
   "cell_type": "code",
   "execution_count": 56,
   "metadata": {},
   "outputs": [],
   "source": [
    "filtered = rest_data.query('street == \"не установлено\"')['street'].count()\n",
    "filtered_part = filtered / rest_data['street'].count() "
   ]
  },
  {
   "cell_type": "code",
   "execution_count": 57,
   "metadata": {},
   "outputs": [],
   "source": [
    "streets_data = rest_data.loc[~(rest_data['street'] == 'не установлено')]"
   ]
  },
  {
   "cell_type": "code",
   "execution_count": 58,
   "metadata": {},
   "outputs": [
    {
     "name": "stdout",
     "output_type": "stream",
     "text": [
      "Пришлось отфильтровать 785 результатов.\n",
      "Их доля в общем объеме составляла 5.1%\n"
     ]
    }
   ],
   "source": [
    "print(f'Пришлось отфильтровать {filtered} результатов.')\n",
    "print('Их доля в общем объеме составляла {:.1%}'.format(filtered_part))"
   ]
  },
  {
   "cell_type": "code",
   "execution_count": 59,
   "metadata": {
    "scrolled": true
   },
   "outputs": [
    {
     "name": "stdout",
     "output_type": "stream",
     "text": [
      "[]\n"
     ]
    }
   ],
   "source": [
    "print(rest_data.street[rest_data.street.str.len() < 9].to_list())"
   ]
  },
  {
   "cell_type": "markdown",
   "metadata": {},
   "source": [
    "С помощью метода split и небольшого исследования типов улиц в интернете мы создали столбец с улицами, не подходящие данные были отфильтрованы (они составили 5.1%), датафрейм с подходящими нам данными записали в переменную streets_data."
   ]
  },
  {
   "cell_type": "markdown",
   "metadata": {},
   "source": [
    "### Топ-10 улиц по количеству объектов общественного питания"
   ]
  },
  {
   "cell_type": "markdown",
   "metadata": {},
   "source": [
    "Сгруппируем данные по столбцу street и подсчитаем количество id на каждой улице:"
   ]
  },
  {
   "cell_type": "code",
   "execution_count": 60,
   "metadata": {},
   "outputs": [
    {
     "data": {
      "text/html": [
       "<div>\n",
       "<style scoped>\n",
       "    .dataframe tbody tr th:only-of-type {\n",
       "        vertical-align: middle;\n",
       "    }\n",
       "\n",
       "    .dataframe tbody tr th {\n",
       "        vertical-align: top;\n",
       "    }\n",
       "\n",
       "    .dataframe thead th {\n",
       "        text-align: right;\n",
       "    }\n",
       "</style>\n",
       "<table border=\"1\" class=\"dataframe\">\n",
       "  <thead>\n",
       "    <tr style=\"text-align: right;\">\n",
       "      <th></th>\n",
       "      <th>objects_amount</th>\n",
       "    </tr>\n",
       "    <tr>\n",
       "      <th>street</th>\n",
       "      <th></th>\n",
       "    </tr>\n",
       "  </thead>\n",
       "  <tbody>\n",
       "    <tr>\n",
       "      <th>проспект Мира</th>\n",
       "      <td>204</td>\n",
       "    </tr>\n",
       "    <tr>\n",
       "      <th>Профсоюзная улица</th>\n",
       "      <td>183</td>\n",
       "    </tr>\n",
       "    <tr>\n",
       "      <th>Ленинградский проспект</th>\n",
       "      <td>173</td>\n",
       "    </tr>\n",
       "    <tr>\n",
       "      <th>Пресненская набережная</th>\n",
       "      <td>167</td>\n",
       "    </tr>\n",
       "    <tr>\n",
       "      <th>Варшавское шоссе</th>\n",
       "      <td>165</td>\n",
       "    </tr>\n",
       "    <tr>\n",
       "      <th>Ленинский проспект</th>\n",
       "      <td>148</td>\n",
       "    </tr>\n",
       "    <tr>\n",
       "      <th>проспект Вернадского</th>\n",
       "      <td>132</td>\n",
       "    </tr>\n",
       "    <tr>\n",
       "      <th>Кутузовский проспект</th>\n",
       "      <td>114</td>\n",
       "    </tr>\n",
       "    <tr>\n",
       "      <th>Каширское шоссе</th>\n",
       "      <td>112</td>\n",
       "    </tr>\n",
       "    <tr>\n",
       "      <th>Кировоградская улица</th>\n",
       "      <td>110</td>\n",
       "    </tr>\n",
       "  </tbody>\n",
       "</table>\n",
       "</div>"
      ],
      "text/plain": [
       "                        objects_amount\n",
       "street                                \n",
       "проспект Мира                      204\n",
       "Профсоюзная улица                  183\n",
       "Ленинградский проспект             173\n",
       "Пресненская набережная             167\n",
       "Варшавское шоссе                   165\n",
       "Ленинский проспект                 148\n",
       "проспект Вернадского               132\n",
       "Кутузовский проспект               114\n",
       "Каширское шоссе                    112\n",
       "Кировоградская улица               110"
      ]
     },
     "execution_count": 60,
     "metadata": {},
     "output_type": "execute_result"
    }
   ],
   "source": [
    "top10 = streets_data.groupby('street').agg({'id': 'count'}).sort_values('id', ascending=False).head(10)\n",
    "top10 = top10.rename(columns={'id': 'objects_amount'})\n",
    "top10"
   ]
  },
  {
   "cell_type": "code",
   "execution_count": 62,
   "metadata": {},
   "outputs": [
    {
     "data": {
      "image/png": "[encoded data removed]",
      "text/plain": [
       "<Figure size 720x360 with 1 Axes>"
      ]
     },
     "metadata": {
      "needs_background": "light"
     },
     "output_type": "display_data"
    }
   ],
   "source": [
    "plt.figure(figsize=(10, 5))\n",
    "plt.grid(alpha=0.5)\n",
    "plt.xticks(rotation=45, ha='right')\n",
    "plt.xlabel('Улица', fontsize=12)\n",
    "plt.ylabel('Количество объектов', fontsize=12)\n",
    "sns.despine()\n",
    "\n",
    "ax = sns.barplot(data=top10.reset_index(), x='street', y='objects_amount')\n",
    "ax.set_title('Топ-10 улиц по количеству объектов общественного питания', fontsize=14)\n",
    "\n",
    "for patch in ax.patches:\n",
    "    hight = patch.get_height()\n",
    "    patch.set_facecolor(str(1 - hight/300))\n",
    "    ax.annotate(\n",
    "        text=f\"{patch.get_height():.0f}\",\n",
    "        xy=(patch.get_x() + patch.get_width() / 2, hight + 2),\n",
    "        fontsize=\"large\"\n",
    "    )\n",
    "    \n",
    "plt.xticks(rotation=45, ha='right')\n",
    "plt.xlabel('Улица', fontsize=12)\n",
    "plt.ylabel('Количество объектов', fontsize=12)\n",
    "plt.show()"
   ]
  },
  {
   "cell_type": "markdown",
   "metadata": {},
   "source": [
    "Чтобы выяснить, в каких районах находятся улицы из топ-10, загрузим датафрейм, содержащий информацию о районах:"
   ]
  },
  {
   "cell_type": "code",
   "execution_count": 63,
   "metadata": {},
   "outputs": [],
   "source": [
    "from io import BytesIO\n",
    "import requests\n",
    "spreadsheet_id = '1ca6EtV0mwD0EEajkoSzuwxwNE7TmIG87g-E5ls__i9w'\n",
    "file_name = 'https://docs.google.com/spreadsheets/d/{}/export?format=csv'.format(spreadsheet_id)\n",
    "r = requests.get(file_name)\n",
    "df = pd.read_csv(BytesIO(r.content))"
   ]
  },
  {
   "cell_type": "code",
   "execution_count": 64,
   "metadata": {},
   "outputs": [
    {
     "data": {
      "text/html": [
       "<div>\n",
       "<style scoped>\n",
       "    .dataframe tbody tr th:only-of-type {\n",
       "        vertical-align: middle;\n",
       "    }\n",
       "\n",
       "    .dataframe tbody tr th {\n",
       "        vertical-align: top;\n",
       "    }\n",
       "\n",
       "    .dataframe thead th {\n",
       "        text-align: right;\n",
       "    }\n",
       "</style>\n",
       "<table border=\"1\" class=\"dataframe\">\n",
       "  <thead>\n",
       "    <tr style=\"text-align: right;\">\n",
       "      <th></th>\n",
       "      <th>ID</th>\n",
       "      <th>Name</th>\n",
       "      <th>global_id</th>\n",
       "      <th>IsNetObject</th>\n",
       "      <th>OperatingCompany</th>\n",
       "      <th>TypeObject</th>\n",
       "      <th>AdmArea</th>\n",
       "      <th>District</th>\n",
       "      <th>Address</th>\n",
       "      <th>PublicPhone</th>\n",
       "      <th>...</th>\n",
       "      <th>AdmArea_en</th>\n",
       "      <th>District_en</th>\n",
       "      <th>Address_en</th>\n",
       "      <th>PublicPhone_en</th>\n",
       "      <th>SeatsCount_en</th>\n",
       "      <th>SocialPrivileges_en</th>\n",
       "      <th>Longitude_WGS84_en</th>\n",
       "      <th>Latitude_WGS84_en</th>\n",
       "      <th>geodata_center</th>\n",
       "      <th>geoarea</th>\n",
       "    </tr>\n",
       "  </thead>\n",
       "  <tbody>\n",
       "    <tr>\n",
       "      <th>0</th>\n",
       "      <td>Код</td>\n",
       "      <td>Наименование</td>\n",
       "      <td>global_id</td>\n",
       "      <td>Является сетевым</td>\n",
       "      <td>Название управляющей компании</td>\n",
       "      <td>Вид объекта</td>\n",
       "      <td>Административный округ по адресу</td>\n",
       "      <td>Район</td>\n",
       "      <td>Адрес</td>\n",
       "      <td>Контактный телефон</td>\n",
       "      <td>...</td>\n",
       "      <td>AdmArea_en</td>\n",
       "      <td>District_en</td>\n",
       "      <td>Address_en</td>\n",
       "      <td>PublicPhone_en</td>\n",
       "      <td>SeatsCount_en</td>\n",
       "      <td>SocialPrivileges_en</td>\n",
       "      <td>Longitude_WGS84_en</td>\n",
       "      <td>Latitude_WGS84_en</td>\n",
       "      <td>geodata_center</td>\n",
       "      <td>geoarea</td>\n",
       "    </tr>\n",
       "    <tr>\n",
       "      <th>1</th>\n",
       "      <td>00151635</td>\n",
       "      <td>СМЕТАНА</td>\n",
       "      <td>637376221</td>\n",
       "      <td>нет</td>\n",
       "      <td>NaN</td>\n",
       "      <td>кафе</td>\n",
       "      <td>Северо-Восточный административный округ</td>\n",
       "      <td>Ярославский район</td>\n",
       "      <td>город Москва, улица Егора Абакумова, дом 9</td>\n",
       "      <td>PublicPhone:(499) 183-14-10\\n\\n</td>\n",
       "      <td>...</td>\n",
       "      <td>NaN</td>\n",
       "      <td>NaN</td>\n",
       "      <td>NaN</td>\n",
       "      <td>NaN</td>\n",
       "      <td>NaN</td>\n",
       "      <td>NaN</td>\n",
       "      <td>NaN</td>\n",
       "      <td>NaN</td>\n",
       "      <td>{\"coordinates\":[37.714565000436,55.87900153130...</td>\n",
       "      <td>NaN</td>\n",
       "    </tr>\n",
       "    <tr>\n",
       "      <th>2</th>\n",
       "      <td>000077874</td>\n",
       "      <td>Родник</td>\n",
       "      <td>637376331</td>\n",
       "      <td>нет</td>\n",
       "      <td>NaN</td>\n",
       "      <td>кафе</td>\n",
       "      <td>Центральный административный округ</td>\n",
       "      <td>Таганский район</td>\n",
       "      <td>город Москва, улица Талалихина, дом 2/1, корпус 1</td>\n",
       "      <td>PublicPhone:(495) 676-55-35\\n\\n</td>\n",
       "      <td>...</td>\n",
       "      <td>NaN</td>\n",
       "      <td>NaN</td>\n",
       "      <td>NaN</td>\n",
       "      <td>NaN</td>\n",
       "      <td>NaN</td>\n",
       "      <td>NaN</td>\n",
       "      <td>NaN</td>\n",
       "      <td>NaN</td>\n",
       "      <td>{\"coordinates\":[37.6733061300344,55.7382386551...</td>\n",
       "      <td>NaN</td>\n",
       "    </tr>\n",
       "    <tr>\n",
       "      <th>3</th>\n",
       "      <td>000024309</td>\n",
       "      <td>Кафе «Академия»</td>\n",
       "      <td>637376349</td>\n",
       "      <td>нет</td>\n",
       "      <td>NaN</td>\n",
       "      <td>ресторан</td>\n",
       "      <td>Центральный административный округ</td>\n",
       "      <td>Таганский район</td>\n",
       "      <td>Российская Федерация, город Москва, внутригоро...</td>\n",
       "      <td>PublicPhone:(495) 662-30-10\\n\\n</td>\n",
       "      <td>...</td>\n",
       "      <td>NaN</td>\n",
       "      <td>NaN</td>\n",
       "      <td>NaN</td>\n",
       "      <td>NaN</td>\n",
       "      <td>NaN</td>\n",
       "      <td>NaN</td>\n",
       "      <td>NaN</td>\n",
       "      <td>NaN</td>\n",
       "      <td>NaN</td>\n",
       "      <td>NaN</td>\n",
       "    </tr>\n",
       "    <tr>\n",
       "      <th>4</th>\n",
       "      <td>000027429</td>\n",
       "      <td>ГБОУ «Школа № 1430 имени Героя Социалистическо...</td>\n",
       "      <td>637376480</td>\n",
       "      <td>нет</td>\n",
       "      <td>NaN</td>\n",
       "      <td>столовая</td>\n",
       "      <td>Северо-Восточный административный округ</td>\n",
       "      <td>район Лианозово</td>\n",
       "      <td>город Москва, Угличская улица, дом 17</td>\n",
       "      <td>PublicPhone:(499) 908-06-15\\n\\n</td>\n",
       "      <td>...</td>\n",
       "      <td>NaN</td>\n",
       "      <td>NaN</td>\n",
       "      <td>NaN</td>\n",
       "      <td>NaN</td>\n",
       "      <td>NaN</td>\n",
       "      <td>NaN</td>\n",
       "      <td>NaN</td>\n",
       "      <td>NaN</td>\n",
       "      <td>{\"coordinates\":[37.56694,55.9040188006692],\"ty...</td>\n",
       "      <td>NaN</td>\n",
       "    </tr>\n",
       "  </tbody>\n",
       "</table>\n",
       "<p>5 rows × 29 columns</p>\n",
       "</div>"
      ],
      "text/plain": [
       "          ID                                               Name  global_id  \\\n",
       "0        Код                                       Наименование  global_id   \n",
       "1   00151635                                            СМЕТАНА  637376221   \n",
       "2  000077874                                             Родник  637376331   \n",
       "3  000024309                                    Кафе «Академия»  637376349   \n",
       "4  000027429  ГБОУ «Школа № 1430 имени Героя Социалистическо...  637376480   \n",
       "\n",
       "        IsNetObject               OperatingCompany   TypeObject  \\\n",
       "0  Является сетевым  Название управляющей компании  Вид объекта   \n",
       "1               нет                            NaN         кафе   \n",
       "2               нет                            NaN         кафе   \n",
       "3               нет                            NaN     ресторан   \n",
       "4               нет                            NaN     столовая   \n",
       "\n",
       "                                   AdmArea           District  \\\n",
       "0         Административный округ по адресу              Район   \n",
       "1  Северо-Восточный административный округ  Ярославский район   \n",
       "2       Центральный административный округ    Таганский район   \n",
       "3       Центральный административный округ    Таганский район   \n",
       "4  Северо-Восточный административный округ    район Лианозово   \n",
       "\n",
       "                                             Address  \\\n",
       "0                                              Адрес   \n",
       "1         город Москва, улица Егора Абакумова, дом 9   \n",
       "2  город Москва, улица Талалихина, дом 2/1, корпус 1   \n",
       "3  Российская Федерация, город Москва, внутригоро...   \n",
       "4              город Москва, Угличская улица, дом 17   \n",
       "\n",
       "                       PublicPhone  ...  AdmArea_en  District_en  Address_en  \\\n",
       "0               Контактный телефон  ...  AdmArea_en  District_en  Address_en   \n",
       "1  PublicPhone:(499) 183-14-10\\n\\n  ...         NaN          NaN         NaN   \n",
       "2  PublicPhone:(495) 676-55-35\\n\\n  ...         NaN          NaN         NaN   \n",
       "3  PublicPhone:(495) 662-30-10\\n\\n  ...         NaN          NaN         NaN   \n",
       "4  PublicPhone:(499) 908-06-15\\n\\n  ...         NaN          NaN         NaN   \n",
       "\n",
       "   PublicPhone_en  SeatsCount_en  SocialPrivileges_en  Longitude_WGS84_en  \\\n",
       "0  PublicPhone_en  SeatsCount_en  SocialPrivileges_en  Longitude_WGS84_en   \n",
       "1             NaN            NaN                  NaN                 NaN   \n",
       "2             NaN            NaN                  NaN                 NaN   \n",
       "3             NaN            NaN                  NaN                 NaN   \n",
       "4             NaN            NaN                  NaN                 NaN   \n",
       "\n",
       "   Latitude_WGS84_en                                     geodata_center  \\\n",
       "0  Latitude_WGS84_en                                     geodata_center   \n",
       "1                NaN  {\"coordinates\":[37.714565000436,55.87900153130...   \n",
       "2                NaN  {\"coordinates\":[37.6733061300344,55.7382386551...   \n",
       "3                NaN                                                NaN   \n",
       "4                NaN  {\"coordinates\":[37.56694,55.9040188006692],\"ty...   \n",
       "\n",
       "   geoarea  \n",
       "0  geoarea  \n",
       "1      NaN  \n",
       "2      NaN  \n",
       "3      NaN  \n",
       "4      NaN  \n",
       "\n",
       "[5 rows x 29 columns]"
      ]
     },
     "execution_count": 64,
     "metadata": {},
     "output_type": "execute_result"
    }
   ],
   "source": [
    "df.head()"
   ]
  },
  {
   "cell_type": "code",
   "execution_count": 65,
   "metadata": {},
   "outputs": [],
   "source": [
    "# создаем в новом датафрейме столбец с улицами применяем функцию к столбцу с адресом\n",
    "df['street'] = df['Address'].apply(filter_streets)\n",
    "df = df.loc[~(df['street'] == 'не установлено')]"
   ]
  },
  {
   "cell_type": "markdown",
   "metadata": {},
   "source": [
    "Объединим датафреймы по улице (создали новую переменную, объединив инфо о районе с rest_data):"
   ]
  },
  {
   "cell_type": "code",
   "execution_count": 66,
   "metadata": {},
   "outputs": [],
   "source": [
    "street_district = df[['street', 'District']].drop_duplicates().reset_index()"
   ]
  },
  {
   "cell_type": "code",
   "execution_count": 67,
   "metadata": {},
   "outputs": [],
   "source": [
    "rest_districts = rest_data.merge(street_district[['street', 'District']], how='left', on='street')"
   ]
  },
  {
   "cell_type": "markdown",
   "metadata": {},
   "source": [
    "Выведем на экран районы, в которые входят улицы из топа-10:"
   ]
  },
  {
   "cell_type": "code",
   "execution_count": 68,
   "metadata": {},
   "outputs": [
    {
     "data": {
      "text/plain": [
       "228                        Донской район\n",
       "229                       Нагорный район\n",
       "230                район Чертаново Южное\n",
       "231          район Чертаново Центральное\n",
       "232             район Чертаново Северное\n",
       "233                   район Южное Бутово\n",
       "234                   поселение Щербинка\n",
       "235             район Нагатино-Садовники\n",
       "236              поселение Воскресенское\n",
       "292                  Ломоносовский район\n",
       "293             район Тропарёво-Никулино\n",
       "294           район Проспект Вернадского\n",
       "295                поселение Вороновское\n",
       "296                        район Раменки\n",
       "297                    Гагаринский район\n",
       "573                   район Дорогомилово\n",
       "574                 район Фили-Давыдково\n",
       "575            поселение Краснопахорское\n",
       "771           район Москворечье-Сабурово\n",
       "772         район Орехово-Борисово Южное\n",
       "774      район Орехово-Борисово Северное\n",
       "994                        район Беговой\n",
       "995                       район Аэропорт\n",
       "996                          район Сокол\n",
       "997                    Хорошёвский район\n",
       "1132                      район Якиманка\n",
       "1136                   Обручевский район\n",
       "1138                   район Тёплый Стан\n",
       "1461                     Мещанский район\n",
       "1462                  Останкинский район\n",
       "1463                  Алексеевский район\n",
       "1464                      район Свиблово\n",
       "1465                     район Ростокино\n",
       "1959                 Академический район\n",
       "1960                     район Черёмушки\n",
       "1962                      район Коньково\n",
       "1964                       район Ясенево\n",
       "15509                  Пресненский район\n",
       "Name: District, dtype: object"
      ]
     },
     "execution_count": 68,
     "metadata": {},
     "output_type": "execute_result"
    }
   ],
   "source": [
    "rest_districts[rest_districts['street'].isin(top10.reset_index()['street'])]['District'].drop_duplicates()"
   ]
  },
  {
   "cell_type": "code",
   "execution_count": 69,
   "metadata": {},
   "outputs": [
    {
     "name": "stdout",
     "output_type": "stream",
     "text": [
      "Всего районов: 38\n"
     ]
    }
   ],
   "source": [
    "print('Всего районов:', rest_districts[rest_districts['street'].isin(top10.reset_index()['street'])]['District'].drop_duplicates().count())"
   ]
  },
  {
   "cell_type": "markdown",
   "metadata": {},
   "source": [
    "Одна из улиц даже выходит за пределы города до поселения."
   ]
  },
  {
   "cell_type": "markdown",
   "metadata": {},
   "source": [
    "Итак, улицы топ-10 по количеству объектов общественного питания: проспект Мира, Профсоюзная улица, Ленинградский проспект, Пресненская набережная, Варшавское шоссе, Ленинский проспект, проспект Вернадского, Кутузовский проспект, Каширское шоссе, Кировоградская улица.\n",
    "\n",
    "Можно заключить, что улицы из топа-10 - это очень протяженные улицы. Хотя их всего десять, они охватывают 38 районов города."
   ]
  },
  {
   "cell_type": "markdown",
   "metadata": {},
   "source": [
    "### Улицы с одним объектом общественного питания"
   ]
  },
  {
   "cell_type": "code",
   "execution_count": 70,
   "metadata": {},
   "outputs": [],
   "source": [
    "one_object = rest_data.groupby('street').agg({'id': 'count'}).reset_index().query('id == 1')"
   ]
  },
  {
   "cell_type": "code",
   "execution_count": 71,
   "metadata": {},
   "outputs": [
    {
     "name": "stdout",
     "output_type": "stream",
     "text": [
      "Улиц с одним объектом общественного питания: 543\n"
     ]
    }
   ],
   "source": [
    "print('Улиц с одним объектом общественного питания:', one_object['id'].count())"
   ]
  },
  {
   "cell_type": "code",
   "execution_count": 72,
   "metadata": {},
   "outputs": [
    {
     "data": {
      "text/html": [
       "<div>\n",
       "<style scoped>\n",
       "    .dataframe tbody tr th:only-of-type {\n",
       "        vertical-align: middle;\n",
       "    }\n",
       "\n",
       "    .dataframe tbody tr th {\n",
       "        vertical-align: top;\n",
       "    }\n",
       "\n",
       "    .dataframe thead th {\n",
       "        text-align: right;\n",
       "    }\n",
       "</style>\n",
       "<table border=\"1\" class=\"dataframe\">\n",
       "  <thead>\n",
       "    <tr style=\"text-align: right;\">\n",
       "      <th></th>\n",
       "      <th>street</th>\n",
       "      <th>id</th>\n",
       "    </tr>\n",
       "  </thead>\n",
       "  <tbody>\n",
       "    <tr>\n",
       "      <th>2</th>\n",
       "      <td>1-й Балтийский переулок</td>\n",
       "      <td>1</td>\n",
       "    </tr>\n",
       "    <tr>\n",
       "      <th>3</th>\n",
       "      <td>1-й Басманный переулок</td>\n",
       "      <td>1</td>\n",
       "    </tr>\n",
       "    <tr>\n",
       "      <th>4</th>\n",
       "      <td>1-й Ботанический проезд</td>\n",
       "      <td>1</td>\n",
       "    </tr>\n",
       "    <tr>\n",
       "      <th>7</th>\n",
       "      <td>1-й Вешняковский проезд</td>\n",
       "      <td>1</td>\n",
       "    </tr>\n",
       "    <tr>\n",
       "      <th>9</th>\n",
       "      <td>1-й Голутвинский переулок</td>\n",
       "      <td>1</td>\n",
       "    </tr>\n",
       "  </tbody>\n",
       "</table>\n",
       "</div>"
      ],
      "text/plain": [
       "                      street  id\n",
       "2    1-й Балтийский переулок   1\n",
       "3     1-й Басманный переулок   1\n",
       "4    1-й Ботанический проезд   1\n",
       "7    1-й Вешняковский проезд   1\n",
       "9  1-й Голутвинский переулок   1"
      ]
     },
     "execution_count": 72,
     "metadata": {},
     "output_type": "execute_result"
    }
   ],
   "source": [
    "one_object.head(5)"
   ]
  },
  {
   "cell_type": "markdown",
   "metadata": {},
   "source": [
    "Выведем на экран районы, в которые входят данные улицы, из объединенного ранее датафрейма:"
   ]
  },
  {
   "cell_type": "code",
   "execution_count": 73,
   "metadata": {},
   "outputs": [
    {
     "name": "stdout",
     "output_type": "stream",
     "text": [
      "['район Арбат' 'район Аэропорт' 'район Хорошёво-Мнёвники' 'район Беговой'\n",
      " 'район Хамовники' 'район Марьина Роща' 'Можайский район'\n",
      " 'район Богородское' 'район Преображенское' 'район Дорогомилово'\n",
      " 'район Сокольники' 'район Соколиная Гора' 'район Кунцево'\n",
      " 'район Лефортово' 'Донской район' 'район Котловка' 'Мещанский район'\n",
      " 'район Замоскворечье' 'район Гольяново' 'район Фили-Давыдково'\n",
      " 'Басманный район' 'Нижегородский район' 'район Раменки' 'район Свиблово'\n",
      " 'Таганский район' 'район Ростокино' 'Красносельский район'\n",
      " 'район Южное Бутово' 'район Якиманка' 'Тверской район' 'Рязанский район'\n",
      " 'район Покровское-Стрешнево' 'поселение Десеновское'\n",
      " 'поселение Кленовское' 'Головинский район' 'Лосиноостровский район'\n",
      " 'Останкинский район' 'Пресненский район' 'район Косино-Ухтомский'\n",
      " 'Бутырский район' 'район Метрогородок' 'район Щукино' 'район Внуково'\n",
      " 'район Чертаново Южное' 'район Ясенево' 'район Зюзино'\n",
      " 'Алтуфьевский район' 'Тимирязевский район' 'Дмитровский район'\n",
      " 'Бескудниковский район' 'район Сокол' 'район Левобережный'\n",
      " 'район Солнцево' 'Нагорный район' 'Савёловский район'\n",
      " 'район Южное Тушино' 'район Северное Измайлово'\n",
      " 'район Восточное Измайлово' 'район Савёлки' 'Даниловский район'\n",
      " 'район Очаково-Матвеевское' 'район Новогиреево' 'Южнопортовый район'\n",
      " 'Бабушкинский район' 'Ярославский район' 'Алексеевский район'\n",
      " 'район Текстильщики' 'район Марьино' 'район Северное Бутово'\n",
      " 'Войковский район' 'район Северное Медведково' 'район Отрадное'\n",
      " 'район Восточный' 'район Кузьминки' 'район Выхино-Жулебино'\n",
      " 'район Люблино' 'район Капотня' 'район Черёмушки' 'район Коньково'\n",
      " 'Обручевский район' 'район Митино' 'район Куркино' 'район Строгино'\n",
      " 'Хорошёвский район' 'район Крюково' 'район Старое Крюково'\n",
      " 'район Бирюлёво Восточное' 'район Москворечье-Сабурово'\n",
      " 'район Ново-Переделкино' 'поселение Троицк' 'поселение Внуковское'\n",
      " 'поселение Рязановское' 'район Северный' 'район Западное Дегунино'\n",
      " 'район Марфино' 'район Царицыно' 'поселение Киевский' 'Гагаринский район'\n",
      " 'район Чертаново Северное' 'поселение Московский'\n",
      " 'поселение Краснопахорское' 'район Измайлово' 'поселение Сосенское'\n",
      " 'район Печатники' 'район Филёвский Парк' 'район Некрасовка'\n",
      " 'поселение Щаповское']\n"
     ]
    }
   ],
   "source": [
    "print(rest_districts[rest_districts['street'].isin(one_object['street'])]['District'].dropna().unique())"
   ]
  },
  {
   "cell_type": "code",
   "execution_count": 74,
   "metadata": {},
   "outputs": [
    {
     "name": "stdout",
     "output_type": "stream",
     "text": [
      "Всего районов: 107\n"
     ]
    }
   ],
   "source": [
    "print('Всего районов:', len(df[df['street'].isin(one_object['street'])]['District'].unique()))"
   ]
  },
  {
   "cell_type": "markdown",
   "metadata": {},
   "source": [
    "Улиц, на которых находится 1 объект общественного питания, насчитывается 543, а районов всего 107. По несколько улиц на район."
   ]
  },
  {
   "cell_type": "markdown",
   "metadata": {},
   "source": [
    "Определим наш ТОП районов, где больше всего улиц с одним объектом общественного питания."
   ]
  },
  {
   "cell_type": "code",
   "execution_count": 75,
   "metadata": {
    "scrolled": true
   },
   "outputs": [
    {
     "name": "stdout",
     "output_type": "stream",
     "text": [
      "Районы, в которых больше всего улиц с одним объектом общественного питания:\n"
     ]
    },
    {
     "data": {
      "text/plain": [
       "Пресненский район       31\n",
       "Басманный район         31\n",
       "Таганский район         26\n",
       "район Хамовники         23\n",
       "район Солнцево          22\n",
       "Тверской район          19\n",
       "Алексеевский район      17\n",
       "район Отрадное          16\n",
       "район Южное Бутово      14\n",
       "район Замоскворечье     14\n",
       "Можайский район         13\n",
       "район Черёмушки         13\n",
       "Красносельский район    13\n",
       "район Арбат             12\n",
       "поселение Московский    12\n",
       "Name: District, dtype: int64"
      ]
     },
     "execution_count": 75,
     "metadata": {},
     "output_type": "execute_result"
    }
   ],
   "source": [
    "print('Районы, в которых больше всего улиц с одним объектом общественного питания:')\n",
    "df[df['street'].isin(one_object['street'])]['District'].value_counts().head(15)"
   ]
  },
  {
   "cell_type": "markdown",
   "metadata": {},
   "source": [
    " "
   ]
  },
  {
   "cell_type": "markdown",
   "metadata": {},
   "source": [
    "Вероятно, что улицы, на которых находится всего один объект общественного питания - это небольшие непротяженные улицы, поэтому на них \"помещается\" не так много зданий. Также это могут быть улицы в новых необжитых районах, улицы у пустырей или, наоборот, улицы с историческими зданиями, где нельзя делать общепит, либо заводские кварталы."
   ]
  },
  {
   "cell_type": "markdown",
   "metadata": {},
   "source": [
    "### Распределение количества посадочных мест для улиц с большим числом объектов общественного питания"
   ]
  },
  {
   "cell_type": "markdown",
   "metadata": {},
   "source": [
    "Выбираем только те строки, для которых значение столбца street совпадает с нашим топ-10:"
   ]
  },
  {
   "cell_type": "code",
   "execution_count": 76,
   "metadata": {},
   "outputs": [],
   "source": [
    "top10_df = streets_data[streets_data['street'].isin(top10.reset_index()['street'])]"
   ]
  },
  {
   "cell_type": "code",
   "execution_count": 77,
   "metadata": {},
   "outputs": [
    {
     "data": {
      "text/plain": [
       "count    1508.000000\n",
       "mean       57.965517\n",
       "std        89.955523\n",
       "min         0.000000\n",
       "25%        12.000000\n",
       "50%        38.500000\n",
       "75%        75.000000\n",
       "max      1700.000000\n",
       "Name: seats, dtype: float64"
      ]
     },
     "execution_count": 77,
     "metadata": {},
     "output_type": "execute_result"
    }
   ],
   "source": [
    "top10_df['seats'].describe()"
   ]
  },
  {
   "cell_type": "code",
   "execution_count": 78,
   "metadata": {},
   "outputs": [
    {
     "data": {
      "text/html": [
       "<div>\n",
       "<style scoped>\n",
       "    .dataframe tbody tr th:only-of-type {\n",
       "        vertical-align: middle;\n",
       "    }\n",
       "\n",
       "    .dataframe tbody tr th {\n",
       "        vertical-align: top;\n",
       "    }\n",
       "\n",
       "    .dataframe thead tr th {\n",
       "        text-align: left;\n",
       "    }\n",
       "\n",
       "    .dataframe thead tr:last-of-type th {\n",
       "        text-align: right;\n",
       "    }\n",
       "</style>\n",
       "<table border=\"1\" class=\"dataframe\">\n",
       "  <thead>\n",
       "    <tr>\n",
       "      <th></th>\n",
       "      <th colspan=\"2\" halign=\"left\">seats</th>\n",
       "    </tr>\n",
       "    <tr>\n",
       "      <th></th>\n",
       "      <th>mean</th>\n",
       "      <th>median</th>\n",
       "    </tr>\n",
       "    <tr>\n",
       "      <th>street</th>\n",
       "      <th></th>\n",
       "      <th></th>\n",
       "    </tr>\n",
       "  </thead>\n",
       "  <tbody>\n",
       "    <tr>\n",
       "      <th>Варшавское шоссе</th>\n",
       "      <td>52.278788</td>\n",
       "      <td>30.0</td>\n",
       "    </tr>\n",
       "    <tr>\n",
       "      <th>Каширское шоссе</th>\n",
       "      <td>55.098214</td>\n",
       "      <td>25.0</td>\n",
       "    </tr>\n",
       "    <tr>\n",
       "      <th>Кировоградская улица</th>\n",
       "      <td>59.790909</td>\n",
       "      <td>30.0</td>\n",
       "    </tr>\n",
       "    <tr>\n",
       "      <th>Кутузовский проспект</th>\n",
       "      <td>85.061404</td>\n",
       "      <td>40.0</td>\n",
       "    </tr>\n",
       "    <tr>\n",
       "      <th>Ленинградский проспект</th>\n",
       "      <td>52.265896</td>\n",
       "      <td>40.0</td>\n",
       "    </tr>\n",
       "    <tr>\n",
       "      <th>Ленинский проспект</th>\n",
       "      <td>63.148649</td>\n",
       "      <td>45.0</td>\n",
       "    </tr>\n",
       "    <tr>\n",
       "      <th>Пресненская набережная</th>\n",
       "      <td>45.844311</td>\n",
       "      <td>30.0</td>\n",
       "    </tr>\n",
       "    <tr>\n",
       "      <th>Профсоюзная улица</th>\n",
       "      <td>47.360656</td>\n",
       "      <td>24.0</td>\n",
       "    </tr>\n",
       "    <tr>\n",
       "      <th>проспект Вернадского</th>\n",
       "      <td>66.969697</td>\n",
       "      <td>40.0</td>\n",
       "    </tr>\n",
       "    <tr>\n",
       "      <th>проспект Мира</th>\n",
       "      <td>62.696078</td>\n",
       "      <td>46.5</td>\n",
       "    </tr>\n",
       "  </tbody>\n",
       "</table>\n",
       "</div>"
      ],
      "text/plain": [
       "                            seats       \n",
       "                             mean median\n",
       "street                                  \n",
       "Варшавское шоссе        52.278788   30.0\n",
       "Каширское шоссе         55.098214   25.0\n",
       "Кировоградская улица    59.790909   30.0\n",
       "Кутузовский проспект    85.061404   40.0\n",
       "Ленинградский проспект  52.265896   40.0\n",
       "Ленинский проспект      63.148649   45.0\n",
       "Пресненская набережная  45.844311   30.0\n",
       "Профсоюзная улица       47.360656   24.0\n",
       "проспект Вернадского    66.969697   40.0\n",
       "проспект Мира           62.696078   46.5"
      ]
     },
     "execution_count": 78,
     "metadata": {},
     "output_type": "execute_result"
    }
   ],
   "source": [
    "top10_df.groupby('street').agg({'seats': ['mean', 'median']}) # топ-10 улиц"
   ]
  },
  {
   "cell_type": "code",
   "execution_count": 79,
   "metadata": {},
   "outputs": [
    {
     "name": "stdout",
     "output_type": "stream",
     "text": [
      "Среднее количество посадочных мест среди всех объектов: 59.59790137850627\n",
      "Медианное количество посадочных мест среди всех объектов: 40.0\n"
     ]
    }
   ],
   "source": [
    "print('Среднее количество посадочных мест среди всех объектов:', streets_data['seats'].mean()) # все улицы\n",
    "print('Медианное количество посадочных мест среди всех объектов:', streets_data['seats'].median())"
   ]
  },
  {
   "cell_type": "code",
   "execution_count": 80,
   "metadata": {
    "scrolled": false
   },
   "outputs": [
    {
     "data": {
      "text/html": [
       "<div>\n",
       "<style scoped>\n",
       "    .dataframe tbody tr th:only-of-type {\n",
       "        vertical-align: middle;\n",
       "    }\n",
       "\n",
       "    .dataframe tbody tr th {\n",
       "        vertical-align: top;\n",
       "    }\n",
       "\n",
       "    .dataframe thead tr th {\n",
       "        text-align: left;\n",
       "    }\n",
       "\n",
       "    .dataframe thead tr:last-of-type th {\n",
       "        text-align: right;\n",
       "    }\n",
       "</style>\n",
       "<table border=\"1\" class=\"dataframe\">\n",
       "  <thead>\n",
       "    <tr>\n",
       "      <th></th>\n",
       "      <th></th>\n",
       "      <th colspan=\"2\" halign=\"left\">seats</th>\n",
       "    </tr>\n",
       "    <tr>\n",
       "      <th></th>\n",
       "      <th></th>\n",
       "      <th>mean</th>\n",
       "      <th>median</th>\n",
       "    </tr>\n",
       "    <tr>\n",
       "      <th>street</th>\n",
       "      <th>chain</th>\n",
       "      <th></th>\n",
       "      <th></th>\n",
       "    </tr>\n",
       "  </thead>\n",
       "  <tbody>\n",
       "    <tr>\n",
       "      <th rowspan=\"2\" valign=\"top\">Варшавское шоссе</th>\n",
       "      <th>да</th>\n",
       "      <td>41.767442</td>\n",
       "      <td>40.0</td>\n",
       "    </tr>\n",
       "    <tr>\n",
       "      <th>нет</th>\n",
       "      <td>55.983607</td>\n",
       "      <td>26.0</td>\n",
       "    </tr>\n",
       "    <tr>\n",
       "      <th rowspan=\"2\" valign=\"top\">Каширское шоссе</th>\n",
       "      <th>да</th>\n",
       "      <td>61.608696</td>\n",
       "      <td>55.0</td>\n",
       "    </tr>\n",
       "    <tr>\n",
       "      <th>нет</th>\n",
       "      <td>53.415730</td>\n",
       "      <td>24.0</td>\n",
       "    </tr>\n",
       "    <tr>\n",
       "      <th rowspan=\"2\" valign=\"top\">Кировоградская улица</th>\n",
       "      <th>да</th>\n",
       "      <td>37.641026</td>\n",
       "      <td>30.0</td>\n",
       "    </tr>\n",
       "    <tr>\n",
       "      <th>нет</th>\n",
       "      <td>71.957746</td>\n",
       "      <td>30.0</td>\n",
       "    </tr>\n",
       "    <tr>\n",
       "      <th rowspan=\"2\" valign=\"top\">Кутузовский проспект</th>\n",
       "      <th>да</th>\n",
       "      <td>32.750000</td>\n",
       "      <td>30.0</td>\n",
       "    </tr>\n",
       "    <tr>\n",
       "      <th>нет</th>\n",
       "      <td>99.011111</td>\n",
       "      <td>50.0</td>\n",
       "    </tr>\n",
       "    <tr>\n",
       "      <th rowspan=\"2\" valign=\"top\">Ленинградский проспект</th>\n",
       "      <th>да</th>\n",
       "      <td>40.982143</td>\n",
       "      <td>34.0</td>\n",
       "    </tr>\n",
       "    <tr>\n",
       "      <th>нет</th>\n",
       "      <td>57.666667</td>\n",
       "      <td>40.0</td>\n",
       "    </tr>\n",
       "    <tr>\n",
       "      <th rowspan=\"2\" valign=\"top\">Ленинский проспект</th>\n",
       "      <th>да</th>\n",
       "      <td>62.866667</td>\n",
       "      <td>55.5</td>\n",
       "    </tr>\n",
       "    <tr>\n",
       "      <th>нет</th>\n",
       "      <td>63.220339</td>\n",
       "      <td>45.0</td>\n",
       "    </tr>\n",
       "    <tr>\n",
       "      <th rowspan=\"2\" valign=\"top\">Пресненская набережная</th>\n",
       "      <th>да</th>\n",
       "      <td>53.720000</td>\n",
       "      <td>35.0</td>\n",
       "    </tr>\n",
       "    <tr>\n",
       "      <th>нет</th>\n",
       "      <td>44.457746</td>\n",
       "      <td>26.5</td>\n",
       "    </tr>\n",
       "    <tr>\n",
       "      <th rowspan=\"2\" valign=\"top\">Профсоюзная улица</th>\n",
       "      <th>да</th>\n",
       "      <td>54.903846</td>\n",
       "      <td>44.0</td>\n",
       "    </tr>\n",
       "    <tr>\n",
       "      <th>нет</th>\n",
       "      <td>44.366412</td>\n",
       "      <td>20.0</td>\n",
       "    </tr>\n",
       "    <tr>\n",
       "      <th rowspan=\"2\" valign=\"top\">проспект Вернадского</th>\n",
       "      <th>да</th>\n",
       "      <td>65.763158</td>\n",
       "      <td>50.0</td>\n",
       "    </tr>\n",
       "    <tr>\n",
       "      <th>нет</th>\n",
       "      <td>67.457447</td>\n",
       "      <td>40.0</td>\n",
       "    </tr>\n",
       "    <tr>\n",
       "      <th rowspan=\"2\" valign=\"top\">проспект Мира</th>\n",
       "      <th>да</th>\n",
       "      <td>78.824561</td>\n",
       "      <td>60.0</td>\n",
       "    </tr>\n",
       "    <tr>\n",
       "      <th>нет</th>\n",
       "      <td>56.442177</td>\n",
       "      <td>41.0</td>\n",
       "    </tr>\n",
       "  </tbody>\n",
       "</table>\n",
       "</div>"
      ],
      "text/plain": [
       "                                  seats       \n",
       "                                   mean median\n",
       "street                 chain                  \n",
       "Варшавское шоссе       да     41.767442   40.0\n",
       "                       нет    55.983607   26.0\n",
       "Каширское шоссе        да     61.608696   55.0\n",
       "                       нет    53.415730   24.0\n",
       "Кировоградская улица   да     37.641026   30.0\n",
       "                       нет    71.957746   30.0\n",
       "Кутузовский проспект   да     32.750000   30.0\n",
       "                       нет    99.011111   50.0\n",
       "Ленинградский проспект да     40.982143   34.0\n",
       "                       нет    57.666667   40.0\n",
       "Ленинский проспект     да     62.866667   55.5\n",
       "                       нет    63.220339   45.0\n",
       "Пресненская набережная да     53.720000   35.0\n",
       "                       нет    44.457746   26.5\n",
       "Профсоюзная улица      да     54.903846   44.0\n",
       "                       нет    44.366412   20.0\n",
       "проспект Вернадского   да     65.763158   50.0\n",
       "                       нет    67.457447   40.0\n",
       "проспект Мира          да     78.824561   60.0\n",
       "                       нет    56.442177   41.0"
      ]
     },
     "execution_count": 80,
     "metadata": {},
     "output_type": "execute_result"
    }
   ],
   "source": [
    "top10_df.groupby(['street', 'chain']).agg({'seats': ['mean', 'median']})"
   ]
  },
  {
   "cell_type": "code",
   "execution_count": 81,
   "metadata": {},
   "outputs": [
    {
     "name": "stdout",
     "output_type": "stream",
     "text": [
      "Среднее и медианное количество посадочных мест среди всех объектов:\n"
     ]
    },
    {
     "data": {
      "text/html": [
       "<div>\n",
       "<style scoped>\n",
       "    .dataframe tbody tr th:only-of-type {\n",
       "        vertical-align: middle;\n",
       "    }\n",
       "\n",
       "    .dataframe tbody tr th {\n",
       "        vertical-align: top;\n",
       "    }\n",
       "\n",
       "    .dataframe thead tr th {\n",
       "        text-align: left;\n",
       "    }\n",
       "\n",
       "    .dataframe thead tr:last-of-type th {\n",
       "        text-align: right;\n",
       "    }\n",
       "</style>\n",
       "<table border=\"1\" class=\"dataframe\">\n",
       "  <thead>\n",
       "    <tr>\n",
       "      <th></th>\n",
       "      <th colspan=\"2\" halign=\"left\">seats</th>\n",
       "    </tr>\n",
       "    <tr>\n",
       "      <th></th>\n",
       "      <th>mean</th>\n",
       "      <th>median</th>\n",
       "    </tr>\n",
       "    <tr>\n",
       "      <th>chain</th>\n",
       "      <th></th>\n",
       "      <th></th>\n",
       "    </tr>\n",
       "  </thead>\n",
       "  <tbody>\n",
       "    <tr>\n",
       "      <th>да</th>\n",
       "      <td>52.331422</td>\n",
       "      <td>40</td>\n",
       "    </tr>\n",
       "    <tr>\n",
       "      <th>нет</th>\n",
       "      <td>61.318066</td>\n",
       "      <td>40</td>\n",
       "    </tr>\n",
       "  </tbody>\n",
       "</table>\n",
       "</div>"
      ],
      "text/plain": [
       "           seats       \n",
       "            mean median\n",
       "chain                  \n",
       "да     52.331422     40\n",
       "нет    61.318066     40"
      ]
     },
     "execution_count": 81,
     "metadata": {},
     "output_type": "execute_result"
    }
   ],
   "source": [
    "print('Среднее и медианное количество посадочных мест среди всех объектов:')\n",
    "streets_data.groupby('chain').agg({'seats': ['mean', 'median']})"
   ]
  },
  {
   "cell_type": "markdown",
   "metadata": {},
   "source": [
    "Как видно, в целом медианное количество посадочных мест сетевых объектов на 10 самых \"популярных\" улицах выше, чем медианное количество посадочных мест сетевых объектов во всем городе. "
   ]
  },
  {
   "cell_type": "code",
   "execution_count": 82,
   "metadata": {},
   "outputs": [
    {
     "data": {
      "image/png": "[encoded data removed]",
      "text/plain": [
       "<Figure size 1080x360 with 1 Axes>"
      ]
     },
     "metadata": {
      "needs_background": "light"
     },
     "output_type": "display_data"
    }
   ],
   "source": [
    "plt.figure(figsize=(15, 5))\n",
    "sns.boxplot(\n",
    "    x='street', y='seats', data=top10_df[top10_df['seats'] < np.percentile(top10_df['seats'], 95)], # отсечем значения выше 95го процентиля\n",
    "    hue='chain', \n",
    "    color='cyan'\n",
    ").set_title(\n",
    "    'Boxplot посадочных мест для улиц с большим количеством объектов общественного питания', fontsize=14\n",
    ")\n",
    "plt.grid(alpha=0.5)\n",
    "plt.xticks(rotation=45, ha='right')\n",
    "plt.xlabel('Улица', fontsize=12)\n",
    "plt.ylabel('Количество посадочных мест', fontsize=12)\n",
    "sns.despine()\n",
    "plt.show()"
   ]
  },
  {
   "cell_type": "markdown",
   "metadata": {},
   "source": [
    "На большинстве \"популярных\" улиц количество посадочных мест на сетевых объектах в целом больше, чем на несетевых. Но на Кутузовском проспекте намного больше посадочных мест несетевых учреждений, также подобная ситуация, но менее выраженная, на Ленинградском проспекте - этии они выбиваются на фоне остальных. \n",
    "\n",
    "В среднем на \"популярных\" улицах 59.6 посадочных мест, медиана - 40. На Кутузовском проспекте среднее число посадочных мест в сетевых учреждениях 32.75, медиана - 30.0, для несетевых учреждений - 99 и 50 соответственно."
   ]
  },
  {
   "cell_type": "markdown",
   "metadata": {},
   "source": [
    "## Общий вывод и рекомендации"
   ]
  },
  {
   "cell_type": "markdown",
   "metadata": {},
   "source": [
    "- Самые популярные типы объектов общественного питания: кафе, столовые, рестораны и предприятия быстрого обслуживания.\n",
    "\n",
    "- Подавляющее большинство заведений являются несетевыми.\n",
    "\n",
    "- Сетевое распространение наиболее характерно для предприятий быстрого обслуживания, в меньшей степени - для отделов кулинарии магазинов, ресторанов, кафе, кафетериев и закусочных.\n",
    "\n",
    "- Для сетевых заведений характерно мало заведений с большим количеством посадочных мест.\n",
    "\n",
    "- В среднем самое большое количество посадочных мест ожидаемо предоставляют столовые.\n",
    "\n",
    "- Топ-10 улиц по количеству объектов общественного питания: проспект Мира, Профсоюзная улица, Ленинградский проспект, Пресненская набережная, Варшавское шоссе, Ленинский проспект, проспект Вернадского, Кутузовский проспект, Каширское шоссе, Кировоградская улица, они находятся в относительно большом количестве районов города. Очевидно, это протяженные улицы.\n",
    "\n",
    "- Существует большое множество улиц с одним объектом общественного питания, но они находятся в относительно небольшом количестве районов.\n",
    "\n",
    "- На большинстве \"популярных\" улиц количество посадочных мест на сетевых объектах в целом больше, чем на несетевых, явным исключением является Кутузовский проспект, также к исключениям относится Ленинградский проспект."
   ]
  },
  {
   "cell_type": "markdown",
   "metadata": {},
   "source": [
    "Рекомендации:\n",
    "\n",
    "- вид заведения: кафе (популярный вид заведений и подходящий для экспериментов формат);\n",
    "- количество посадочных мест: 30-40 (у нас пробный формат, лучше держаться медианы);\n",
    "- район расположения: возможно рассматривать десятку популярных улиц (у них большая проходимость), а также Пресненский район (в этом районе много улиц всего с одним объектом общественного питания, но при этом район центральный с большой проходимостью) либо район Солнцево - это не центр, здесь ниже аренда, но тоже много улиц всего с одной точкой питания\n",
    "\n",
    "Развитие сети возможно, тем более, что больше 20% кафе являются сетевыми, но сначала необходимо выяснить отклик потребителей на новый формат робокафе - ориентироваться на его финансовые результаты."
   ]
  },
  {
   "cell_type": "markdown",
   "metadata": {},
   "source": [
    "## Презентация"
   ]
  },
  {
   "cell_type": "markdown",
   "metadata": {},
   "source": [
    "Презентация: <https://disk.yandex.ru/i/WgzMAhHdR6SweQ>"
   ]
  }
 ],
 "metadata": {
  "ExecuteTimeLog": [
   {
    "duration": 164,
    "start_time": "2022-05-17T16:06:13.860Z"
   },
   {
    "duration": 2292,
    "start_time": "2022-05-17T16:06:14.812Z"
   },
   {
    "duration": 74,
    "start_time": "2022-05-17T16:06:23.435Z"
   },
   {
    "duration": 5,
    "start_time": "2022-05-17T16:07:13.181Z"
   },
   {
    "duration": 69,
    "start_time": "2022-05-17T16:07:33.994Z"
   },
   {
    "duration": 55,
    "start_time": "2022-05-17T16:07:56.802Z"
   },
   {
    "duration": 5,
    "start_time": "2022-05-17T16:08:14.590Z"
   },
   {
    "duration": 4,
    "start_time": "2022-05-17T16:08:17.030Z"
   },
   {
    "duration": 55,
    "start_time": "2022-05-17T16:08:20.036Z"
   },
   {
    "duration": 4,
    "start_time": "2022-05-17T16:08:26.608Z"
   },
   {
    "duration": 66,
    "start_time": "2022-05-17T16:08:27.419Z"
   },
   {
    "duration": 10,
    "start_time": "2022-05-17T16:11:27.036Z"
   },
   {
    "duration": 8,
    "start_time": "2022-05-17T16:11:33.529Z"
   },
   {
    "duration": 11,
    "start_time": "2022-05-17T16:11:53.891Z"
   },
   {
    "duration": 57,
    "start_time": "2022-05-17T16:14:26.638Z"
   },
   {
    "duration": 9,
    "start_time": "2022-05-17T16:15:03.652Z"
   },
   {
    "duration": 10,
    "start_time": "2022-05-17T16:15:35.465Z"
   },
   {
    "duration": 20,
    "start_time": "2022-05-17T16:22:55.839Z"
   },
   {
    "duration": 18,
    "start_time": "2022-05-17T16:23:01.720Z"
   },
   {
    "duration": 18,
    "start_time": "2022-05-17T16:23:22.436Z"
   },
   {
    "duration": 15,
    "start_time": "2022-05-17T16:23:26.945Z"
   },
   {
    "duration": 17,
    "start_time": "2022-05-17T16:23:48.524Z"
   },
   {
    "duration": 11,
    "start_time": "2022-05-17T16:23:54.011Z"
   },
   {
    "duration": 2484,
    "start_time": "2022-05-17T16:26:16.058Z"
   },
   {
    "duration": 17,
    "start_time": "2022-05-17T16:26:31.518Z"
   },
   {
    "duration": 7,
    "start_time": "2022-05-17T16:26:58.057Z"
   },
   {
    "duration": 7,
    "start_time": "2022-05-17T16:27:46.013Z"
   },
   {
    "duration": 10,
    "start_time": "2022-05-19T13:13:26.504Z"
   },
   {
    "duration": 4,
    "start_time": "2022-05-19T13:13:37.003Z"
   },
   {
    "duration": 69,
    "start_time": "2022-05-19T13:17:12.010Z"
   },
   {
    "duration": 1702,
    "start_time": "2022-05-19T13:17:18.683Z"
   },
   {
    "duration": 233,
    "start_time": "2022-05-19T13:17:20.387Z"
   },
   {
    "duration": 4,
    "start_time": "2022-05-19T13:17:20.622Z"
   },
   {
    "duration": 49,
    "start_time": "2022-05-19T13:17:20.629Z"
   },
   {
    "duration": 9,
    "start_time": "2022-05-19T13:17:20.679Z"
   },
   {
    "duration": 11,
    "start_time": "2022-05-19T13:17:20.689Z"
   },
   {
    "duration": 14,
    "start_time": "2022-05-19T13:17:20.702Z"
   },
   {
    "duration": 515,
    "start_time": "2022-05-19T13:17:20.718Z"
   },
   {
    "duration": 27,
    "start_time": "2022-05-19T13:17:21.235Z"
   },
   {
    "duration": 13,
    "start_time": "2022-05-19T13:17:21.265Z"
   },
   {
    "duration": 32,
    "start_time": "2022-05-19T13:17:21.280Z"
   },
   {
    "duration": 103,
    "start_time": "2022-05-19T13:17:21.314Z"
   },
   {
    "duration": 6,
    "start_time": "2022-05-19T13:17:21.419Z"
   },
   {
    "duration": 20,
    "start_time": "2022-05-19T13:17:21.426Z"
   },
   {
    "duration": 28,
    "start_time": "2022-05-19T13:17:21.449Z"
   },
   {
    "duration": 10,
    "start_time": "2022-05-19T13:17:21.479Z"
   },
   {
    "duration": 7,
    "start_time": "2022-05-19T13:17:21.492Z"
   },
   {
    "duration": 7,
    "start_time": "2022-05-19T13:17:21.501Z"
   },
   {
    "duration": 42,
    "start_time": "2022-05-19T13:17:21.510Z"
   },
   {
    "duration": 10,
    "start_time": "2022-05-19T13:17:21.555Z"
   },
   {
    "duration": 269,
    "start_time": "2022-05-19T13:17:21.567Z"
   },
   {
    "duration": 29,
    "start_time": "2022-05-19T13:17:21.842Z"
   },
   {
    "duration": 13,
    "start_time": "2022-05-19T13:17:21.873Z"
   },
   {
    "duration": 19,
    "start_time": "2022-05-19T13:17:21.887Z"
   },
   {
    "duration": 170,
    "start_time": "2022-05-19T13:17:21.908Z"
   },
   {
    "duration": 118,
    "start_time": "2022-05-19T13:17:22.079Z"
   },
   {
    "duration": 27,
    "start_time": "2022-05-19T13:17:22.200Z"
   },
   {
    "duration": 19,
    "start_time": "2022-05-19T13:17:22.230Z"
   },
   {
    "duration": 321,
    "start_time": "2022-05-19T13:17:22.251Z"
   },
   {
    "duration": 15,
    "start_time": "2022-05-19T13:17:29.558Z"
   },
   {
    "duration": 16,
    "start_time": "2022-05-19T13:18:21.461Z"
   },
   {
    "duration": 29,
    "start_time": "2022-05-19T13:18:36.325Z"
   },
   {
    "duration": 25,
    "start_time": "2022-05-19T13:22:11.806Z"
   },
   {
    "duration": 102,
    "start_time": "2022-05-19T13:23:13.143Z"
   },
   {
    "duration": 29,
    "start_time": "2022-05-19T13:23:23.361Z"
   },
   {
    "duration": 362,
    "start_time": "2022-05-19T13:24:28.784Z"
   },
   {
    "duration": 28,
    "start_time": "2022-05-19T13:24:53.070Z"
   },
   {
    "duration": 23,
    "start_time": "2022-05-19T13:30:34.272Z"
   },
   {
    "duration": 11,
    "start_time": "2022-05-19T13:40:08.420Z"
   },
   {
    "duration": 3,
    "start_time": "2022-05-19T13:40:12.960Z"
   },
   {
    "duration": 88,
    "start_time": "2022-05-19T13:40:12.964Z"
   },
   {
    "duration": 3,
    "start_time": "2022-05-19T13:40:13.054Z"
   },
   {
    "duration": 40,
    "start_time": "2022-05-19T13:40:13.059Z"
   },
   {
    "duration": 18,
    "start_time": "2022-05-19T13:40:13.101Z"
   },
   {
    "duration": 15,
    "start_time": "2022-05-19T13:40:13.121Z"
   },
   {
    "duration": 20,
    "start_time": "2022-05-19T13:40:13.141Z"
   },
   {
    "duration": 463,
    "start_time": "2022-05-19T13:40:13.162Z"
   },
   {
    "duration": 30,
    "start_time": "2022-05-19T13:40:13.627Z"
   },
   {
    "duration": 4,
    "start_time": "2022-05-19T13:40:13.658Z"
   },
   {
    "duration": 27,
    "start_time": "2022-05-19T13:40:13.664Z"
   },
   {
    "duration": 23,
    "start_time": "2022-05-19T13:40:13.692Z"
   },
   {
    "duration": 5,
    "start_time": "2022-05-19T13:40:13.716Z"
   },
   {
    "duration": 6,
    "start_time": "2022-05-19T13:40:13.753Z"
   },
   {
    "duration": 18,
    "start_time": "2022-05-19T13:40:13.761Z"
   },
   {
    "duration": 11,
    "start_time": "2022-05-19T13:40:13.781Z"
   },
   {
    "duration": 11,
    "start_time": "2022-05-19T13:40:13.794Z"
   },
   {
    "duration": 6,
    "start_time": "2022-05-19T13:40:13.807Z"
   },
   {
    "duration": 37,
    "start_time": "2022-05-19T13:40:13.815Z"
   },
   {
    "duration": 8,
    "start_time": "2022-05-19T13:40:13.854Z"
   },
   {
    "duration": 239,
    "start_time": "2022-05-19T13:40:13.864Z"
   },
   {
    "duration": 13,
    "start_time": "2022-05-19T13:40:14.105Z"
   },
   {
    "duration": 3,
    "start_time": "2022-05-19T13:40:14.120Z"
   },
   {
    "duration": 18,
    "start_time": "2022-05-19T13:40:14.141Z"
   },
   {
    "duration": 157,
    "start_time": "2022-05-19T13:40:14.161Z"
   },
   {
    "duration": 124,
    "start_time": "2022-05-19T13:40:14.320Z"
   },
   {
    "duration": 28,
    "start_time": "2022-05-19T13:40:14.452Z"
   },
   {
    "duration": 8,
    "start_time": "2022-05-19T13:40:14.481Z"
   },
   {
    "duration": 30,
    "start_time": "2022-05-19T13:40:14.491Z"
   },
   {
    "duration": 277,
    "start_time": "2022-05-19T13:40:14.546Z"
   },
   {
    "duration": 26,
    "start_time": "2022-05-19T13:40:14.825Z"
   },
   {
    "duration": 225,
    "start_time": "2022-05-19T13:40:14.857Z"
   },
   {
    "duration": 1178,
    "start_time": "2022-05-19T13:40:15.084Z"
   },
   {
    "duration": 8,
    "start_time": "2022-05-19T13:40:16.265Z"
   },
   {
    "duration": 242,
    "start_time": "2022-05-19T13:40:16.274Z"
   },
   {
    "duration": 709,
    "start_time": "2022-05-19T13:40:16.517Z"
   },
   {
    "duration": 332,
    "start_time": "2022-05-19T13:40:17.228Z"
   },
   {
    "duration": 23,
    "start_time": "2022-05-19T13:40:17.561Z"
   },
   {
    "duration": 5,
    "start_time": "2022-05-19T13:40:17.586Z"
   },
   {
    "duration": 11,
    "start_time": "2022-05-19T13:40:17.593Z"
   },
   {
    "duration": 3,
    "start_time": "2022-05-19T13:40:17.607Z"
   },
   {
    "duration": 10,
    "start_time": "2022-05-19T13:40:22.517Z"
   },
   {
    "duration": 11,
    "start_time": "2022-05-19T13:40:54.701Z"
   },
   {
    "duration": 12,
    "start_time": "2022-05-19T13:41:51.780Z"
   },
   {
    "duration": 22,
    "start_time": "2022-05-19T13:44:37.040Z"
   },
   {
    "duration": 17,
    "start_time": "2022-05-19T13:45:41.160Z"
   },
   {
    "duration": 9,
    "start_time": "2022-05-19T13:46:11.227Z"
   },
   {
    "duration": 22,
    "start_time": "2022-05-19T13:46:29.153Z"
   },
   {
    "duration": 14,
    "start_time": "2022-05-19T13:53:56.448Z"
   },
   {
    "duration": 10,
    "start_time": "2022-05-19T13:54:19.851Z"
   },
   {
    "duration": 21,
    "start_time": "2022-05-19T13:54:28.284Z"
   },
   {
    "duration": 14,
    "start_time": "2022-05-19T13:59:42.306Z"
   },
   {
    "duration": 11,
    "start_time": "2022-05-19T14:00:12.465Z"
   },
   {
    "duration": 18,
    "start_time": "2022-05-19T14:00:59.116Z"
   },
   {
    "duration": 17,
    "start_time": "2022-05-19T14:01:17.660Z"
   },
   {
    "duration": 15,
    "start_time": "2022-05-19T14:02:01.750Z"
   },
   {
    "duration": 3,
    "start_time": "2022-05-19T14:03:06.194Z"
   },
   {
    "duration": 5,
    "start_time": "2022-05-19T14:03:19.176Z"
   },
   {
    "duration": 18,
    "start_time": "2022-05-19T14:04:14.928Z"
   },
   {
    "duration": 22,
    "start_time": "2022-05-19T14:07:47.755Z"
   },
   {
    "duration": 23,
    "start_time": "2022-05-19T14:08:17.162Z"
   },
   {
    "duration": 24,
    "start_time": "2022-05-19T14:08:28.976Z"
   },
   {
    "duration": 27,
    "start_time": "2022-05-19T14:08:43.657Z"
   },
   {
    "duration": 25,
    "start_time": "2022-05-19T14:09:27.097Z"
   },
   {
    "duration": 9,
    "start_time": "2022-05-19T14:14:53.902Z"
   },
   {
    "duration": 6,
    "start_time": "2022-05-19T14:15:05.241Z"
   },
   {
    "duration": 4,
    "start_time": "2022-05-19T14:15:37.795Z"
   },
   {
    "duration": 4,
    "start_time": "2022-05-19T14:15:56.456Z"
   },
   {
    "duration": 14,
    "start_time": "2022-05-19T14:24:37.083Z"
   },
   {
    "duration": 756,
    "start_time": "2022-05-19T14:25:05.288Z"
   },
   {
    "duration": 833,
    "start_time": "2022-05-19T14:25:39.798Z"
   },
   {
    "duration": 750,
    "start_time": "2022-05-19T14:25:48.957Z"
   },
   {
    "duration": 1368,
    "start_time": "2022-05-19T14:26:05.002Z"
   },
   {
    "duration": 1099,
    "start_time": "2022-05-19T14:26:11.264Z"
   },
   {
    "duration": 1087,
    "start_time": "2022-05-19T14:26:39.971Z"
   },
   {
    "duration": 10,
    "start_time": "2022-05-19T14:26:56.795Z"
   },
   {
    "duration": 1220,
    "start_time": "2022-05-19T14:27:41.212Z"
   },
   {
    "duration": 1187,
    "start_time": "2022-05-19T14:28:17.389Z"
   },
   {
    "duration": 4,
    "start_time": "2022-05-19T14:29:23.743Z"
   },
   {
    "duration": 5,
    "start_time": "2022-05-19T14:29:30.910Z"
   },
   {
    "duration": 1228,
    "start_time": "2022-05-19T14:29:41.797Z"
   },
   {
    "duration": 4,
    "start_time": "2022-05-19T14:34:17.100Z"
   },
   {
    "duration": 95,
    "start_time": "2022-05-19T14:34:17.109Z"
   },
   {
    "duration": 3,
    "start_time": "2022-05-19T14:34:17.206Z"
   },
   {
    "duration": 47,
    "start_time": "2022-05-19T14:34:17.210Z"
   },
   {
    "duration": 11,
    "start_time": "2022-05-19T14:34:17.260Z"
   },
   {
    "duration": 9,
    "start_time": "2022-05-19T14:34:17.273Z"
   },
   {
    "duration": 12,
    "start_time": "2022-05-19T14:34:17.284Z"
   },
   {
    "duration": 595,
    "start_time": "2022-05-19T14:34:17.298Z"
   },
   {
    "duration": 12,
    "start_time": "2022-05-19T14:34:17.894Z"
   },
   {
    "duration": 8,
    "start_time": "2022-05-19T14:34:17.908Z"
   },
   {
    "duration": 43,
    "start_time": "2022-05-19T14:34:17.918Z"
   },
   {
    "duration": 20,
    "start_time": "2022-05-19T14:34:17.963Z"
   },
   {
    "duration": 4,
    "start_time": "2022-05-19T14:34:17.984Z"
   },
   {
    "duration": 7,
    "start_time": "2022-05-19T14:34:17.989Z"
   },
   {
    "duration": 16,
    "start_time": "2022-05-19T14:34:17.997Z"
   },
   {
    "duration": 39,
    "start_time": "2022-05-19T14:34:18.016Z"
   },
   {
    "duration": 9,
    "start_time": "2022-05-19T14:34:18.057Z"
   },
   {
    "duration": 188,
    "start_time": "2022-05-19T14:34:18.067Z"
   },
   {
    "duration": 13,
    "start_time": "2022-05-19T14:34:18.257Z"
   },
   {
    "duration": 7,
    "start_time": "2022-05-19T14:34:18.272Z"
   },
   {
    "duration": 232,
    "start_time": "2022-05-19T14:34:18.280Z"
   },
   {
    "duration": 13,
    "start_time": "2022-05-19T14:34:18.514Z"
   },
   {
    "duration": 18,
    "start_time": "2022-05-19T14:34:18.529Z"
   },
   {
    "duration": 8,
    "start_time": "2022-05-19T14:34:18.552Z"
   },
   {
    "duration": 145,
    "start_time": "2022-05-19T14:34:18.561Z"
   },
   {
    "duration": 113,
    "start_time": "2022-05-19T14:34:18.709Z"
   },
   {
    "duration": 32,
    "start_time": "2022-05-19T14:34:18.824Z"
   },
   {
    "duration": 7,
    "start_time": "2022-05-19T14:34:18.858Z"
   },
   {
    "duration": 23,
    "start_time": "2022-05-19T14:34:18.866Z"
   },
   {
    "duration": 281,
    "start_time": "2022-05-19T14:34:18.891Z"
   },
   {
    "duration": 11,
    "start_time": "2022-05-19T14:34:19.174Z"
   },
   {
    "duration": 212,
    "start_time": "2022-05-19T14:34:19.187Z"
   },
   {
    "duration": 1071,
    "start_time": "2022-05-19T14:34:19.401Z"
   },
   {
    "duration": 8,
    "start_time": "2022-05-19T14:34:20.473Z"
   },
   {
    "duration": 230,
    "start_time": "2022-05-19T14:34:20.482Z"
   },
   {
    "duration": 789,
    "start_time": "2022-05-19T14:34:20.713Z"
   },
   {
    "duration": 334,
    "start_time": "2022-05-19T14:34:21.504Z"
   },
   {
    "duration": 27,
    "start_time": "2022-05-19T14:34:21.841Z"
   },
   {
    "duration": 5,
    "start_time": "2022-05-19T14:34:21.869Z"
   },
   {
    "duration": 10,
    "start_time": "2022-05-19T14:34:21.877Z"
   },
   {
    "duration": 4,
    "start_time": "2022-05-19T14:34:21.889Z"
   },
   {
    "duration": 16,
    "start_time": "2022-05-19T14:34:21.894Z"
   },
   {
    "duration": 44,
    "start_time": "2022-05-19T14:34:21.912Z"
   },
   {
    "duration": 13,
    "start_time": "2022-05-19T14:34:21.957Z"
   },
   {
    "duration": 302,
    "start_time": "2022-05-19T14:34:21.972Z"
   },
   {
    "duration": 9,
    "start_time": "2022-05-19T14:34:22.276Z"
   },
   {
    "duration": 8,
    "start_time": "2022-05-19T14:34:22.287Z"
   },
   {
    "duration": 308,
    "start_time": "2022-05-19T14:34:22.296Z"
   },
   {
    "duration": 1780,
    "start_time": "2022-05-19T14:34:22.606Z"
   },
   {
    "duration": 1273,
    "start_time": "2022-05-19T14:34:24.388Z"
   },
   {
    "duration": 213,
    "start_time": "2022-05-19T14:34:25.663Z"
   },
   {
    "duration": 11,
    "start_time": "2022-05-19T14:34:25.878Z"
   },
   {
    "duration": 13,
    "start_time": "2022-05-19T14:36:22.458Z"
   },
   {
    "duration": 3,
    "start_time": "2022-05-19T14:36:37.278Z"
   },
   {
    "duration": 74,
    "start_time": "2022-05-19T14:36:37.283Z"
   },
   {
    "duration": 3,
    "start_time": "2022-05-19T14:36:37.359Z"
   },
   {
    "duration": 36,
    "start_time": "2022-05-19T14:36:37.364Z"
   },
   {
    "duration": 9,
    "start_time": "2022-05-19T14:36:37.402Z"
   },
   {
    "duration": 40,
    "start_time": "2022-05-19T14:36:37.413Z"
   },
   {
    "duration": 7,
    "start_time": "2022-05-19T14:36:37.455Z"
   },
   {
    "duration": 424,
    "start_time": "2022-05-19T14:36:37.463Z"
   },
   {
    "duration": 11,
    "start_time": "2022-05-19T14:36:37.889Z"
   },
   {
    "duration": 4,
    "start_time": "2022-05-19T14:36:37.902Z"
   },
   {
    "duration": 47,
    "start_time": "2022-05-19T14:36:37.909Z"
   },
   {
    "duration": 21,
    "start_time": "2022-05-19T14:36:37.957Z"
   },
   {
    "duration": 4,
    "start_time": "2022-05-19T14:36:37.980Z"
   },
   {
    "duration": 6,
    "start_time": "2022-05-19T14:36:37.986Z"
   },
   {
    "duration": 16,
    "start_time": "2022-05-19T14:36:37.993Z"
   },
   {
    "duration": 9,
    "start_time": "2022-05-19T14:36:38.010Z"
   },
   {
    "duration": 35,
    "start_time": "2022-05-19T14:36:38.021Z"
   },
   {
    "duration": 8,
    "start_time": "2022-05-19T14:36:38.058Z"
   },
   {
    "duration": 15,
    "start_time": "2022-05-19T14:36:38.068Z"
   },
   {
    "duration": 7,
    "start_time": "2022-05-19T14:36:38.085Z"
   },
   {
    "duration": 224,
    "start_time": "2022-05-19T14:36:38.093Z"
   },
   {
    "duration": 14,
    "start_time": "2022-05-19T14:36:38.319Z"
   },
   {
    "duration": 17,
    "start_time": "2022-05-19T14:36:38.334Z"
   },
   {
    "duration": 12,
    "start_time": "2022-05-19T14:36:38.353Z"
   },
   {
    "duration": 150,
    "start_time": "2022-05-19T14:36:38.366Z"
   },
   {
    "duration": 93,
    "start_time": "2022-05-19T14:36:38.517Z"
   },
   {
    "duration": 44,
    "start_time": "2022-05-19T14:36:38.612Z"
   },
   {
    "duration": 8,
    "start_time": "2022-05-19T14:36:38.658Z"
   },
   {
    "duration": 22,
    "start_time": "2022-05-19T14:36:38.669Z"
   },
   {
    "duration": 262,
    "start_time": "2022-05-19T14:36:38.693Z"
   },
   {
    "duration": 11,
    "start_time": "2022-05-19T14:36:38.958Z"
   },
   {
    "duration": 204,
    "start_time": "2022-05-19T14:36:38.971Z"
   },
   {
    "duration": 1201,
    "start_time": "2022-05-19T14:36:39.177Z"
   },
   {
    "duration": 8,
    "start_time": "2022-05-19T14:36:40.380Z"
   },
   {
    "duration": 226,
    "start_time": "2022-05-19T14:36:40.389Z"
   },
   {
    "duration": 622,
    "start_time": "2022-05-19T14:36:40.617Z"
   },
   {
    "duration": 275,
    "start_time": "2022-05-19T14:36:41.240Z"
   },
   {
    "duration": 37,
    "start_time": "2022-05-19T14:36:41.517Z"
   },
   {
    "duration": 6,
    "start_time": "2022-05-19T14:36:41.556Z"
   },
   {
    "duration": 15,
    "start_time": "2022-05-19T14:36:41.564Z"
   },
   {
    "duration": 5,
    "start_time": "2022-05-19T14:36:41.581Z"
   },
   {
    "duration": 20,
    "start_time": "2022-05-19T14:36:41.588Z"
   },
   {
    "duration": 6,
    "start_time": "2022-05-19T14:36:41.610Z"
   },
   {
    "duration": 31,
    "start_time": "2022-05-19T14:36:41.618Z"
   },
   {
    "duration": 315,
    "start_time": "2022-05-19T14:36:41.651Z"
   },
   {
    "duration": 10,
    "start_time": "2022-05-19T14:36:41.968Z"
   },
   {
    "duration": 8,
    "start_time": "2022-05-19T14:36:41.980Z"
   },
   {
    "duration": 309,
    "start_time": "2022-05-19T14:36:41.989Z"
   },
   {
    "duration": 1772,
    "start_time": "2022-05-19T14:36:42.300Z"
   },
   {
    "duration": 1207,
    "start_time": "2022-05-19T14:36:44.074Z"
   },
   {
    "duration": 229,
    "start_time": "2022-05-19T14:36:45.283Z"
   },
   {
    "duration": 10,
    "start_time": "2022-05-19T14:36:45.514Z"
   },
   {
    "duration": 23,
    "start_time": "2022-05-19T14:36:45.541Z"
   },
   {
    "duration": 21,
    "start_time": "2022-05-19T14:36:45.565Z"
   },
   {
    "duration": 247,
    "start_time": "2022-05-19T14:36:45.588Z"
   },
   {
    "duration": 7,
    "start_time": "2022-05-19T14:37:06.418Z"
   },
   {
    "duration": 6,
    "start_time": "2022-05-19T14:37:13.902Z"
   },
   {
    "duration": 233,
    "start_time": "2022-05-19T14:37:47.372Z"
   },
   {
    "duration": 267,
    "start_time": "2022-05-19T14:38:10.057Z"
   },
   {
    "duration": 261,
    "start_time": "2022-05-19T14:38:24.623Z"
   },
   {
    "duration": 263,
    "start_time": "2022-05-19T14:38:51.804Z"
   },
   {
    "duration": 338,
    "start_time": "2022-05-19T14:39:06.958Z"
   },
   {
    "duration": 276,
    "start_time": "2022-05-19T14:39:18.129Z"
   },
   {
    "duration": 246,
    "start_time": "2022-05-19T14:39:53.187Z"
   },
   {
    "duration": 3109,
    "start_time": "2022-05-19T14:41:08.792Z"
   },
   {
    "duration": 28,
    "start_time": "2022-05-19T14:41:15.512Z"
   },
   {
    "duration": 51,
    "start_time": "2022-05-19T15:52:20.973Z"
   },
   {
    "duration": 8,
    "start_time": "2022-05-19T15:52:25.753Z"
   },
   {
    "duration": 1359,
    "start_time": "2022-05-19T15:52:29.333Z"
   },
   {
    "duration": 232,
    "start_time": "2022-05-19T15:52:30.694Z"
   },
   {
    "duration": 4,
    "start_time": "2022-05-19T15:52:30.927Z"
   },
   {
    "duration": 53,
    "start_time": "2022-05-19T15:52:30.933Z"
   },
   {
    "duration": 9,
    "start_time": "2022-05-19T15:52:30.988Z"
   },
   {
    "duration": 24,
    "start_time": "2022-05-19T15:52:30.998Z"
   },
   {
    "duration": 30,
    "start_time": "2022-05-19T15:52:31.024Z"
   },
   {
    "duration": 413,
    "start_time": "2022-05-19T15:52:31.056Z"
   },
   {
    "duration": 11,
    "start_time": "2022-05-19T15:52:31.471Z"
   },
   {
    "duration": 29,
    "start_time": "2022-05-19T15:52:31.485Z"
   },
   {
    "duration": 67,
    "start_time": "2022-05-19T15:52:31.515Z"
   },
   {
    "duration": 85,
    "start_time": "2022-05-19T15:52:31.583Z"
   },
   {
    "duration": 11,
    "start_time": "2022-05-19T15:52:31.669Z"
   },
   {
    "duration": 17,
    "start_time": "2022-05-19T15:52:31.681Z"
   },
   {
    "duration": 121,
    "start_time": "2022-05-19T15:52:31.700Z"
   },
   {
    "duration": 11,
    "start_time": "2022-05-19T15:52:31.823Z"
   },
   {
    "duration": 24,
    "start_time": "2022-05-19T15:52:31.836Z"
   },
   {
    "duration": 18,
    "start_time": "2022-05-19T15:52:31.861Z"
   },
   {
    "duration": 46,
    "start_time": "2022-05-19T15:52:31.881Z"
   },
   {
    "duration": 56,
    "start_time": "2022-05-19T15:52:31.929Z"
   },
   {
    "duration": 60,
    "start_time": "2022-05-19T15:52:34.926Z"
   },
   {
    "duration": 6,
    "start_time": "2022-05-19T15:52:36.553Z"
   },
   {
    "duration": 4,
    "start_time": "2022-05-19T15:52:39.281Z"
   },
   {
    "duration": 4,
    "start_time": "2022-05-19T15:52:47.496Z"
   },
   {
    "duration": 216,
    "start_time": "2022-05-19T15:52:57.725Z"
   },
   {
    "duration": 115,
    "start_time": "2022-05-19T15:53:15.478Z"
   },
   {
    "duration": 36,
    "start_time": "2022-05-19T15:53:58.509Z"
   },
   {
    "duration": 316,
    "start_time": "2022-05-19T15:54:15.968Z"
   },
   {
    "duration": 26,
    "start_time": "2022-05-19T15:54:22.706Z"
   },
   {
    "duration": 193,
    "start_time": "2022-05-19T15:54:39.261Z"
   },
   {
    "duration": 21,
    "start_time": "2022-05-19T15:56:26.498Z"
   },
   {
    "duration": 5,
    "start_time": "2022-05-19T15:56:48.161Z"
   },
   {
    "duration": 8,
    "start_time": "2022-05-19T15:56:51.482Z"
   },
   {
    "duration": 21,
    "start_time": "2022-05-19T15:57:07.938Z"
   },
   {
    "duration": 12,
    "start_time": "2022-05-19T15:57:20.907Z"
   },
   {
    "duration": 8,
    "start_time": "2022-05-19T15:57:21.956Z"
   },
   {
    "duration": 18,
    "start_time": "2022-05-19T15:57:29.697Z"
   },
   {
    "duration": 11,
    "start_time": "2022-05-19T15:57:42.586Z"
   },
   {
    "duration": 240,
    "start_time": "2022-05-19T15:57:47.629Z"
   },
   {
    "duration": 207,
    "start_time": "2022-05-19T15:58:14.357Z"
   },
   {
    "duration": 231,
    "start_time": "2022-05-19T15:58:28.973Z"
   },
   {
    "duration": 5,
    "start_time": "2022-05-19T15:59:27.325Z"
   },
   {
    "duration": 218,
    "start_time": "2022-05-19T15:59:38.656Z"
   },
   {
    "duration": 21,
    "start_time": "2022-05-19T15:59:57.178Z"
   },
   {
    "duration": 18,
    "start_time": "2022-05-19T16:00:09.342Z"
   },
   {
    "duration": 18,
    "start_time": "2022-05-19T16:00:12.678Z"
   },
   {
    "duration": 7,
    "start_time": "2022-05-19T16:00:24.887Z"
   },
   {
    "duration": 182,
    "start_time": "2022-05-19T16:00:40.154Z"
   },
   {
    "duration": 170,
    "start_time": "2022-05-19T16:00:52.716Z"
   },
   {
    "duration": 271,
    "start_time": "2022-05-19T16:01:11.125Z"
   },
   {
    "duration": 201,
    "start_time": "2022-05-19T16:01:20.301Z"
   },
   {
    "duration": 178,
    "start_time": "2022-05-19T16:01:30.895Z"
   },
   {
    "duration": 214,
    "start_time": "2022-05-19T16:01:56.424Z"
   },
   {
    "duration": 177,
    "start_time": "2022-05-19T16:02:11.867Z"
   },
   {
    "duration": 10,
    "start_time": "2022-05-19T16:05:42.232Z"
   },
   {
    "duration": 3,
    "start_time": "2022-05-19T16:05:45.825Z"
   },
   {
    "duration": 85,
    "start_time": "2022-05-19T16:05:45.830Z"
   },
   {
    "duration": 3,
    "start_time": "2022-05-19T16:05:45.918Z"
   },
   {
    "duration": 50,
    "start_time": "2022-05-19T16:05:45.923Z"
   },
   {
    "duration": 6,
    "start_time": "2022-05-19T16:05:45.976Z"
   },
   {
    "duration": 8,
    "start_time": "2022-05-19T16:05:45.984Z"
   },
   {
    "duration": 5,
    "start_time": "2022-05-19T16:05:45.993Z"
   },
   {
    "duration": 490,
    "start_time": "2022-05-19T16:05:46.000Z"
   },
   {
    "duration": 11,
    "start_time": "2022-05-19T16:05:46.492Z"
   },
   {
    "duration": 7,
    "start_time": "2022-05-19T16:05:46.505Z"
   },
   {
    "duration": 23,
    "start_time": "2022-05-19T16:05:46.515Z"
   },
   {
    "duration": 40,
    "start_time": "2022-05-19T16:05:46.540Z"
   },
   {
    "duration": 5,
    "start_time": "2022-05-19T16:05:46.582Z"
   },
   {
    "duration": 17,
    "start_time": "2022-05-19T16:05:46.589Z"
   },
   {
    "duration": 17,
    "start_time": "2022-05-19T16:05:46.608Z"
   },
   {
    "duration": 13,
    "start_time": "2022-05-19T16:05:46.627Z"
   },
   {
    "duration": 20,
    "start_time": "2022-05-19T16:05:46.642Z"
   },
   {
    "duration": 7,
    "start_time": "2022-05-19T16:05:46.663Z"
   },
   {
    "duration": 22,
    "start_time": "2022-05-19T16:05:46.672Z"
   },
   {
    "duration": 14,
    "start_time": "2022-05-19T16:05:46.696Z"
   },
   {
    "duration": 225,
    "start_time": "2022-05-19T16:05:46.712Z"
   },
   {
    "duration": 25,
    "start_time": "2022-05-19T16:05:46.939Z"
   },
   {
    "duration": 6,
    "start_time": "2022-05-19T16:05:46.968Z"
   },
   {
    "duration": 24,
    "start_time": "2022-05-19T16:05:46.976Z"
   },
   {
    "duration": 139,
    "start_time": "2022-05-19T16:05:47.001Z"
   },
   {
    "duration": 102,
    "start_time": "2022-05-19T16:05:47.142Z"
   },
   {
    "duration": 37,
    "start_time": "2022-05-19T16:05:47.246Z"
   },
   {
    "duration": 7,
    "start_time": "2022-05-19T16:05:47.285Z"
   },
   {
    "duration": 207,
    "start_time": "2022-05-19T16:05:47.297Z"
   },
   {
    "duration": 6,
    "start_time": "2022-05-19T16:05:47.506Z"
   },
   {
    "duration": 7,
    "start_time": "2022-05-19T16:05:47.514Z"
   },
   {
    "duration": 343,
    "start_time": "2022-05-19T16:05:47.522Z"
   },
   {
    "duration": 14,
    "start_time": "2022-05-19T16:05:47.866Z"
   },
   {
    "duration": 246,
    "start_time": "2022-05-19T16:05:47.882Z"
   },
   {
    "duration": 976,
    "start_time": "2022-05-19T16:05:48.130Z"
   },
   {
    "duration": 6,
    "start_time": "2022-05-19T16:05:49.108Z"
   },
   {
    "duration": 203,
    "start_time": "2022-05-19T16:05:49.116Z"
   },
   {
    "duration": 556,
    "start_time": "2022-05-19T16:05:49.320Z"
   },
   {
    "duration": 264,
    "start_time": "2022-05-19T16:05:49.878Z"
   },
   {
    "duration": 28,
    "start_time": "2022-05-19T16:05:50.144Z"
   },
   {
    "duration": 4,
    "start_time": "2022-05-19T16:05:50.173Z"
   },
   {
    "duration": 113,
    "start_time": "2022-05-19T16:05:50.179Z"
   },
   {
    "duration": 8,
    "start_time": "2022-05-19T16:05:50.294Z"
   },
   {
    "duration": 14,
    "start_time": "2022-05-19T16:05:50.303Z"
   },
   {
    "duration": 6,
    "start_time": "2022-05-19T16:05:50.318Z"
   },
   {
    "duration": 10,
    "start_time": "2022-05-19T16:05:50.325Z"
   },
   {
    "duration": 265,
    "start_time": "2022-05-19T16:05:50.337Z"
   },
   {
    "duration": 8,
    "start_time": "2022-05-19T16:05:50.604Z"
   },
   {
    "duration": 18,
    "start_time": "2022-05-19T16:05:50.614Z"
   },
   {
    "duration": 254,
    "start_time": "2022-05-19T16:05:50.634Z"
   },
   {
    "duration": 1771,
    "start_time": "2022-05-19T16:05:50.890Z"
   },
   {
    "duration": 1161,
    "start_time": "2022-05-19T16:05:52.663Z"
   },
   {
    "duration": 46,
    "start_time": "2022-05-19T16:05:53.825Z"
   },
   {
    "duration": 9,
    "start_time": "2022-05-19T16:05:53.873Z"
   },
   {
    "duration": 18,
    "start_time": "2022-05-19T16:05:53.883Z"
   },
   {
    "duration": 20,
    "start_time": "2022-05-19T16:05:53.903Z"
   },
   {
    "duration": 437,
    "start_time": "2022-05-19T16:05:53.924Z"
   },
   {
    "duration": 248,
    "start_time": "2022-05-19T16:05:54.364Z"
   },
   {
    "duration": 3570,
    "start_time": "2022-05-19T16:05:54.614Z"
   },
   {
    "duration": 45,
    "start_time": "2022-05-19T16:05:58.185Z"
   },
   {
    "duration": 43,
    "start_time": "2022-05-19T16:05:58.232Z"
   },
   {
    "duration": 11,
    "start_time": "2022-05-19T16:05:58.276Z"
   },
   {
    "duration": 28,
    "start_time": "2022-05-19T16:05:58.289Z"
   },
   {
    "duration": 14,
    "start_time": "2022-05-19T16:05:58.319Z"
   },
   {
    "duration": 26,
    "start_time": "2022-05-19T16:05:58.335Z"
   },
   {
    "duration": 32,
    "start_time": "2022-05-19T16:05:58.363Z"
   },
   {
    "duration": 31,
    "start_time": "2022-05-19T16:05:58.396Z"
   },
   {
    "duration": 33,
    "start_time": "2022-05-19T16:05:58.429Z"
   },
   {
    "duration": 30,
    "start_time": "2022-05-19T16:05:58.463Z"
   },
   {
    "duration": 45,
    "start_time": "2022-05-19T16:05:58.495Z"
   },
   {
    "duration": 31,
    "start_time": "2022-05-19T16:05:58.542Z"
   },
   {
    "duration": 29,
    "start_time": "2022-05-19T16:05:58.574Z"
   },
   {
    "duration": 31,
    "start_time": "2022-05-19T16:05:58.604Z"
   },
   {
    "duration": 426,
    "start_time": "2022-05-19T16:05:58.636Z"
   },
   {
    "duration": 30,
    "start_time": "2022-05-19T16:06:48.317Z"
   },
   {
    "duration": 8,
    "start_time": "2022-05-19T16:07:28.624Z"
   },
   {
    "duration": 21,
    "start_time": "2022-05-19T16:07:47.007Z"
   },
   {
    "duration": 9,
    "start_time": "2022-05-19T16:07:57.893Z"
   },
   {
    "duration": 8,
    "start_time": "2022-05-19T16:08:20.542Z"
   },
   {
    "duration": 7,
    "start_time": "2022-05-19T16:08:29.144Z"
   },
   {
    "duration": 3,
    "start_time": "2022-05-19T16:09:25.193Z"
   },
   {
    "duration": 35,
    "start_time": "2022-05-19T16:10:16.286Z"
   },
   {
    "duration": 834,
    "start_time": "2022-05-19T16:10:29.933Z"
   },
   {
    "duration": 5,
    "start_time": "2022-05-19T16:10:44.907Z"
   },
   {
    "duration": 15,
    "start_time": "2022-05-19T16:10:46.069Z"
   },
   {
    "duration": 34,
    "start_time": "2022-05-19T16:11:58.443Z"
   },
   {
    "duration": 24,
    "start_time": "2022-05-19T16:12:02.216Z"
   },
   {
    "duration": 66,
    "start_time": "2022-05-19T16:12:42.908Z"
   },
   {
    "duration": 139,
    "start_time": "2022-05-19T16:12:57.183Z"
   },
   {
    "duration": 18,
    "start_time": "2022-05-19T16:13:19.242Z"
   },
   {
    "duration": 7,
    "start_time": "2022-05-19T16:13:29.514Z"
   },
   {
    "duration": 28,
    "start_time": "2022-05-19T16:13:48.546Z"
   },
   {
    "duration": 7,
    "start_time": "2022-05-19T16:13:50.620Z"
   },
   {
    "duration": 19,
    "start_time": "2022-05-19T16:14:03.148Z"
   },
   {
    "duration": 8,
    "start_time": "2022-05-19T16:14:05.077Z"
   },
   {
    "duration": 233,
    "start_time": "2022-05-19T16:16:12.280Z"
   },
   {
    "duration": 12,
    "start_time": "2022-05-19T16:29:04.790Z"
   },
   {
    "duration": 182,
    "start_time": "2022-05-19T16:29:13.413Z"
   },
   {
    "duration": 1075,
    "start_time": "2022-05-19T16:29:16.681Z"
   },
   {
    "duration": 164,
    "start_time": "2022-05-19T16:30:46.421Z"
   },
   {
    "duration": 169,
    "start_time": "2022-05-19T16:30:56.624Z"
   },
   {
    "duration": 172,
    "start_time": "2022-05-19T16:31:16.194Z"
   },
   {
    "duration": 175,
    "start_time": "2022-05-19T16:31:48.167Z"
   },
   {
    "duration": 1054,
    "start_time": "2022-05-19T16:34:53.180Z"
   },
   {
    "duration": 831,
    "start_time": "2022-05-19T16:35:03.838Z"
   },
   {
    "duration": 1021,
    "start_time": "2022-05-19T16:36:53.731Z"
   },
   {
    "duration": 232,
    "start_time": "2022-05-19T16:36:57.779Z"
   },
   {
    "duration": 844,
    "start_time": "2022-05-19T16:36:59.736Z"
   },
   {
    "duration": 244,
    "start_time": "2022-05-19T16:37:04.503Z"
   },
   {
    "duration": 19,
    "start_time": "2022-05-19T16:37:14.152Z"
   },
   {
    "duration": 5,
    "start_time": "2022-05-19T16:37:16.356Z"
   },
   {
    "duration": 11,
    "start_time": "2022-05-19T16:37:18.658Z"
   },
   {
    "duration": 4,
    "start_time": "2022-05-19T16:37:20.481Z"
   },
   {
    "duration": 14,
    "start_time": "2022-05-19T16:37:24.125Z"
   },
   {
    "duration": 1078,
    "start_time": "2022-05-19T16:40:49.257Z"
   },
   {
    "duration": 4,
    "start_time": "2022-05-19T16:44:34.064Z"
   },
   {
    "duration": 8,
    "start_time": "2022-05-19T16:44:43.742Z"
   },
   {
    "duration": 12,
    "start_time": "2022-05-19T16:44:59.480Z"
   },
   {
    "duration": 9,
    "start_time": "2022-05-19T16:45:00.859Z"
   },
   {
    "duration": 33,
    "start_time": "2022-05-19T16:45:21.461Z"
   },
   {
    "duration": 228,
    "start_time": "2022-05-19T16:45:31.737Z"
   },
   {
    "duration": 262,
    "start_time": "2022-05-19T16:45:40.299Z"
   },
   {
    "duration": 265,
    "start_time": "2022-05-19T16:47:23.681Z"
   },
   {
    "duration": 262,
    "start_time": "2022-05-19T16:47:31.941Z"
   },
   {
    "duration": 247,
    "start_time": "2022-05-19T16:47:42.886Z"
   },
   {
    "duration": 247,
    "start_time": "2022-05-19T16:47:47.390Z"
   },
   {
    "duration": 300,
    "start_time": "2022-05-19T16:47:51.677Z"
   },
   {
    "duration": 271,
    "start_time": "2022-05-19T16:47:56.378Z"
   },
   {
    "duration": 276,
    "start_time": "2022-05-19T16:48:10.207Z"
   },
   {
    "duration": 544,
    "start_time": "2022-05-19T16:48:18.818Z"
   },
   {
    "duration": 309,
    "start_time": "2022-05-19T16:48:41.657Z"
   },
   {
    "duration": 265,
    "start_time": "2022-05-19T16:48:56.449Z"
   },
   {
    "duration": 272,
    "start_time": "2022-05-19T16:49:03.875Z"
   },
   {
    "duration": 270,
    "start_time": "2022-05-19T16:49:56.567Z"
   },
   {
    "duration": 193,
    "start_time": "2022-05-19T16:49:59.940Z"
   },
   {
    "duration": 485,
    "start_time": "2022-05-19T16:50:27.364Z"
   },
   {
    "duration": 9,
    "start_time": "2022-05-19T16:50:44.864Z"
   },
   {
    "duration": 10,
    "start_time": "2022-05-19T16:51:13.246Z"
   },
   {
    "duration": 10,
    "start_time": "2022-05-19T16:51:15.031Z"
   },
   {
    "duration": 273,
    "start_time": "2022-05-19T16:51:23.961Z"
   },
   {
    "duration": 259,
    "start_time": "2022-05-19T16:52:39.102Z"
   },
   {
    "duration": 7,
    "start_time": "2022-05-19T16:53:15.046Z"
   },
   {
    "duration": 14,
    "start_time": "2022-05-19T16:53:33.969Z"
   },
   {
    "duration": 9,
    "start_time": "2022-05-19T16:53:35.233Z"
   },
   {
    "duration": 373,
    "start_time": "2022-05-19T16:53:42.949Z"
   },
   {
    "duration": 261,
    "start_time": "2022-05-19T16:57:09.628Z"
   },
   {
    "duration": 38,
    "start_time": "2022-05-19T16:57:23.501Z"
   },
   {
    "duration": 5,
    "start_time": "2022-05-19T16:57:32.080Z"
   },
   {
    "duration": 369,
    "start_time": "2022-05-19T16:57:37.654Z"
   },
   {
    "duration": 394,
    "start_time": "2022-05-19T16:58:10.807Z"
   },
   {
    "duration": 41,
    "start_time": "2022-05-19T17:00:21.279Z"
   },
   {
    "duration": 297,
    "start_time": "2022-05-19T17:01:09.907Z"
   },
   {
    "duration": 387,
    "start_time": "2022-05-19T17:03:23.361Z"
   },
   {
    "duration": 1847,
    "start_time": "2022-05-19T17:04:30.713Z"
   },
   {
    "duration": 61,
    "start_time": "2022-05-19T17:06:43.054Z"
   },
   {
    "duration": 2,
    "start_time": "2022-05-19T17:22:37.289Z"
   },
   {
    "duration": 3,
    "start_time": "2022-05-19T17:25:11.151Z"
   },
   {
    "duration": 6,
    "start_time": "2022-05-19T17:25:36.104Z"
   },
   {
    "duration": 11,
    "start_time": "2022-05-19T17:31:38.522Z"
   },
   {
    "duration": 24,
    "start_time": "2022-05-19T17:31:49.555Z"
   },
   {
    "duration": 5,
    "start_time": "2022-05-19T17:33:16.810Z"
   },
   {
    "duration": 5,
    "start_time": "2022-05-19T17:35:44.786Z"
   },
   {
    "duration": 3,
    "start_time": "2022-05-19T17:35:58.130Z"
   },
   {
    "duration": 4,
    "start_time": "2022-05-19T17:36:36.413Z"
   },
   {
    "duration": 3,
    "start_time": "2022-05-19T17:37:24.677Z"
   },
   {
    "duration": 4,
    "start_time": "2022-05-19T17:37:34.988Z"
   },
   {
    "duration": 4,
    "start_time": "2022-05-19T17:38:36.972Z"
   },
   {
    "duration": 5,
    "start_time": "2022-05-19T17:38:39.878Z"
   },
   {
    "duration": 3,
    "start_time": "2022-05-19T17:38:59.817Z"
   },
   {
    "duration": 7,
    "start_time": "2022-05-19T17:39:01.073Z"
   },
   {
    "duration": 3,
    "start_time": "2022-05-19T17:39:07.389Z"
   },
   {
    "duration": 3,
    "start_time": "2022-05-19T17:39:12.777Z"
   },
   {
    "duration": 3,
    "start_time": "2022-05-19T17:41:08.784Z"
   },
   {
    "duration": 41,
    "start_time": "2022-05-19T17:46:42.275Z"
   },
   {
    "duration": 18,
    "start_time": "2022-05-19T17:46:47.885Z"
   },
   {
    "duration": 15,
    "start_time": "2022-05-19T17:46:55.259Z"
   },
   {
    "duration": 11,
    "start_time": "2022-05-19T17:47:07.347Z"
   },
   {
    "duration": 5,
    "start_time": "2022-05-19T17:47:24.889Z"
   },
   {
    "duration": 13,
    "start_time": "2022-05-19T17:48:14.371Z"
   },
   {
    "duration": 10,
    "start_time": "2022-05-19T17:48:50.266Z"
   },
   {
    "duration": 3,
    "start_time": "2022-05-19T17:49:43.121Z"
   },
   {
    "duration": 50,
    "start_time": "2022-05-19T17:49:45.453Z"
   },
   {
    "duration": 4,
    "start_time": "2022-05-19T17:49:47.311Z"
   },
   {
    "duration": 11,
    "start_time": "2022-05-19T17:49:48.583Z"
   },
   {
    "duration": 202,
    "start_time": "2022-05-19T17:51:06.425Z"
   },
   {
    "duration": 6,
    "start_time": "2022-05-19T17:56:20.093Z"
   },
   {
    "duration": 25,
    "start_time": "2022-05-19T17:56:42.057Z"
   },
   {
    "duration": 10,
    "start_time": "2022-05-19T17:56:51.994Z"
   },
   {
    "duration": 7,
    "start_time": "2022-05-19T17:58:47.567Z"
   },
   {
    "duration": 3,
    "start_time": "2022-05-19T17:58:48.995Z"
   },
   {
    "duration": 57,
    "start_time": "2022-05-19T17:58:50.086Z"
   },
   {
    "duration": 5,
    "start_time": "2022-05-19T17:58:51.143Z"
   },
   {
    "duration": 11,
    "start_time": "2022-05-19T17:58:52.976Z"
   },
   {
    "duration": 6,
    "start_time": "2022-05-19T17:58:54.610Z"
   },
   {
    "duration": 16,
    "start_time": "2022-05-19T17:58:55.840Z"
   },
   {
    "duration": 7,
    "start_time": "2022-05-19T17:59:12.713Z"
   },
   {
    "duration": 8,
    "start_time": "2022-05-19T17:59:34.281Z"
   },
   {
    "duration": 46,
    "start_time": "2022-05-19T18:02:22.159Z"
   },
   {
    "duration": 36,
    "start_time": "2022-05-19T18:04:03.220Z"
   },
   {
    "duration": 10,
    "start_time": "2022-05-19T18:04:21.327Z"
   },
   {
    "duration": 4,
    "start_time": "2022-05-19T18:04:27.003Z"
   },
   {
    "duration": 8,
    "start_time": "2022-05-19T18:04:44.094Z"
   },
   {
    "duration": 3,
    "start_time": "2022-05-19T18:04:45.375Z"
   },
   {
    "duration": 4,
    "start_time": "2022-05-19T18:04:55.445Z"
   },
   {
    "duration": 5,
    "start_time": "2022-05-19T18:05:09.644Z"
   },
   {
    "duration": 19,
    "start_time": "2022-05-19T18:05:58.728Z"
   },
   {
    "duration": 13,
    "start_time": "2022-05-19T18:09:49.776Z"
   },
   {
    "duration": 13,
    "start_time": "2022-05-19T18:09:56.071Z"
   },
   {
    "duration": 23,
    "start_time": "2022-05-19T18:10:01.746Z"
   },
   {
    "duration": 17,
    "start_time": "2022-05-19T18:10:12.405Z"
   },
   {
    "duration": 13,
    "start_time": "2022-05-19T18:10:38.163Z"
   },
   {
    "duration": 7,
    "start_time": "2022-05-19T18:10:39.608Z"
   },
   {
    "duration": 3,
    "start_time": "2022-05-19T18:10:41.143Z"
   },
   {
    "duration": 14,
    "start_time": "2022-05-19T18:10:46.520Z"
   },
   {
    "duration": 12,
    "start_time": "2022-05-19T18:12:09.003Z"
   },
   {
    "duration": 13,
    "start_time": "2022-05-19T18:13:01.297Z"
   },
   {
    "duration": 242,
    "start_time": "2022-05-19T18:13:09.598Z"
   },
   {
    "duration": 347,
    "start_time": "2022-05-19T18:14:40.246Z"
   },
   {
    "duration": 235,
    "start_time": "2022-05-19T18:14:47.334Z"
   },
   {
    "duration": 255,
    "start_time": "2022-05-19T18:16:16.401Z"
   },
   {
    "duration": 305,
    "start_time": "2022-05-19T18:16:25.762Z"
   },
   {
    "duration": 2864,
    "start_time": "2022-05-19T18:16:52.738Z"
   },
   {
    "duration": 54,
    "start_time": "2022-05-19T18:17:02.096Z"
   },
   {
    "duration": 34,
    "start_time": "2022-05-19T18:17:04.521Z"
   },
   {
    "duration": 21,
    "start_time": "2022-05-19T18:17:12.558Z"
   },
   {
    "duration": 15,
    "start_time": "2022-05-19T18:18:42.998Z"
   },
   {
    "duration": 4,
    "start_time": "2022-05-19T18:18:45.253Z"
   },
   {
    "duration": 11,
    "start_time": "2022-05-19T18:19:43.317Z"
   },
   {
    "duration": 5,
    "start_time": "2022-05-19T18:19:46.931Z"
   },
   {
    "duration": 16,
    "start_time": "2022-05-19T18:23:37.888Z"
   },
   {
    "duration": 17,
    "start_time": "2022-05-19T18:24:05.497Z"
   },
   {
    "duration": 23,
    "start_time": "2022-05-19T18:24:20.950Z"
   },
   {
    "duration": 11,
    "start_time": "2022-05-19T18:24:29.726Z"
   },
   {
    "duration": 9,
    "start_time": "2022-05-19T18:24:45.809Z"
   },
   {
    "duration": 12,
    "start_time": "2022-05-19T18:24:54.588Z"
   },
   {
    "duration": 11,
    "start_time": "2022-05-19T18:26:16.002Z"
   },
   {
    "duration": 8,
    "start_time": "2022-05-19T18:29:33.332Z"
   },
   {
    "duration": 14,
    "start_time": "2022-05-19T18:29:34.383Z"
   },
   {
    "duration": 19,
    "start_time": "2022-05-19T18:29:38.004Z"
   },
   {
    "duration": 7,
    "start_time": "2022-05-19T18:29:41.143Z"
   },
   {
    "duration": 15,
    "start_time": "2022-05-19T18:29:42.712Z"
   },
   {
    "duration": 13,
    "start_time": "2022-05-19T18:29:46.604Z"
   },
   {
    "duration": 713,
    "start_time": "2022-05-19T18:29:50.521Z"
   },
   {
    "duration": 1281,
    "start_time": "2022-05-19T19:10:53.895Z"
   },
   {
    "duration": 78,
    "start_time": "2022-05-19T19:10:55.179Z"
   },
   {
    "duration": 7,
    "start_time": "2022-05-19T19:10:55.258Z"
   },
   {
    "duration": 68,
    "start_time": "2022-05-19T19:10:55.271Z"
   },
   {
    "duration": 11,
    "start_time": "2022-05-19T19:10:55.342Z"
   },
   {
    "duration": 52,
    "start_time": "2022-05-19T19:10:55.355Z"
   },
   {
    "duration": 12,
    "start_time": "2022-05-19T19:10:55.409Z"
   },
   {
    "duration": 499,
    "start_time": "2022-05-19T19:10:55.423Z"
   },
   {
    "duration": 13,
    "start_time": "2022-05-19T19:10:55.925Z"
   },
   {
    "duration": 22,
    "start_time": "2022-05-19T19:10:55.940Z"
   },
   {
    "duration": 55,
    "start_time": "2022-05-19T19:10:55.964Z"
   },
   {
    "duration": 30,
    "start_time": "2022-05-19T19:10:56.022Z"
   },
   {
    "duration": 5,
    "start_time": "2022-05-19T19:10:56.055Z"
   },
   {
    "duration": 5,
    "start_time": "2022-05-19T19:10:56.147Z"
   },
   {
    "duration": 56,
    "start_time": "2022-05-19T19:10:56.153Z"
   },
   {
    "duration": 11,
    "start_time": "2022-05-19T19:10:56.211Z"
   },
   {
    "duration": 13,
    "start_time": "2022-05-19T19:10:56.225Z"
   },
   {
    "duration": 17,
    "start_time": "2022-05-19T19:10:56.240Z"
   },
   {
    "duration": 58,
    "start_time": "2022-05-19T19:10:56.259Z"
   },
   {
    "duration": 13,
    "start_time": "2022-05-19T19:10:56.319Z"
   },
   {
    "duration": 249,
    "start_time": "2022-05-19T19:10:56.334Z"
   },
   {
    "duration": 15,
    "start_time": "2022-05-19T19:10:56.596Z"
   },
   {
    "duration": 4,
    "start_time": "2022-05-19T19:10:56.612Z"
   },
   {
    "duration": 13,
    "start_time": "2022-05-19T19:10:56.618Z"
   },
   {
    "duration": 167,
    "start_time": "2022-05-19T19:10:56.633Z"
   },
   {
    "duration": 109,
    "start_time": "2022-05-19T19:10:56.802Z"
   },
   {
    "duration": 25,
    "start_time": "2022-05-19T19:10:56.912Z"
   },
   {
    "duration": 23,
    "start_time": "2022-05-19T19:10:56.939Z"
   },
   {
    "duration": 67,
    "start_time": "2022-05-19T19:10:56.967Z"
   },
   {
    "duration": 317,
    "start_time": "2022-05-19T19:10:57.035Z"
   },
   {
    "duration": 18,
    "start_time": "2022-05-19T19:10:57.354Z"
   },
   {
    "duration": 292,
    "start_time": "2022-05-19T19:10:57.375Z"
   },
   {
    "duration": 1185,
    "start_time": "2022-05-19T19:10:57.668Z"
   },
   {
    "duration": 354,
    "start_time": "2022-05-19T19:10:58.867Z"
   },
   {
    "duration": 1087,
    "start_time": "2022-05-19T19:10:59.223Z"
   },
   {
    "duration": 353,
    "start_time": "2022-05-19T19:11:00.312Z"
   },
   {
    "duration": 27,
    "start_time": "2022-05-19T19:11:00.667Z"
   },
   {
    "duration": 152,
    "start_time": "2022-05-19T19:11:00.696Z"
   },
   {
    "duration": 153,
    "start_time": "2022-05-19T19:11:00.850Z"
   },
   {
    "duration": 194,
    "start_time": "2022-05-19T19:11:01.005Z"
   },
   {
    "duration": 125,
    "start_time": "2022-05-19T19:11:01.206Z"
   },
   {
    "duration": 35,
    "start_time": "2022-05-19T19:11:01.333Z"
   },
   {
    "duration": 99,
    "start_time": "2022-05-19T19:11:01.370Z"
   },
   {
    "duration": 506,
    "start_time": "2022-05-19T19:11:01.470Z"
   },
   {
    "duration": 16,
    "start_time": "2022-05-19T19:11:01.983Z"
   },
   {
    "duration": 76,
    "start_time": "2022-05-19T19:11:02.002Z"
   },
   {
    "duration": 661,
    "start_time": "2022-05-19T19:11:02.084Z"
   },
   {
    "duration": 1869,
    "start_time": "2022-05-19T19:11:02.747Z"
   },
   {
    "duration": 1596,
    "start_time": "2022-05-19T19:11:04.618Z"
   },
   {
    "duration": 5,
    "start_time": "2022-05-19T19:11:06.216Z"
   },
   {
    "duration": 75,
    "start_time": "2022-05-19T19:11:06.223Z"
   },
   {
    "duration": 65,
    "start_time": "2022-05-19T19:11:06.301Z"
   },
   {
    "duration": 4,
    "start_time": "2022-05-19T19:11:06.368Z"
   },
   {
    "duration": 39,
    "start_time": "2022-05-19T19:11:06.375Z"
   },
   {
    "duration": 20,
    "start_time": "2022-05-19T19:11:06.416Z"
   },
   {
    "duration": 9,
    "start_time": "2022-05-19T19:11:06.439Z"
   },
   {
    "duration": 55,
    "start_time": "2022-05-19T19:11:06.450Z"
   },
   {
    "duration": 25,
    "start_time": "2022-05-19T19:11:06.507Z"
   },
   {
    "duration": 24,
    "start_time": "2022-05-19T19:11:06.534Z"
   },
   {
    "duration": 282,
    "start_time": "2022-05-19T19:11:06.567Z"
   },
   {
    "duration": 294,
    "start_time": "2022-05-19T19:11:06.852Z"
   },
   {
    "duration": 3281,
    "start_time": "2022-05-19T19:11:07.148Z"
   },
   {
    "duration": 73,
    "start_time": "2022-05-19T19:11:10.432Z"
   },
   {
    "duration": 28,
    "start_time": "2022-05-19T19:11:10.507Z"
   },
   {
    "duration": 41,
    "start_time": "2022-05-19T19:11:10.537Z"
   },
   {
    "duration": 24,
    "start_time": "2022-05-19T19:11:10.584Z"
   },
   {
    "duration": 4,
    "start_time": "2022-05-19T19:11:10.610Z"
   },
   {
    "duration": 17,
    "start_time": "2022-05-19T19:11:10.616Z"
   },
   {
    "duration": 10,
    "start_time": "2022-05-19T19:11:10.635Z"
   },
   {
    "duration": 19,
    "start_time": "2022-05-19T19:11:10.647Z"
   },
   {
    "duration": 40,
    "start_time": "2022-05-19T19:11:10.668Z"
   },
   {
    "duration": 11,
    "start_time": "2022-05-19T19:11:10.711Z"
   },
   {
    "duration": 16,
    "start_time": "2022-05-19T19:11:10.724Z"
   },
   {
    "duration": 17,
    "start_time": "2022-05-19T19:11:10.742Z"
   },
   {
    "duration": 32,
    "start_time": "2022-05-19T19:11:10.760Z"
   },
   {
    "duration": 26,
    "start_time": "2022-05-19T19:11:10.797Z"
   },
   {
    "duration": 14,
    "start_time": "2022-05-19T19:11:10.826Z"
   },
   {
    "duration": 741,
    "start_time": "2022-05-19T19:11:10.842Z"
   },
   {
    "duration": 3943,
    "start_time": "2022-05-20T14:38:47.773Z"
   },
   {
    "duration": 1257,
    "start_time": "2022-05-20T14:47:18.081Z"
   },
   {
    "duration": 71,
    "start_time": "2022-05-20T14:47:19.340Z"
   },
   {
    "duration": 2,
    "start_time": "2022-05-20T14:47:19.413Z"
   },
   {
    "duration": 37,
    "start_time": "2022-05-20T14:47:19.418Z"
   },
   {
    "duration": 8,
    "start_time": "2022-05-20T14:47:19.457Z"
   },
   {
    "duration": 36,
    "start_time": "2022-05-20T14:47:19.467Z"
   },
   {
    "duration": 13,
    "start_time": "2022-05-20T14:47:19.505Z"
   },
   {
    "duration": 461,
    "start_time": "2022-05-20T14:47:19.520Z"
   },
   {
    "duration": 19,
    "start_time": "2022-05-20T14:47:19.984Z"
   },
   {
    "duration": 3,
    "start_time": "2022-05-20T14:47:20.006Z"
   },
   {
    "duration": 27,
    "start_time": "2022-05-20T14:47:20.011Z"
   },
   {
    "duration": 107,
    "start_time": "2022-05-20T14:47:20.039Z"
   },
   {
    "duration": 5,
    "start_time": "2022-05-20T14:47:20.147Z"
   },
   {
    "duration": 6,
    "start_time": "2022-05-20T14:47:20.156Z"
   },
   {
    "duration": 16,
    "start_time": "2022-05-20T14:47:20.164Z"
   },
   {
    "duration": 30,
    "start_time": "2022-05-20T14:47:20.181Z"
   },
   {
    "duration": 5,
    "start_time": "2022-05-20T14:47:20.213Z"
   },
   {
    "duration": 5,
    "start_time": "2022-05-20T14:47:20.220Z"
   },
   {
    "duration": 15,
    "start_time": "2022-05-20T14:47:20.226Z"
   },
   {
    "duration": 7,
    "start_time": "2022-05-20T14:47:20.243Z"
   },
   {
    "duration": 227,
    "start_time": "2022-05-20T14:47:20.252Z"
   },
   {
    "duration": 30,
    "start_time": "2022-05-20T14:47:20.480Z"
   },
   {
    "duration": 4,
    "start_time": "2022-05-20T14:47:20.512Z"
   },
   {
    "duration": 11,
    "start_time": "2022-05-20T14:47:20.518Z"
   },
   {
    "duration": 157,
    "start_time": "2022-05-20T14:47:20.530Z"
   },
   {
    "duration": 95,
    "start_time": "2022-05-20T14:47:20.689Z"
   },
   {
    "duration": 35,
    "start_time": "2022-05-20T14:47:20.786Z"
   },
   {
    "duration": 7,
    "start_time": "2022-05-20T14:47:20.824Z"
   },
   {
    "duration": 69,
    "start_time": "2022-05-20T14:47:20.833Z"
   },
   {
    "duration": 293,
    "start_time": "2022-05-20T14:47:20.903Z"
   },
   {
    "duration": 15,
    "start_time": "2022-05-20T14:47:21.198Z"
   },
   {
    "duration": 245,
    "start_time": "2022-05-20T14:47:21.214Z"
   },
   {
    "duration": 1054,
    "start_time": "2022-05-20T14:47:21.461Z"
   },
   {
    "duration": 300,
    "start_time": "2022-05-20T14:47:22.517Z"
   },
   {
    "duration": 1031,
    "start_time": "2022-05-20T14:47:22.818Z"
   },
   {
    "duration": 304,
    "start_time": "2022-05-20T14:47:23.851Z"
   },
   {
    "duration": 22,
    "start_time": "2022-05-20T14:47:24.157Z"
   },
   {
    "duration": 5,
    "start_time": "2022-05-20T14:47:24.180Z"
   },
   {
    "duration": 12,
    "start_time": "2022-05-20T14:47:24.201Z"
   },
   {
    "duration": 3,
    "start_time": "2022-05-20T14:47:24.215Z"
   },
   {
    "duration": 10,
    "start_time": "2022-05-20T14:47:24.221Z"
   },
   {
    "duration": 77,
    "start_time": "2022-05-20T14:47:38.384Z"
   },
   {
    "duration": 9,
    "start_time": "2022-05-20T14:47:58.823Z"
   },
   {
    "duration": 15,
    "start_time": "2022-05-20T14:48:33.744Z"
   },
   {
    "duration": 16,
    "start_time": "2022-05-20T14:48:38.680Z"
   },
   {
    "duration": 14,
    "start_time": "2022-05-20T14:48:45.891Z"
   },
   {
    "duration": 33,
    "start_time": "2022-05-20T14:59:58.738Z"
   },
   {
    "duration": 33,
    "start_time": "2022-05-20T15:01:56.257Z"
   }
  ],
  "kernelspec": {
   "display_name": "Python 3",
   "language": "python",
   "name": "python3"
  },
  "language_info": {
   "codemirror_mode": {
    "name": "ipython",
    "version": 3
   },
   "file_extension": ".py",
   "mimetype": "text/x-python",
   "name": "python",
   "nbconvert_exporter": "python",
   "pygments_lexer": "ipython3",
   "version": "3.8.2"
  },
  "toc": {
   "base_numbering": 1,
   "nav_menu": {},
   "number_sections": true,
   "sideBar": true,
   "skip_h1_title": true,
   "title_cell": "Table of Contents",
   "title_sidebar": "Contents",
   "toc_cell": true,
   "toc_position": {
    "height": "calc(100% - 180px)",
    "left": "10px",
    "top": "150px",
    "width": "281.6px"
   },
   "toc_section_display": true,
   "toc_window_display": true
  }
 },
 "nbformat": 4,
 "nbformat_minor": 2
}
